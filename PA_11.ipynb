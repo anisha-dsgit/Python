{
 "cells": [
  {
   "attachments": {},
   "cell_type": "markdown",
   "metadata": {},
   "source": [
    "1. Write a Python program to find words which are greater than given length k?\n",
    "2. Write a Python program for removing i-th character from a string?\n",
    "3. Write a Python program to split and join a string?\n",
    "4. Write a Python to check if a given string is binary string or not?\n",
    "5. Write a Python program to find uncommon words from two Strings?\n",
    "6. Write a Python to find all duplicate characters in string?\n",
    "7. Write a Python Program to check if a string contains any special character?"
   ]
  },
  {
   "cell_type": "code",
   "execution_count": 11,
   "metadata": {},
   "outputs": [
    {
     "name": "stdout",
     "output_type": "stream",
     "text": [
      "The string is a binary string.\n"
     ]
    }
   ],
   "source": [
    "#solution to 4\n",
    "def is_binary_string(string):\n",
    "    for char in string:\n",
    "        if char != '0' and char != '1':\n",
    "            return False\n",
    "    return True\n",
    "\n",
    "input_string = input(\"Enter a string: \")\n",
    "\n",
    "if is_binary_string(input_string):\n",
    "    print(\"The string is a binary string.\")\n",
    "else:\n",
    "    print(\"The string is not a binary string.\")"
   ]
  },
  {
   "cell_type": "code",
   "execution_count": 10,
   "metadata": {},
   "outputs": [
    {
     "name": "stdout",
     "output_type": "stream",
     "text": [
      "['how', 'are', 'you', 'doin']\n",
      "how_are_you_doin\n"
     ]
    }
   ],
   "source": [
    "#solution to 3:\n",
    "input_string = input(\"Enter a string: \")\n",
    "input_delimiter = input(\"Enter the delimiter: \")\n",
    "\n",
    "split_String_by_tab= input_string.split()\n",
    "print(split_String_by_tab)\n",
    "\n",
    "joined_String=\"_\".join(split_String_by_tab)\n",
    "print(joined_String)\n",
    "\n"
   ]
  },
  {
   "cell_type": "code",
   "execution_count": 4,
   "metadata": {},
   "outputs": [
    {
     "name": "stdout",
     "output_type": "stream",
     "text": [
      "how are you doing today ?\n",
      " Final string: how ar you doing today ?\n"
     ]
    }
   ],
   "source": [
    "#solution to 2:\n",
    "def remove_character(string, i):\n",
    "    if i < 0 or i >= len(string):\n",
    "        return string\n",
    "    return string[:i] + string[i+1:]\n",
    "\n",
    "string = input(\"Enter a string: \")\n",
    "index = int(input(\"Enter the index of the character to remove: \"))\n",
    "\n",
    "result = remove_character(string, index)\n",
    "print(string)\n",
    "print(\" Final string:\", result)"
   ]
  },
  {
   "cell_type": "code",
   "execution_count": 1,
   "metadata": {},
   "outputs": [
    {
     "name": "stdout",
     "output_type": "stream",
     "text": [
      "Words greater than length 4 :\n",
      "['anisha', 'sweet']\n"
     ]
    }
   ],
   "source": [
    "#solution to 1:\n",
    "def find_words_greater_than_length(word_list, k):\n",
    "    result = []\n",
    "    for word in word_list:\n",
    "        if len(word) > k:\n",
    "            result.append(word)\n",
    "    return result\n",
    "\n",
    "# Test the function\n",
    "words = input(\"Enter a sentence: \").split()\n",
    "length = int(input(\"Enter length to filter: \"))\n",
    "\n",
    "result_words = find_words_greater_than_length(words, length)\n",
    "print(\"Words greater than length\", length, \":\")\n",
    "print(result_words)"
   ]
  },
  {
   "cell_type": "code",
   "execution_count": null,
   "metadata": {},
   "outputs": [],
   "source": []
  }
 ],
 "metadata": {
  "kernelspec": {
   "display_name": "Python 3",
   "language": "python",
   "name": "python3"
  },
  "language_info": {
   "codemirror_mode": {
    "name": "ipython",
    "version": 3
   },
   "file_extension": ".py",
   "mimetype": "text/x-python",
   "name": "python",
   "nbconvert_exporter": "python",
   "pygments_lexer": "ipython3",
   "version": "3.10.4"
  },
  "orig_nbformat": 4
 },
 "nbformat": 4,
 "nbformat_minor": 2
}
