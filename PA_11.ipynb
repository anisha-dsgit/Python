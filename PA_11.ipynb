{
 "cells": [
  {
   "cell_type": "code",
   "execution_count": 44,
   "metadata": {},
   "outputs": [
    {
     "name": "stdout",
     "output_type": "stream",
     "text": [
      "today is a beautiful day!\n",
      "string contains special characters\n"
     ]
    }
   ],
   "source": [
    "# 7. Write a Python Program to check if a string contains any special character?\n",
    "\n",
    "special_list=[\"#\",\"@\",\"$\",\"%\",\"^\",\"&\",\"*\",\"!\",\"~\",\"`\",\"_\",\">\",\"<\",\"?\",\"/\",\"|\"]\n",
    "\n",
    "def special_Char(string):\n",
    "    for i in special_list:\n",
    "        if i in string:\n",
    "            return \"string contains special characters\"\n",
    "        \n",
    "    return \"doesn't contain special characters\"\n",
    "\n",
    "string0=input(\"enter any string to check for special characters: \")\n",
    "print(string0)\n",
    "result =special_Char(string0)\n",
    "print(result)"
   ]
  },
  {
   "cell_type": "code",
   "execution_count": 40,
   "metadata": {},
   "outputs": [
    {
     "name": "stdout",
     "output_type": "stream",
     "text": [
      "vhbvhbt  vgiboibiobibb bgjgnbj\n",
      "{'vhbvhbt': 1, 'vgiboibiobibb': 2, 'bgjgnbj': 3}\n"
     ]
    }
   ],
   "source": [
    "#6. Write a Python code to find all duplicate characters in string?\n",
    "def duplicate_characters(input_string):\n",
    "    count=0\n",
    "    new_dict={}\n",
    "    for i in range(0,len(input_string)):\n",
    "        count=count+1\n",
    "        new_dict[i]=count\n",
    "    return new_dict\n",
    "\n",
    "\n",
    "input_string=input(\"Provide a string to check for duplicate characters. \")  \n",
    "print(input_string)\n",
    "duplicate= duplicate_characters(input_string)\n",
    "print(duplicate)  "
   ]
  },
  {
   "cell_type": "code",
   "execution_count": 32,
   "metadata": {},
   "outputs": [
    {
     "name": "stdout",
     "output_type": "stream",
     "text": [
      "total uncommon words are:  {'is', 'today', 'day', 'I', 'girl', 'am'}\n"
     ]
    }
   ],
   "source": [
    "#5. Write a Python program to find uncommon words from two Strings?\n",
    "\n",
    "def uncommon_words(string1,string2):\n",
    "\n",
    "    words_1=set(string1.split())\n",
    "    words_2=set(string2.split())\n",
    "\n",
    "    uncommon_words1=words_1-words_2\n",
    "    uncommon_words2=words_2-words_1\n",
    "    total_uncommon_word=uncommon_words1.union(uncommon_words2)\n",
    "\n",
    "    return total_uncommon_word\n",
    "\n",
    "string1=\"I am a beautiful girl \"\n",
    "string2=\"today is a beautiful day\"\n",
    "total_words=uncommon_words(string1,string2)\n",
    "print(\"total uncommon words are: \",total_words)\n"
   ]
  },
  {
   "cell_type": "code",
   "execution_count": 15,
   "metadata": {},
   "outputs": [
    {
     "name": "stdout",
     "output_type": "stream",
     "text": [
      "1010101011111\n",
      "The string is a binary string.\n"
     ]
    }
   ],
   "source": [
    "#4. Write a Python to check if a given string is binary string or not?\n",
    "#solution to 4\n",
    "def is_binary_string(string):\n",
    "    for char in string:\n",
    "        if char != '0' and char != '1':\n",
    "            return False\n",
    "    return True\n",
    "\n",
    "input_string = input(\"Enter a string: \")\n",
    "print(input_string)\n",
    "if is_binary_string(input_string):\n",
    "    print(\"The string is a binary string.\")\n",
    "else:\n",
    "    print(\"The string is not a binary string.\")"
   ]
  },
  {
   "cell_type": "code",
   "execution_count": 12,
   "metadata": {},
   "outputs": [
    {
     "name": "stdout",
     "output_type": "stream",
     "text": [
      "['today', 'is', 'a', 'beautiful', 'day']\n",
      "today*is*a*beautiful*day\n"
     ]
    }
   ],
   "source": [
    "#3. Write a Python program to split and join a string?\n",
    "#solution to 3:\n",
    "input_string = input(\"Enter a string: \")\n",
    "input_delimiter = input(\"Enter the delimiter to join: \")\n",
    "\n",
    "split_String= input_string.split()\n",
    "print(split_String)\n",
    "\n",
    "joined_String=input_delimiter.join(split_String)\n",
    "print(joined_String)\n",
    "\n"
   ]
  },
  {
   "cell_type": "code",
   "execution_count": 6,
   "metadata": {},
   "outputs": [
    {
     "ename": "TypeError",
     "evalue": "'str' object does not support item assignment",
     "output_type": "error",
     "traceback": [
      "\u001b[1;31m---------------------------------------------------------------------------\u001b[0m",
      "\u001b[1;31mTypeError\u001b[0m                                 Traceback (most recent call last)",
      "\u001b[1;32md:\\python\\Python\\PA_11.ipynb Cell 7\u001b[0m line \u001b[0;36m1\n\u001b[0;32m      <a href='vscode-notebook-cell:/d%3A/python/Python/PA_11.ipynb#W6sZmlsZQ%3D%3D?line=8'>9</a>\u001b[0m string \u001b[39m=\u001b[39m \u001b[39minput\u001b[39m(\u001b[39m\"\u001b[39m\u001b[39mEnter a string: \u001b[39m\u001b[39m\"\u001b[39m)\n\u001b[0;32m     <a href='vscode-notebook-cell:/d%3A/python/Python/PA_11.ipynb#W6sZmlsZQ%3D%3D?line=9'>10</a>\u001b[0m index \u001b[39m=\u001b[39m \u001b[39mint\u001b[39m(\u001b[39minput\u001b[39m(\u001b[39m\"\u001b[39m\u001b[39mEnter the index of the character to remove: \u001b[39m\u001b[39m\"\u001b[39m))\n\u001b[1;32m---> <a href='vscode-notebook-cell:/d%3A/python/Python/PA_11.ipynb#W6sZmlsZQ%3D%3D?line=11'>12</a>\u001b[0m result \u001b[39m=\u001b[39m remove_character(string, index)\n\u001b[0;32m     <a href='vscode-notebook-cell:/d%3A/python/Python/PA_11.ipynb#W6sZmlsZQ%3D%3D?line=12'>13</a>\u001b[0m \u001b[39mprint\u001b[39m(string)\n\u001b[0;32m     <a href='vscode-notebook-cell:/d%3A/python/Python/PA_11.ipynb#W6sZmlsZQ%3D%3D?line=13'>14</a>\u001b[0m \u001b[39mprint\u001b[39m(\u001b[39m\"\u001b[39m\u001b[39m Final string: \u001b[39m\u001b[39m\"\u001b[39m, result)\n",
      "\u001b[1;32md:\\python\\Python\\PA_11.ipynb Cell 7\u001b[0m line \u001b[0;36m6\n\u001b[0;32m      <a href='vscode-notebook-cell:/d%3A/python/Python/PA_11.ipynb#W6sZmlsZQ%3D%3D?line=3'>4</a>\u001b[0m new_string \u001b[39m=\u001b[39m\u001b[39m\"\u001b[39m\u001b[39m\"\u001b[39m\n\u001b[0;32m      <a href='vscode-notebook-cell:/d%3A/python/Python/PA_11.ipynb#W6sZmlsZQ%3D%3D?line=4'>5</a>\u001b[0m \u001b[39mfor\u001b[39;00m index \u001b[39min\u001b[39;00m \u001b[39mrange\u001b[39m(\u001b[39mlen\u001b[39m(string)):\n\u001b[1;32m----> <a href='vscode-notebook-cell:/d%3A/python/Python/PA_11.ipynb#W6sZmlsZQ%3D%3D?line=5'>6</a>\u001b[0m      new_string[index]\u001b[39m=\u001b[39mstring[:index]\u001b[39m+\u001b[39mstring[index\u001b[39m+\u001b[39m\u001b[39m1\u001b[39m:]\n\u001b[0;32m      <a href='vscode-notebook-cell:/d%3A/python/Python/PA_11.ipynb#W6sZmlsZQ%3D%3D?line=6'>7</a>\u001b[0m \u001b[39mreturn\u001b[39;00m new_string, index\n",
      "\u001b[1;31mTypeError\u001b[0m: 'str' object does not support item assignment"
     ]
    }
   ],
   "source": [
    "#2. Write a Python program for removing i-th character from a string?\n",
    "#solution to 2:\n",
    "def remove_character(string,i):\n",
    "    new_string =\" \"\n",
    "    for i in range(len(string)):\n",
    "         new_string[i]=string[:i]+string[i+1:]\n",
    "    return new_string, i\n",
    "\n",
    "string = input(\"Enter a string: \")\n",
    "i= int(input(\"Enter the ith character to be removed: \"))\n",
    "result = remove_character(string, i)\n",
    "print(string)\n",
    "print(\" Final string: \", result)"
   ]
  },
  {
   "cell_type": "code",
   "execution_count": 5,
   "metadata": {},
   "outputs": [
    {
     "name": "stdout",
     "output_type": "stream",
     "text": [
      "Words greater than length 3 :\n",
      "['today', 'beautiful', 'enjoying']\n"
     ]
    }
   ],
   "source": [
    "#1. Write a Python program to find words which are greater than given length k?\n",
    "#solution to 1:\n",
    "def find_words_greater_than_length(words_list, k):\n",
    "    result = []\n",
    "    for word in words_list:\n",
    "        if len(word) > k:\n",
    "            result.append(word)\n",
    "    return result\n",
    "\n",
    "# Test the function\n",
    "string = input(\"Enter a sentence: \")\n",
    "words_list=string.split()\n",
    "length = int(input(\"Enter length to filter: \"))\n",
    "\n",
    "result_words = find_words_greater_than_length(words_list, length)\n",
    "print(\"Words greater than length\", length, \":\")\n",
    "print(result_words)"
   ]
  },
  {
   "cell_type": "code",
   "execution_count": null,
   "metadata": {},
   "outputs": [],
   "source": []
  }
 ],
 "metadata": {
  "kernelspec": {
   "display_name": "Python 3",
   "language": "python",
   "name": "python3"
  },
  "language_info": {
   "codemirror_mode": {
    "name": "ipython",
    "version": 3
   },
   "file_extension": ".py",
   "mimetype": "text/x-python",
   "name": "python",
   "nbconvert_exporter": "python",
   "pygments_lexer": "ipython3",
   "version": "3.10.12"
  },
  "orig_nbformat": 4
 },
 "nbformat": 4,
 "nbformat_minor": 2
}
