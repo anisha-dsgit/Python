{
 "cells": [
  {
   "cell_type": "markdown",
   "id": "08426bb7",
   "metadata": {},
   "source": [
    "Q1. What is the purpose of Python&#39;s OOP?\n",
    "\n",
    "Q2. Where does an inheritance search look for an attribute?\n",
    "\n",
    "Q3. How do you distinguish between a class object and an instance object?\n",
    "\n",
    "Q4. What makes the first argument in a class’s method function special?\n",
    "\n",
    "Q5. What is the purpose of the __init__ method?\n",
    "\n",
    "Q6. What is the process for creating a class instance?\n",
    "\n",
    "Q7. What is the process for creating a class?\n",
    "\n",
    "Q8. How would you define the superclasses of a class?"
   ]
  },
  {
   "cell_type": "markdown",
   "id": "5effefa5",
   "metadata": {},
   "source": [
    "1. OOP make it a popular choice for developing complex and large-scale software applications, \n",
    "   such as video games, web applications, and enterprise systems as it helps reuse of classes, helps easy modification of          classes and it is more concerned with the output of the program rather than the input. we can control the security of the        variables."
   ]
  },
  {
   "cell_type": "markdown",
   "id": "6d1b5959",
   "metadata": {},
   "source": [
    "2.  when an attribute is accessed on an instance of a class, the interpreter first searches for the attribute in the instance's own namespace. If the attribute is not found in the instance's namespace, the interpreter then searches for it in the class's namespace. If the attribute is not found in the class's namespace, the interpreter then searches for it in the namespaces of any superclasses in the class hierarchy.\n",
    "\n",
    "This search order is known as the Method Resolution Order (MRO) and is determined by the linearization of the class hierarchy. The linearization is calculated using a depth-first. "
   ]
  },
  {
   "cell_type": "markdown",
   "id": "44888799",
   "metadata": {},
   "source": [
    "3. class object is created outside the class when we call the class whereas instance object is created inside the class to       initialise the variables. "
   ]
  },
  {
   "cell_type": "markdown",
   "id": "09b55fe7",
   "metadata": {},
   "source": [
    "4. the first object is self which is special because only through this object we can access any variable initialised any number of times and anywhere within the class"
   ]
  },
  {
   "cell_type": "markdown",
   "id": "f59e84ae",
   "metadata": {},
   "source": [
    "5. purpose of __init__ is to initialise the variables for the class. "
   ]
  },
  {
   "cell_type": "markdown",
   "id": "09e59f6e",
   "metadata": {},
   "source": [
    "6. class instance is created like a unique object that can store value,this value can be modified and updated accordingly anywhere.multiple instances can be created from the same class that can share similar characteristics. \n"
   ]
  },
  {
   "cell_type": "markdown",
   "id": "cc5852d2",
   "metadata": {},
   "source": [
    "7. classes help in making a seperate module for a set of function. for example: class named math_operations can include addition, subtraction and other mathematical operations."
   ]
  },
  {
   "cell_type": "markdown",
   "id": "d1a872dd",
   "metadata": {},
   "source": [
    "8. Super classes are parent classes to child classes. like children are inherited from parent with some features, child class too displays characteristics or functions of parent classes after initializing parent class as super. "
   ]
  },
  {
   "cell_type": "code",
   "execution_count": null,
   "id": "0c7fc8f6",
   "metadata": {},
   "outputs": [],
   "source": []
  }
 ],
 "metadata": {
  "kernelspec": {
   "display_name": "Python 3 (ipykernel)",
   "language": "python",
   "name": "python3"
  },
  "language_info": {
   "codemirror_mode": {
    "name": "ipython",
    "version": 3
   },
   "file_extension": ".py",
   "mimetype": "text/x-python",
   "name": "python",
   "nbconvert_exporter": "python",
   "pygments_lexer": "ipython3",
   "version": "3.9.12"
  }
 },
 "nbformat": 4,
 "nbformat_minor": 5
}
