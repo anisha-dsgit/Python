{
 "cells": [
  {
   "cell_type": "markdown",
   "id": "c2d7c290",
   "metadata": {},
   "source": [
    "1. escape characters - '\\' - added to n, t for new line, tab space\n",
    "\n",
    "2. \\n - stands for new line , \\t- stands for tab space.\n",
    "\n",
    "3. to include backslash character in a string : string = '\\n gregarious'\n"
   ]
  },
  {
   "cell_type": "markdown",
   "id": "274f31e0",
   "metadata": {},
   "source": [
    "4. \"quotHowl's Moving Castle\"-  single quotes already is surrounded by double quotes to be included in a string \n",
    "\n",
    "5. string of new lines without n character -->  add new paramter in print. example: print(\"sjijbv fnejv\", end =\" \")\n"
   ]
  },
  {
   "cell_type": "markdown",
   "id": "b7ee71a1",
   "metadata": {},
   "source": [
    "6. outputs\n",
    "\n",
    "   \"Hello, world!\" [1]  ---->e\n",
    "   \n",
    "    \"Hello, world!\" [0:5]----->Hello\n",
    "    \n",
    "    \"Hello, world!\" [:5]----->Hello\n",
    "    \n",
    "    \"Hello, world!\" [3:]----->lo,world!\n",
    "    "
   ]
  },
  {
   "cell_type": "markdown",
   "id": "50083421",
   "metadata": {},
   "source": [
    "7. outputs:\n",
    "\n",
    "    'Hello'.upper()----> HELLO\n",
    "    \n",
    "    'Hello'.upper().isupper()---->True\n",
    "    \n",
    "    'Hello'.upper().lower()---->False\n",
    "\n",
    "\n",
    "8. outputs:\n",
    "\n",
    "    'Remember, remember, the fifth of July'.split() --->[ R,e,m,e,m,b,e,r,,, r,e,m,e,m,b,e,r,,, t,h,e, f,i,f,t,h, o,f, J,u,l,y]\n",
    "    \n",
    "    '-'.join('There can only one.'.split())-----> [T-h-e-r-e--c-a-n--o-n-l-y--o-n-e].\n",
    "\n"
   ]
  },
  {
   "cell_type": "markdown",
   "id": "b92d314d",
   "metadata": {},
   "source": [
    "9. methods for right-justifying, left-justifying, and centering a string?  ----> "
   ]
  },
  {
   "cell_type": "markdown",
   "id": "2ea9c25e",
   "metadata": {},
   "source": [
    "10. the best way to remove whitespace characters from the start or end.   ---> strip function."
   ]
  },
  {
   "cell_type": "code",
   "execution_count": null,
   "id": "b95bc16c",
   "metadata": {},
   "outputs": [],
   "source": []
  }
 ],
 "metadata": {
  "kernelspec": {
   "display_name": "Python 3 (ipykernel)",
   "language": "python",
   "name": "python3"
  },
  "language_info": {
   "codemirror_mode": {
    "name": "ipython",
    "version": 3
   },
   "file_extension": ".py",
   "mimetype": "text/x-python",
   "name": "python",
   "nbconvert_exporter": "python",
   "pygments_lexer": "ipython3",
   "version": "3.9.12"
  }
 },
 "nbformat": 4,
 "nbformat_minor": 5
}
