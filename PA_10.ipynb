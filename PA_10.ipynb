{
  "nbformat": 4,
  "nbformat_minor": 0,
  "metadata": {
    "colab": {
      "provenance": [],
      "authorship_tag": "ABX9TyMXCo2r0hq+KsaN+1hyyfAy"
    },
    "kernelspec": {
      "name": "python3",
      "display_name": "Python 3"
    },
    "language_info": {
      "name": "python"
    }
  },
  "cells": [
    {
      "cell_type": "markdown",
      "source": [
        "1. Write a Python program to find sum of elements in list?\n",
        "2. Write a Python program to Multiply all numbers in the list?\n",
        "3. Write a Python program to find smallest number in a list?\n",
        "4. Write a Python program to find largest number in a list?\n",
        "5. Write a Python program to find second largest number in a list?\n",
        "6. Write a Python program to find N largest elements from a list?\n",
        "7. Write a Python program to print even numbers in a list?\n",
        "8. Write a Python program to print odd numbers in a List?\n",
        "9. Write a Python program to Remove empty List from List?\n",
        "10. Write a Python program to Cloning or Copying a list?\n",
        "11. Write a Python program to Count occurrences of an element in a list?"
      ],
      "metadata": {
        "id": "OwAUQZey8vVl"
      }
    },
    {
      "cell_type": "code",
      "source": [
        "#solution to 1\n",
        "a_list=[1,2,3,56,7,8,8,2,2,4,0,0,6,6,6,77,9]\n",
        "sum=0\n",
        "for i in a_list:\n",
        "  sum+=i\n",
        "print(sum)\n"
      ],
      "metadata": {
        "colab": {
          "base_uri": "https://localhost:8080/"
        },
        "id": "YWm5SLV38xYI",
        "outputId": "3c558bd6-8091-4d37-854e-eee8d7b08c7d"
      },
      "execution_count": 1,
      "outputs": [
        {
          "output_type": "stream",
          "name": "stdout",
          "text": [
            "197\n"
          ]
        }
      ]
    },
    {
      "cell_type": "code",
      "source": [
        "#solution to 2\n",
        "a_list=[1,2,3,56,7,8,8,2,2,46,6,6,77,9]\n",
        "product=1\n",
        "for i in a_list:\n",
        "  product=product*i\n",
        "print(product)"
      ],
      "metadata": {
        "colab": {
          "base_uri": "https://localhost:8080/"
        },
        "id": "JUAJirg2901r",
        "outputId": "f773d7ab-270f-4f30-c26d-518b19212cac"
      },
      "execution_count": 3,
      "outputs": [
        {
          "output_type": "stream",
          "name": "stdout",
          "text": [
            "690988548096\n"
          ]
        }
      ]
    },
    {
      "cell_type": "code",
      "source": [
        "#soltuion to 3: smallest number \n",
        "a_list=[1,2,3,56,7,8,8,2,2,4,-100,6,6,6,77,-234]\n",
        "minimum=0\n",
        "for i in a_list:\n",
        "  if i < minimum:\n",
        "    minimum=i\n",
        "  else:\n",
        "    pass\n",
        "print(minimum)\n"
      ],
      "metadata": {
        "colab": {
          "base_uri": "https://localhost:8080/"
        },
        "id": "552YncYw-Hap",
        "outputId": "7da5f1fb-f61c-4693-f301-584fcd6df46f"
      },
      "execution_count": 12,
      "outputs": [
        {
          "output_type": "stream",
          "name": "stdout",
          "text": [
            "-234\n"
          ]
        }
      ]
    },
    {
      "cell_type": "code",
      "source": [
        "#solution to 4: largest number\n",
        "a_list=[1,2,3,56,7,8,8,2,2,46,6,6,77,9]\n",
        "maximum=0\n",
        "for i in a_list:\n",
        "  if i>maximum:\n",
        "    maximum=i\n",
        "  else:\n",
        "    pass\n",
        "print(maximum)"
      ],
      "metadata": {
        "colab": {
          "base_uri": "https://localhost:8080/"
        },
        "id": "MpNvydK9-VcK",
        "outputId": "b0e653af-b203-4f5c-eb20-3ca7ae753189"
      },
      "execution_count": 16,
      "outputs": [
        {
          "output_type": "stream",
          "name": "stdout",
          "text": [
            "77\n"
          ]
        }
      ]
    },
    {
      "cell_type": "code",
      "source": [
        "#solution to 5 : second largest number \n",
        "a_list=[1,2,3,56,7,8,8,2,2,46,6,6,77,9]\n",
        "maximum=max(a_list)\n",
        "a_list.remove(max(a_list))\n",
        "print(max(a_list))\n",
        "# 2 methods :\n",
        "#way 1: pop the max element and then find the largest element in the updated list "
      ],
      "metadata": {
        "colab": {
          "base_uri": "https://localhost:8080/"
        },
        "id": "KLLBRzkg_Hez",
        "outputId": "f6eb9ae5-0ca9-47c5-9b5e-5dbe34399921"
      },
      "execution_count": 25,
      "outputs": [
        {
          "output_type": "stream",
          "name": "stdout",
          "text": [
            "56\n"
          ]
        }
      ]
    },
    {
      "cell_type": "code",
      "source": [
        "#solution to 6: n largest elements in the list \n",
        "a_list=[1,2,3,56,7,8,8,2,2,46,6,6,77,9]\n",
        "element_list=[]\n",
        "n=int(input(\"how many numbers do you want ?\"))\n",
        "def get_elements():\n",
        "  for i in range(n):\n",
        "    ele = max(a_list)\n",
        "    element_list.append(ele)\n",
        "    a_list.remove(ele)\n",
        "  return element_list\n",
        "\n",
        "get_elements()"
      ],
      "metadata": {
        "colab": {
          "base_uri": "https://localhost:8080/"
        },
        "id": "UsOuRVlrAayq",
        "outputId": "60f2959e-629d-462a-c8d0-1df93d4a788c"
      },
      "execution_count": 32,
      "outputs": [
        {
          "name": "stdout",
          "output_type": "stream",
          "text": [
            "how many numbers do you want ?5\n"
          ]
        },
        {
          "output_type": "execute_result",
          "data": {
            "text/plain": [
              "[77, 56, 46, 9, 8]"
            ]
          },
          "metadata": {},
          "execution_count": 32
        }
      ]
    },
    {
      "cell_type": "code",
      "source": [
        "#solution to 7: even numbers of list \n",
        "a_list=[1,2,3,56,7,8,8,2,2,46,6,6,77,9]\n",
        "element_list=[]\n",
        "def get_elements():\n",
        "  for i in a_list:\n",
        "    if i%2==0:\n",
        "      element_list.append(i)\n",
        "  return element_list\n",
        "\n",
        "get_elements()\n",
        "\n",
        "\n",
        "\n"
      ],
      "metadata": {
        "colab": {
          "base_uri": "https://localhost:8080/"
        },
        "id": "1Dua6F0IDVqt",
        "outputId": "590551c2-723b-4263-c7d8-2c45f403f066"
      },
      "execution_count": 34,
      "outputs": [
        {
          "output_type": "execute_result",
          "data": {
            "text/plain": [
              "[2, 56, 8, 8, 2, 2, 46, 6, 6]"
            ]
          },
          "metadata": {},
          "execution_count": 34
        }
      ]
    },
    {
      "cell_type": "code",
      "source": [
        "#solution to 8: odd numbers of list \n",
        "a_list=[1,2,3,56,7,8,8,2,2,46,6,6,77,9]\n",
        "element_list=[]\n",
        "def get_elements():\n",
        "  for i in a_list:\n",
        "    if i%2!=0:\n",
        "      element_list.append(i)\n",
        "  return element_list\n",
        "\n",
        "get_elements()\n",
        "\n"
      ],
      "metadata": {
        "colab": {
          "base_uri": "https://localhost:8080/"
        },
        "id": "LXkkbZUkDZSp",
        "outputId": "147b1c71-0c32-4223-e678-39d6f5a8cacc"
      },
      "execution_count": 35,
      "outputs": [
        {
          "output_type": "execute_result",
          "data": {
            "text/plain": [
              "[1, 3, 7, 77, 9]"
            ]
          },
          "metadata": {},
          "execution_count": 35
        }
      ]
    },
    {
      "cell_type": "code",
      "source": [
        "#solution to 9\n",
        "#remove empty list from list \n",
        "a_list=[1,2,3,56,7,8,8,2,2,[], 46,6,6,77,9,[],1]\n",
        "element_list=[]\n",
        "def get_elements():\n",
        "  for i in a_list:\n",
        "    if type(i)==list:\n",
        "      a_list.remove(i)\n",
        "  return a_list\n",
        "\n",
        "get_elements()\n"
      ],
      "metadata": {
        "colab": {
          "base_uri": "https://localhost:8080/"
        },
        "id": "50ncQBx1JCbO",
        "outputId": "c92c17f7-b8aa-44e5-d573-ef6c188459f4"
      },
      "execution_count": 38,
      "outputs": [
        {
          "output_type": "execute_result",
          "data": {
            "text/plain": [
              "[1, 2, 3, 56, 7, 8, 8, 2, 2, 46, 6, 6, 77, 9, 1]"
            ]
          },
          "metadata": {},
          "execution_count": 38
        }
      ]
    },
    {
      "cell_type": "code",
      "source": [],
      "metadata": {
        "id": "hC0em3iUlA78"
      },
      "execution_count": null,
      "outputs": []
    },
    {
      "cell_type": "code",
      "source": [
        "#solution to 11\n",
        "#count occurrences of elements in list \n",
        "elements=[1,2,3,5,6,7,3,3,8,8,2,2,4,10,10,1,1,1,6,6,6,7,7,8,8,8,8,8,8]\n",
        "ele_count={}\n",
        "def count_of_numbers():\n",
        "  for ele in elements:\n",
        "    if ele in ele_count:\n",
        "      ele_count[ele]+=1\n",
        "    else:\n",
        "      ele_count[ele]=1\n",
        "  return ele_count\n",
        "\n",
        "count_of_numbers()"
      ],
      "metadata": {
        "colab": {
          "base_uri": "https://localhost:8080/"
        },
        "id": "VIG6pJ43JXHQ",
        "outputId": "8b64f917-635a-49e4-9018-96381176d74a"
      },
      "execution_count": 43,
      "outputs": [
        {
          "output_type": "execute_result",
          "data": {
            "text/plain": [
              "{1: 4, 2: 3, 3: 3, 5: 1, 6: 4, 7: 3, 8: 8, 4: 1, 10: 2}"
            ]
          },
          "metadata": {},
          "execution_count": 43
        }
      ]
    },
    {
      "cell_type": "code",
      "source": [
        "#clone a list or copy a list\n",
        "elements=[1,2,3,5,6,7,3,3,8,8,2,2,4,10,10,1,1,1,6,6,6,7,7,8,8,8,8,8,8]\n",
        "x=elements.copy()\n",
        "print(x)"
      ],
      "metadata": {
        "colab": {
          "base_uri": "https://localhost:8080/"
        },
        "id": "XxzsfWEnJal6",
        "outputId": "281835f6-e1ea-49c9-e82c-380644fb44e1"
      },
      "execution_count": 44,
      "outputs": [
        {
          "output_type": "stream",
          "name": "stdout",
          "text": [
            "[1, 2, 3, 5, 6, 7, 3, 3, 8, 8, 2, 2, 4, 10, 10, 1, 1, 1, 6, 6, 6, 7, 7, 8, 8, 8, 8, 8, 8]\n"
          ]
        }
      ]
    },
    {
      "cell_type": "code",
      "source": [],
      "metadata": {
        "id": "JZzpXVTjn_AI"
      },
      "execution_count": null,
      "outputs": []
    }
  ]
}