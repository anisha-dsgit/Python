{
 "cells": [
  {
   "attachments": {},
   "cell_type": "markdown",
   "metadata": {},
   "source": [
    "3. Consider the ‘Blood Pressure Before’ and ‘Blood Pressure After’ columns from the\n",
    "data and calculate the following\n",
    "\n",
    "https://drive.google.com/file/d/1mCjtYHiX--mMUjicuaP2gH3k-SnFxt8Y/view?usp=share_\n",
    "\n",
    "a. Measure the dispersion in both and interpret the results.\n",
    "\n",
    "b. Calculate mean and 5% confidence interval and plot it in a graph\n",
    "\n",
    "c. Calculate the Mean absolute deviation and Standard deviation and interpret\n",
    "the results.\n",
    "\n",
    "d. Calculate the correlation coefficient and check the significance of it at 1% level\n",
    "of significance.\n"
   ]
  },
  {
   "cell_type": "code",
   "execution_count": 21,
   "metadata": {},
   "outputs": [],
   "source": [
    "import pandas as pd\n",
    "import scipy.stats as stats\n",
    "import numpy as np\n",
    "import seaborn as sns "
   ]
  },
  {
   "cell_type": "code",
   "execution_count": 12,
   "metadata": {},
   "outputs": [
    {
     "data": {
      "text/html": [
       "<div>\n",
       "<style scoped>\n",
       "    .dataframe tbody tr th:only-of-type {\n",
       "        vertical-align: middle;\n",
       "    }\n",
       "\n",
       "    .dataframe tbody tr th {\n",
       "        vertical-align: top;\n",
       "    }\n",
       "\n",
       "    .dataframe thead th {\n",
       "        text-align: right;\n",
       "    }\n",
       "</style>\n",
       "<table border=\"1\" class=\"dataframe\">\n",
       "  <thead>\n",
       "    <tr style=\"text-align: right;\">\n",
       "      <th></th>\n",
       "      <th>Patient ID</th>\n",
       "      <th>Blood Pressure Before (mmHg)</th>\n",
       "      <th>Blood Pressure After (mmHg)</th>\n",
       "    </tr>\n",
       "  </thead>\n",
       "  <tbody>\n",
       "    <tr>\n",
       "      <th>0</th>\n",
       "      <td>1</td>\n",
       "      <td>130</td>\n",
       "      <td>120</td>\n",
       "    </tr>\n",
       "    <tr>\n",
       "      <th>1</th>\n",
       "      <td>2</td>\n",
       "      <td>142</td>\n",
       "      <td>135</td>\n",
       "    </tr>\n",
       "    <tr>\n",
       "      <th>2</th>\n",
       "      <td>3</td>\n",
       "      <td>120</td>\n",
       "      <td>118</td>\n",
       "    </tr>\n",
       "    <tr>\n",
       "      <th>3</th>\n",
       "      <td>4</td>\n",
       "      <td>135</td>\n",
       "      <td>127</td>\n",
       "    </tr>\n",
       "    <tr>\n",
       "      <th>4</th>\n",
       "      <td>5</td>\n",
       "      <td>148</td>\n",
       "      <td>140</td>\n",
       "    </tr>\n",
       "    <tr>\n",
       "      <th>...</th>\n",
       "      <td>...</td>\n",
       "      <td>...</td>\n",
       "      <td>...</td>\n",
       "    </tr>\n",
       "    <tr>\n",
       "      <th>95</th>\n",
       "      <td>96</td>\n",
       "      <td>136</td>\n",
       "      <td>129</td>\n",
       "    </tr>\n",
       "    <tr>\n",
       "      <th>96</th>\n",
       "      <td>97</td>\n",
       "      <td>143</td>\n",
       "      <td>137</td>\n",
       "    </tr>\n",
       "    <tr>\n",
       "      <th>97</th>\n",
       "      <td>98</td>\n",
       "      <td>127</td>\n",
       "      <td>123</td>\n",
       "    </tr>\n",
       "    <tr>\n",
       "      <th>98</th>\n",
       "      <td>99</td>\n",
       "      <td>139</td>\n",
       "      <td>135</td>\n",
       "    </tr>\n",
       "    <tr>\n",
       "      <th>99</th>\n",
       "      <td>100</td>\n",
       "      <td>135</td>\n",
       "      <td>130</td>\n",
       "    </tr>\n",
       "  </tbody>\n",
       "</table>\n",
       "<p>100 rows × 3 columns</p>\n",
       "</div>"
      ],
      "text/plain": [
       "    Patient ID   Blood Pressure Before (mmHg)   Blood Pressure After (mmHg)\n",
       "0            1                            130                           120\n",
       "1            2                            142                           135\n",
       "2            3                            120                           118\n",
       "3            4                            135                           127\n",
       "4            5                            148                           140\n",
       "..         ...                            ...                           ...\n",
       "95          96                            136                           129\n",
       "96          97                            143                           137\n",
       "97          98                            127                           123\n",
       "98          99                            139                           135\n",
       "99         100                            135                           130\n",
       "\n",
       "[100 rows x 3 columns]"
      ]
     },
     "execution_count": 12,
     "metadata": {},
     "output_type": "execute_result"
    }
   ],
   "source": [
    "df_BP=pd.read_csv(r\"D:\\ML\\blood_pressure.csv\")\n",
    "df_BP"
   ]
  },
  {
   "attachments": {},
   "cell_type": "markdown",
   "metadata": {},
   "source": [
    "#### Measure the dispersion in both and interpret the results.\n"
   ]
  },
  {
   "cell_type": "code",
   "execution_count": 22,
   "metadata": {},
   "outputs": [
    {
     "name": "stdout",
     "output_type": "stream",
     "text": [
      " range is 28 and max_value is 148 and min value is 120\n"
     ]
    }
   ],
   "source": [
    "# dispersion in Blood Pressure Before (mmHg)\n",
    "max_value_bp_before= max(df_BP[' Blood Pressure Before (mmHg)'])\n",
    "min_value_bp_before=min(df_BP[' Blood Pressure Before (mmHg)'])\n",
    "range_BP_before = max(df_BP[' Blood Pressure Before (mmHg)'])-min(df_BP[' Blood Pressure Before (mmHg)'])\n",
    "print(f\" range is {range_BP_before} and max_value is {max_value_bp_before} and min value is {min_value_bp_before}\")"
   ]
  },
  {
   "cell_type": "code",
   "execution_count": 23,
   "metadata": {},
   "outputs": [
    {
     "name": "stdout",
     "output_type": "stream",
     "text": [
      " range is 23 and max_value is 141 and min value is 118\n"
     ]
    }
   ],
   "source": [
    "max_value_bp_after= max(df_BP[' Blood Pressure After (mmHg)'])\n",
    "min_value_bp_after=min(df_BP[' Blood Pressure After (mmHg)'])\n",
    "range_BP_after=max(df_BP[' Blood Pressure After (mmHg)'])-min(df_BP[' Blood Pressure After (mmHg)'])\n",
    "print(f\" range is {range_BP_after} and max_value is {max_value_bp_after} and min value is {min_value_bp_after}\")"
   ]
  },
  {
   "attachments": {},
   "cell_type": "markdown",
   "metadata": {},
   "source": [
    "##### Interpretation of the results above \n",
    "\n"
   ]
  },
  {
   "cell_type": "code",
   "execution_count": 24,
   "metadata": {},
   "outputs": [
    {
     "name": "stderr",
     "output_type": "stream",
     "text": [
      "c:\\Users\\LENOVO\\AppData\\Local\\Programs\\Python\\Python310\\lib\\site-packages\\seaborn\\_decorators.py:36: FutureWarning: Pass the following variable as a keyword arg: x. From version 0.12, the only valid positional argument will be `data`, and passing other arguments without an explicit keyword will result in an error or misinterpretation.\n",
      "  warnings.warn(\n"
     ]
    },
    {
     "data": {
      "text/plain": [
       "<AxesSubplot:xlabel=' Blood Pressure After (mmHg)'>"
      ]
     },
     "execution_count": 24,
     "metadata": {},
     "output_type": "execute_result"
    },
    {
     "data": {
      "image/png": "[encoded data removed]",
      "text/plain": [
       "<Figure size 640x480 with 1 Axes>"
      ]
     },
     "metadata": {},
     "output_type": "display_data"
    }
   ],
   "source": [
    "sns.boxplot(df_BP[' Blood Pressure After (mmHg)'])\n",
    "\n",
    "#interpretation : data doesn't have outliers and seems to be a little skewed towards the right and median falls left of mean, data is right skewed."
   ]
  },
  {
   "cell_type": "code",
   "execution_count": 25,
   "metadata": {},
   "outputs": [
    {
     "name": "stderr",
     "output_type": "stream",
     "text": [
      "c:\\Users\\LENOVO\\AppData\\Local\\Programs\\Python\\Python310\\lib\\site-packages\\seaborn\\_decorators.py:36: FutureWarning: Pass the following variable as a keyword arg: x. From version 0.12, the only valid positional argument will be `data`, and passing other arguments without an explicit keyword will result in an error or misinterpretation.\n",
      "  warnings.warn(\n"
     ]
    },
    {
     "data": {
      "text/plain": [
       "<AxesSubplot:xlabel=' Blood Pressure Before (mmHg)'>"
      ]
     },
     "execution_count": 25,
     "metadata": {},
     "output_type": "execute_result"
    },
    {
     "data": {
      "image/png": "[encoded data removed]",
      "text/plain": [
       "<Figure size 640x480 with 1 Axes>"
      ]
     },
     "metadata": {},
     "output_type": "display_data"
    }
   ],
   "source": [
    "sns.boxplot(df_BP[' Blood Pressure Before (mmHg)'])\n",
    "#interpretation: data doesn't have outliers, median falls to the right of mean as observed from the data, so data is left skewed."
   ]
  },
  {
   "cell_type": "code",
   "execution_count": 15,
   "metadata": {},
   "outputs": [
    {
     "name": "stdout",
     "output_type": "stream",
     "text": [
      "Point estimate around mean is given by  127.00997247543387< mean < 129.71002752456616\n"
     ]
    }
   ],
   "source": [
    "# b. Calculate mean and 5% confidence interval and plot it in a graph\n",
    "mean_bp_after=df_BP[' Blood Pressure After (mmHg)'].mean()\n",
    "stdev_bp_after=df_BP[' Blood Pressure After (mmHg)'].std()\n",
    "std_error =stdev_bp_after/np.sqrt(len(df_BP[' Blood Pressure After (mmHg)']))\n",
    "alpha =0.05 \n",
    "\n",
    "dof=len(df_BP[' Blood Pressure After (mmHg)']) -1\n",
    "\n",
    "critical_value_or_z= stats.norm.ppf(1-alpha/2)\n",
    "\n",
    "# margin of error \n",
    "margin_of_Error= critical_value_or_z*std_error\n",
    "\n",
    "# confidence interval \n",
    "lower_bound= mean_bp_after - margin_of_Error\n",
    "upper_bound= mean_bp_after + margin_of_Error \n",
    "\n",
    "#interval formed =\n",
    "print(f\"Point estimate around mean is given by  {lower_bound}< mean < {upper_bound}\")\n"
   ]
  },
  {
   "cell_type": "code",
   "execution_count": 16,
   "metadata": {},
   "outputs": [
    {
     "name": "stdout",
     "output_type": "stream",
     "text": [
      "critical_value or z_Score is 1.959963984540054\n"
     ]
    }
   ],
   "source": [
    "print(f\"critical_value or z_Score is {critical_value_or_z}\") \n"
   ]
  },
  {
   "cell_type": "code",
   "execution_count": 17,
   "metadata": {},
   "outputs": [
    {
     "data": {
      "text/plain": [
       "<ErrorbarContainer object of 3 artists>"
      ]
     },
     "execution_count": 17,
     "metadata": {},
     "output_type": "execute_result"
    },
    {
     "data": {
      "image/png": "[encoded data removed]",
      "text/plain": [
       "<Figure size 640x480 with 1 Axes>"
      ]
     },
     "metadata": {},
     "output_type": "display_data"
    }
   ],
   "source": [
    "#printing it on graph \n",
    "import matplotlib.pyplot as plt\n",
    "\n",
    "plt.errorbar(0, mean_bp_after, yerr= margin_of_Error, fmt='o', color='red', capsize=5, label='Mean with 5% CI')"
   ]
  },
  {
   "attachments": {},
   "cell_type": "markdown",
   "metadata": {},
   "source": [
    "#### Calculate the Mean absolute deviation and Standard deviation and interpret the results."
   ]
  },
  {
   "cell_type": "code",
   "execution_count": 18,
   "metadata": {},
   "outputs": [
    {
     "name": "stdout",
     "output_type": "stream",
     "text": [
      " mean absolute deviation is 6.0 and std deviation is 6.888022102523226\n"
     ]
    }
   ],
   "source": [
    "mean_abs_bp_after=stats.median_abs_deviation(df_BP[' Blood Pressure After (mmHg)'])\n",
    "print(f\" mean absolute deviation is {mean_abs_bp_after} and std deviation is {stdev_bp_after}\")"
   ]
  },
  {
   "attachments": {},
   "cell_type": "markdown",
   "metadata": {},
   "source": [
    "The MAD describes what the expected deviation is whereas the STD is a bit more abstract. The usual example given concerns finding 68% of observations within 1 STD, 95% within 2 STD etc — but this is just the special case of the Normal Distribution.\n",
    "\n",
    "Whilst it is true that STD can be used to give bounds like this for many more (finite mean and variance) distributions due to Chebyshev’s Inequality, the point remains that STD gains its informational content from knowing the distribution of the data — which is quite an assumption to assert in the real world. "
   ]
  },
  {
   "attachments": {},
   "cell_type": "markdown",
   "metadata": {},
   "source": [
    "### Calculate the correlation coefficient and check the significance of it at 1% level of significance."
   ]
  },
  {
   "cell_type": "code",
   "execution_count": 20,
   "metadata": {},
   "outputs": [
    {
     "name": "stdout",
     "output_type": "stream",
     "text": [
      "correlation coeff and p value are 0.9779485966556021 and 1.8097381433059708e-68\n",
      "The correlation coefficient is not significant at the 1.0% level of significance.\n"
     ]
    }
   ],
   "source": [
    "corr_coeff, p_value = stats.pearsonr(df_BP[' Blood Pressure After (mmHg)'], df_BP[' Blood Pressure Before (mmHg)'])\n",
    "print(f'correlation coeff and p value are {corr_coeff} and {p_value}')\n",
    "\n",
    "# Calculate critical value for 1% significance level\n",
    "alpha_2 = 0.01\n",
    "# 1-aplha/2 taken because we are considering the confidence interval which needs a lower bound and a upper bound so a two tailed test can give this result\n",
    "critical_value = stats.norm.ppf(1-alpha_2/2)\n",
    "\n",
    "\n",
    "# Checking significance of correlation coefficient\n",
    "if np.abs(corr_coeff) > critical_value:\n",
    "    significance = \"significant\"\n",
    "else:\n",
    "    significance = \"not significant\"\n",
    "\n",
    "print(f\"The correlation coefficient is {significance} at the {alpha_2*100}% level of significance.\")"
   ]
  }
 ],
 "metadata": {
  "kernelspec": {
   "display_name": "Python 3",
   "language": "python",
   "name": "python3"
  },
  "language_info": {
   "codemirror_mode": {
    "name": "ipython",
    "version": 3
   },
   "file_extension": ".py",
   "mimetype": "text/x-python",
   "name": "python",
   "nbconvert_exporter": "python",
   "pygments_lexer": "ipython3",
   "version": "3.10.4"
  },
  "orig_nbformat": 4
 },
 "nbformat": 4,
 "nbformat_minor": 2
}
