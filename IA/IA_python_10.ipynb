{
 "cells": [
  {
   "cell_type": "markdown",
   "metadata": {},
   "source": [
    "Write a program to count the number of verbs, nouns, pronouns, and adjectives in a given particular phrase or\n",
    "paragraph, and return their respective count as a dictionary.\n",
    "Note -\n",
    "1. Write code comments wherever required for code\n",
    "2. You have to write at least 2 additional test cases in which your program will run successfully and provide\n",
    "an explanation for the same."
   ]
  },
  {
   "cell_type": "code",
   "execution_count": 1,
   "metadata": {},
   "outputs": [
    {
     "name": "stdout",
     "output_type": "stream",
     "text": [
      "('a', 'tie')\n"
     ]
    }
   ],
   "source": [
    "noun=['dog','tail']\n",
    "pronoun=['I','ME','YOU','HE','SHE','THEY','WE','THEM','US','its']\n",
    "adjective=['good','bad','better','nice','beautiful','energetic','happily','fluffy']\n",
    "verb=['drinking','sleeping','like','walk','eat','chased']\n",
    "\n",
    "phrase=\"The energetic dog happily chased its fluffy tail.\"\n",
    "\n",
    "segregated_dict={}\n",
    "\n",
    "for i in segregated_dict.items():\n",
    "\n",
    "#approach\n",
    "#if i in noun, count frequency and put in dict else break , check i in other list, \n",
    "    \n",
    "\n"
   ]
  },
  {
   "cell_type": "code",
   "execution_count": null,
   "metadata": {},
   "outputs": [],
   "source": []
  }
 ],
 "metadata": {
  "kernelspec": {
   "display_name": "Python 3",
   "language": "python",
   "name": "python3"
  },
  "language_info": {
   "codemirror_mode": {
    "name": "ipython",
    "version": 3
   },
   "file_extension": ".py",
   "mimetype": "text/x-python",
   "name": "python",
   "nbconvert_exporter": "python",
   "pygments_lexer": "ipython3",
   "version": "3.10.4"
  },
  "orig_nbformat": 4
 },
 "nbformat": 4,
 "nbformat_minor": 2
}
