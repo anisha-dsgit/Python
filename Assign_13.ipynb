{
 "cells": [
  {
   "cell_type": "markdown",
   "id": "5f01dae0",
   "metadata": {},
   "source": [
    "1. What advantages do Excel spreadsheets have over CSV spreadsheets?"
   ]
  },
  {
   "cell_type": "markdown",
   "id": "a18b618a",
   "metadata": {},
   "source": [
    "csv is more portable - easy handling , comma seperated value file, supported by nearly all interfaces.\n",
    "excel format - arranged in a tabular format, better for storing complex data. \n"
   ]
  },
  {
   "cell_type": "markdown",
   "id": "20a6b9bd",
   "metadata": {},
   "source": [
    "2.What do you pass to csv.reader() and csv.writer() to create reader and writer objects?"
   ]
  },
  {
   "cell_type": "code",
   "execution_count": 6,
   "id": "71c0b1b5",
   "metadata": {},
   "outputs": [
    {
     "name": "stdout",
     "output_type": "stream",
     "text": [
      "['room_id', 'survey_id', 'host_id', 'room_type', 'country', 'city', 'borough', 'neighborhood', 'reviews', 'overall_satisfaction', 'accommodates', 'bedrooms', 'bathrooms', 'price', 'minstay', 'name', 'last_modified', 'latitude', 'longitude', 'location']\n"
     ]
    }
   ],
   "source": [
    "import csv \n",
    "\n",
    "filename=(r\"C:\\Users\\LENOVO\\OneDrive\\Desktop\\internship\\airbnb\\airbnb prices.csv\")\n",
    "with open( filename,'r') as csvfile:\n",
    "    csvreader_obj=csv.reader(csvfile)\n",
    "    fields=next(csvreader_obj)\n",
    "    print(fields)\n"
   ]
  },
  {
   "cell_type": "code",
   "execution_count": 14,
   "id": "1e276531",
   "metadata": {},
   "outputs": [],
   "source": [
    "filename2=r\"writingrecordfile.csv\"\n",
    "headerfield=['studentid','name','class','section']\n",
    "records=[['001','ani','4','a'],['002','ali','5','a'],['003','aslam','3','b']]\n",
    "\n",
    "with open(filename2,'w') as csvfile2:\n",
    "    csvwriter_obj=csv.writer(csvfile2)\n",
    "    csvwriter_obj.writerow(headerfield)\n",
    "    csvwriter_obj.writerows(records)\n",
    "\n",
    "    "
   ]
  },
  {
   "cell_type": "markdown",
   "id": "c410ed78",
   "metadata": {},
   "source": [
    "3. What modes do File objects for reader and writer objects need to be opened in?"
   ]
  },
  {
   "cell_type": "markdown",
   "id": "64d31209",
   "metadata": {},
   "source": [
    "File objects must be opened in reading ie 'r' mode and writing ie 'w' mode in reader and writer objects respectively."
   ]
  },
  {
   "cell_type": "markdown",
   "id": "5ed804d5",
   "metadata": {},
   "source": [
    "4. What method takes a list argument and writes it to a CSV file?\n",
    "\n",
    "Solution: In code below, clearly writerow and writerows take list as an argument to write to csv file"
   ]
  },
  {
   "cell_type": "code",
   "execution_count": 16,
   "id": "5c218635",
   "metadata": {},
   "outputs": [],
   "source": [
    "filename3=r\"writingrecordfile.csv\"\n",
    "headerfield=['studentid','name','class','section']\n",
    "records=[['001','ani','4','a'],['002','ali','5','a'],['003','aslam','3','b']]\n",
    "\n",
    "with open(filename3,'w') as csvfile2:\n",
    "    csvwriter_obj=csv.writer(csvfile2)\n",
    "    csvwriter_obj.writerow(headerfield)\n",
    "    csvwriter_obj.writerows(records)\n",
    "    "
   ]
  },
  {
   "cell_type": "markdown",
   "id": "2c18c91e",
   "metadata": {},
   "source": [
    "5. What do the keyword arguments delimiter and line terminator do?\n",
    "\n",
    "A terminator marks the end of a group of things, again needed because we don't know how long it is.\n",
    "A A delimiter is one or two markers that show the start and end of something. They're needed because we don't know how long that 'something' will be. We can have either:\n",
    "   1. a single delimiter, or\n",
    "   2. a pair of pair-delimiters\n",
    "\n",
    "[a, b, c, d, e] each comma (,) is a single delimiter. \n",
    "\n",
    "The left and right brackets, ([, ]) are pair-delimiters, \"hello\", the two quote symbols (\") are pair-delimiters\n",
    "\n",
    "A seperator is a synonym of a \"delimiter\", but seperates words in between fields."
   ]
  },
  {
   "cell_type": "markdown",
   "id": "6946fa10",
   "metadata": {},
   "source": [
    "6. What function takes a string of JSON data and returns a Python data structure?"
   ]
  },
  {
   "cell_type": "code",
   "execution_count": 18,
   "id": "1c6c8954",
   "metadata": {},
   "outputs": [
    {
     "name": "stdout",
     "output_type": "stream",
     "text": [
      "{\"a\": \"apple\", \"b\": \"banana\"}\n"
     ]
    },
    {
     "data": {
      "text/plain": [
       "str"
      ]
     },
     "execution_count": 18,
     "metadata": {},
     "output_type": "execute_result"
    }
   ],
   "source": [
    "import json\n",
    "python=json.dumps({\"a\" :\"apple\" , \"b\" :\"banana\"})\n",
    "print(python)\n",
    "type(python)"
   ]
  },
  {
   "cell_type": "code",
   "execution_count": null,
   "id": "2c9be47a",
   "metadata": {},
   "outputs": [],
   "source": []
  },
  {
   "cell_type": "code",
   "execution_count": 7,
   "id": "d55b0787",
   "metadata": {},
   "outputs": [
    {
     "name": "stdout",
     "output_type": "stream",
     "text": [
      "{'a': 'apple', 'b': 'banana'}\n",
      "<class 'dict'>\n"
     ]
    }
   ],
   "source": [
    "import json\n",
    "\n",
    "#json takes up string as the format \n",
    "json_data= '{\"a\" :\"apple\" , \"b\" :\"banana\"}'\n",
    "python_data_Structure=json.loads(json_data)\n",
    "print(python_data_Structure)\n",
    "print(type(python_data_Structure))"
   ]
  },
  {
   "cell_type": "code",
   "execution_count": 9,
   "id": "a4b87d54",
   "metadata": {},
   "outputs": [
    {
     "name": "stdout",
     "output_type": "stream",
     "text": [
      "{\"a\": \"apple\", \"b\": \"banana\"}\n"
     ]
    },
    {
     "data": {
      "text/plain": [
       "str"
      ]
     },
     "execution_count": 9,
     "metadata": {},
     "output_type": "execute_result"
    }
   ],
   "source": []
  },
  {
   "cell_type": "code",
   "execution_count": null,
   "id": "9a28d54b",
   "metadata": {},
   "outputs": [],
   "source": []
  }
 ],
 "metadata": {
  "kernelspec": {
   "display_name": "Python 3 (ipykernel)",
   "language": "python",
   "name": "python3"
  },
  "language_info": {
   "codemirror_mode": {
    "name": "ipython",
    "version": 3
   },
   "file_extension": ".py",
   "mimetype": "text/x-python",
   "name": "python",
   "nbconvert_exporter": "python",
   "pygments_lexer": "ipython3",
   "version": "3.9.12"
  }
 },
 "nbformat": 4,
 "nbformat_minor": 5
}
