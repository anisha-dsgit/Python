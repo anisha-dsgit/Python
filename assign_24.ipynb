{
 "cells": [
  {
   "cell_type": "markdown",
   "id": "d6797cd0",
   "metadata": {},
   "source": [
    "1. What is the relationship between def statements and lambda expressions ?\n",
    "\n",
    "def defines a regular function and this function can be called any number of times in the whole program.\n",
    "\n",
    "Lambda is an anonymous function so it has no name. hence it can be called only during the current query execution. it takes up memory for a very short period of time. It is a short and elegant way of writing a small function.   \n"
   ]
  },
  {
   "cell_type": "code",
   "execution_count": 3,
   "id": "ee1683f2",
   "metadata": {},
   "outputs": [
    {
     "data": {
      "text/plain": [
       "True"
      ]
     },
     "execution_count": 3,
     "metadata": {},
     "output_type": "execute_result"
    }
   ],
   "source": [
    "def func_name():\n",
    "    return True\n",
    "\n",
    "func_name()"
   ]
  },
  {
   "cell_type": "code",
   "execution_count": 12,
   "id": "ecf1ed09",
   "metadata": {},
   "outputs": [
    {
     "data": {
      "text/plain": [
       "[1, 4, 27, 256, 3125, 46656, 823543, 16777216, 387420489]"
      ]
     },
     "execution_count": 12,
     "metadata": {},
     "output_type": "execute_result"
    }
   ],
   "source": [
    "power=lambda x: x**x\n",
    "[power(x) for x in range(1,10)]"
   ]
  },
  {
   "cell_type": "markdown",
   "id": "851f9e33",
   "metadata": {},
   "source": [
    "2. What is the benefit of lambda?\n",
    "\n",
    "it takes up memory for a very short period of time. It is a short and elegant way of writing a small function. "
   ]
  },
  {
   "cell_type": "markdown",
   "id": "10c95ce0",
   "metadata": {},
   "source": [
    "3. Compare and contrast map, filter, and reduce.\n",
    "\n",
    "map(function,list)=> filters values and performs calculations from list which satisfy function condition. \n",
    "\n",
    "filter(function,list)=> filter() only keeps elements where it produces True, thus it removes others that generated False.\n",
    "\n",
    "reduce(function,list) => reduce function is imported from functools. a new reduced result is returned. This performs a repetitive operation over the pairs of the iterable.\n"
   ]
  },
  {
   "cell_type": "code",
   "execution_count": 82,
   "id": "29388eb3",
   "metadata": {},
   "outputs": [
    {
     "name": "stdout",
     "output_type": "stream",
     "text": [
      "[45, 12]  works on True or False false so just filters\n",
      "[None, 15, 4, None, None, None, None]  filters and then performs calculations \n",
      "15135120  the function is run over each pair of iterable taking x,y from the list one by one and then gives a single result\n"
     ]
    }
   ],
   "source": [
    "text_list=[2,45,12,14,13,11,7]\n",
    "list2=['a','b','v','p']\n",
    "\n",
    "filter_n=list(filter(lambda i: (i//3 if(i%3==0) else None),text_list))\n",
    "\n",
    "map_n=list(map(lambda i: (i//3 if(i%3==0) else None),text_list))\n",
    "\n",
    "print(filter_n, \" works on True or False false so just filters\")\n",
    "print(map_n,\" filters and then performs calculations \")\n",
    "\n",
    "from functools import reduce\n",
    "reduce_n=reduce(lambda x,y:x*y,text_list)\n",
    "print(reduce_n, \" the function is run over each pair of iterable taking x,y from the list one by one and then gives a single result\")\n"
   ]
  },
  {
   "cell_type": "markdown",
   "id": "e6ff8042",
   "metadata": {},
   "source": [
    "4. What are function annotations, and how are they used?\n",
    "\n",
    "Function annotations are arbitrary python expressions that are associated with various part of functions. \n",
    "These expressions are evaluated at compile time and have no life in python’s runtime environment. Python does not attach any meaning to these annotations. They take life when interpreted by third party libraries, for example, mypy.\n",
    "\n",
    "example:\n",
    "[def function_name(a:”int”, b:”float”=5.0)  -> ”int”]\n",
    "\n",
    "this tells about the datatype of parameters and return type of the function \n",
    "\n",
    "## types of annotations:\n",
    "1. simple parameters : def fun_name(a:expression,b:expression=5):\n",
    "\n",
    "2. excess parameters: def fun_name(*args:expression,**kwargs: expression):\n",
    "\n",
    "3. nested parameters : def func_name((a:expression,b:expression=5),(c:expression,d:expression=4)):\n",
    "\n",
    "4. return type: def func_name(a:expression,b=\"float\"=3.02)->\"float\":"
   ]
  },
  {
   "cell_type": "markdown",
   "id": "508c23e7",
   "metadata": {},
   "source": [
    "5. What are recursive functions, and how are they used?\n",
    "\n",
    "Solution:\n",
    "    recursive function is a function that calls itself. \n",
    "    \n",
    "    syntax: \n",
    "    def facts(n):\n",
    "         facts(n-1)\n",
    "         ... \n",
    "         facts(n-1)\n",
    "         \n",
    "         \n",
    "    "
   ]
  },
  {
   "cell_type": "code",
   "execution_count": 22,
   "id": "13c686bb",
   "metadata": {},
   "outputs": [
    {
     "data": {
      "text/plain": [
       "120"
      ]
     },
     "execution_count": 22,
     "metadata": {},
     "output_type": "execute_result"
    }
   ],
   "source": [
    "#recursive function example:\n",
    "def factorial(n):\n",
    "    a=1\n",
    "    if n==1:\n",
    "        pass\n",
    "    else: \n",
    "        a=n*factorial(n-1)\n",
    "    return a\n",
    "\n",
    "factorial(5)"
   ]
  },
  {
   "cell_type": "markdown",
   "id": "6cd2d5ca",
   "metadata": {},
   "source": [
    "6. What are some general design guidelines for coding functions?\n",
    "- modular coding \n",
    "- error handling functions\n",
    "- use of functions wherever possible\n"
   ]
  },
  {
   "cell_type": "markdown",
   "id": "c3d9d607",
   "metadata": {},
   "source": [
    "7. Name three or more ways that functions can communicate results to a caller.\n",
    "def func():\n",
    "    return result \n",
    "\n",
    "\n",
    "ways to communicate results:\n",
    "    \n",
    "- func() call\n",
    "- assign function to an object and call the object, pass arguments to the object \n",
    "- call functions through classes"
   ]
  },
  {
   "cell_type": "code",
   "execution_count": null,
   "id": "1fc46100",
   "metadata": {},
   "outputs": [],
   "source": []
  }
 ],
 "metadata": {
  "kernelspec": {
   "display_name": "Python 3 (ipykernel)",
   "language": "python",
   "name": "python3"
  },
  "language_info": {
   "codemirror_mode": {
    "name": "ipython",
    "version": 3
   },
   "file_extension": ".py",
   "mimetype": "text/x-python",
   "name": "python",
   "nbconvert_exporter": "python",
   "pygments_lexer": "ipython3",
   "version": "3.9.12"
  }
 },
 "nbformat": 4,
 "nbformat_minor": 5
}
