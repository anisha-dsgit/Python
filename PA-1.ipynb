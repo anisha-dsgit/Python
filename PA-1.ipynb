{
 "cells": [
  {
   "cell_type": "markdown",
   "id": "c416f4dc",
   "metadata": {},
   "source": [
    "1. Write a Python program to print &quot;Hello Python&quot;?\n",
    "2. Write a Python program to do arithmetical operations addition and division.?\n",
    "3. Write a Python program to find the area of a triangle?\n",
    "4. Write a Python program to swap two variables?\n",
    "5. Write a Python program to generate a random number?"
   ]
  },
  {
   "cell_type": "code",
   "execution_count": 1,
   "id": "73719353",
   "metadata": {},
   "outputs": [
    {
     "name": "stdout",
     "output_type": "stream",
     "text": [
      "Hello Python\n"
     ]
    }
   ],
   "source": [
    "print(\"Hello Python\")"
   ]
  },
  {
   "cell_type": "code",
   "execution_count": 8,
   "id": "5044d0a8",
   "metadata": {},
   "outputs": [
    {
     "name": "stdout",
     "output_type": "stream",
     "text": [
      "arithmetic operations of addition and division are 5,1\n"
     ]
    }
   ],
   "source": [
    "a=2\n",
    "b=3\n",
    "print(f\"arithmetic operations of addition and division are {a+b},{a//2}\")"
   ]
  },
  {
   "cell_type": "markdown",
   "id": "5ae9d9d5",
   "metadata": {},
   "source": [
    "Let ABC be a triangle such that the length of the 3 sides of the triangle is AB = c, BC = a and CA = b.\n",
    "\n",
    "The semi-perimeter of triangle ABC = s = (a + b + c)/2\n",
    "\n",
    "Then, the area of triangle ABC = √[s × (s – a) × (s – b) × (s – c)]."
   ]
  },
  {
   "cell_type": "code",
   "execution_count": 13,
   "id": "db35fc9f",
   "metadata": {},
   "outputs": [
    {
     "name": "stdout",
     "output_type": "stream",
     "text": [
      "21\n",
      "area of triangle is 75.2994023880668\n"
     ]
    }
   ],
   "source": [
    "import math\n",
    "a=12\n",
    "b=15\n",
    "c=16\n",
    "s=(a+b+c)//2\n",
    "print(s)\n",
    "value=s*(s-a)*(s-b)*(s-c)\n",
    "print(f\"area of triangle is {math.sqrt(value)}\")"
   ]
  },
  {
   "cell_type": "code",
   "execution_count": 17,
   "id": "3db12573",
   "metadata": {},
   "outputs": [
    {
     "name": "stdout",
     "output_type": "stream",
     "text": [
      "swapped values are ('apple', 'cat')\n"
     ]
    }
   ],
   "source": [
    "#to swap values, we have to write it side by side before assigning it to new variable.\n",
    "a='cat'\n",
    "c='apple'\n",
    "a,c = c,a\n",
    "print(f\"swapped values are {a,c}\")"
   ]
  },
  {
   "cell_type": "code",
   "execution_count": 19,
   "id": "1f5e175a",
   "metadata": {},
   "outputs": [
    {
     "data": {
      "text/plain": [
       "9"
      ]
     },
     "execution_count": 19,
     "metadata": {},
     "output_type": "execute_result"
    }
   ],
   "source": [
    "import random \n",
    "\n",
    "#dir(random) used to find all the functions within random module \n",
    "random.randint(2,10)"
   ]
  },
  {
   "cell_type": "code",
   "execution_count": null,
   "id": "d942dcd9",
   "metadata": {},
   "outputs": [],
   "source": []
  }
 ],
 "metadata": {
  "kernelspec": {
   "display_name": "Python 3 (ipykernel)",
   "language": "python",
   "name": "python3"
  },
  "language_info": {
   "codemirror_mode": {
    "name": "ipython",
    "version": 3
   },
   "file_extension": ".py",
   "mimetype": "text/x-python",
   "name": "python",
   "nbconvert_exporter": "python",
   "pygments_lexer": "ipython3",
   "version": "3.9.12"
  }
 },
 "nbformat": 4,
 "nbformat_minor": 5
}
