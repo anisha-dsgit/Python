{
 "cells": [
  {
   "attachments": {},
   "cell_type": "markdown",
   "metadata": {},
   "source": [
    "1. Write a Python program to check if the given number is a Disarium Number?\n",
    "2. Write a Python program to print all disarium numbers between 1 to 100?\n",
    "3. Write a Python program to check if the given number is Happy Number?\n",
    "4. Write a Python program to print all happy numbers between 1 and 100?\n",
    "5. Write a Python program to determine whether the given number is a Harshad Number?\n",
    "6. Write a Python program to print all pronic numbers between 1 and 100?"
   ]
  },
  {
   "cell_type": "code",
   "execution_count": 6,
   "metadata": {},
   "outputs": [
    {
     "name": "stdout",
     "output_type": "stream",
     "text": [
      "Pronic numbers between 1 and 100:\n",
      "2\n",
      "6\n",
      "12\n",
      "20\n",
      "30\n",
      "42\n",
      "56\n",
      "72\n",
      "90\n"
     ]
    }
   ],
   "source": [
    "# solution to 6 \n",
    "#A pronic number, also known as rectangular number, is a number that can be expressed as the product of two consecutive integers.\n",
    "\n",
    "def pronic_number(num):\n",
    "    for i in range(1, int(num**0.5) + 1):\n",
    "        if i * (i + 1) == num:\n",
    "            return True\n",
    "    return False\n",
    "\n",
    "print(\"Pronic numbers between 1 and 100:\")\n",
    "for number in range(1, 101):\n",
    "    if pronic_number(number):\n",
    "        print(number)"
   ]
  },
  {
   "cell_type": "code",
   "execution_count": 5,
   "metadata": {},
   "outputs": [
    {
     "name": "stdout",
     "output_type": "stream",
     "text": [
      "45 is a Harshad number\n"
     ]
    }
   ],
   "source": [
    "# solution to 5\n",
    "#A Harshad number (also called Niven number) is a number that is divisible by the sum of its digits.\n",
    "# if we take the sum of the digits of a Harshad number and divide the number by that sum, the result will be an integer.\n",
    "\n",
    "def harshad_number(num):\n",
    "    digit_sum = sum(int(digit) for digit in str(num))\n",
    "    return num % digit_sum == 0\n",
    "\n",
    "num = int(input(\"Enter a number: \"))\n",
    "if harshad_number(num):\n",
    "    print(num, \"is a Harshad number\")\n",
    "else:\n",
    "    print(num, \"is not a Harshad number\")\n"
   ]
  },
  {
   "cell_type": "code",
   "execution_count": 3,
   "metadata": {},
   "outputs": [
    {
     "name": "stdout",
     "output_type": "stream",
     "text": [
      "101 is not a happy number\n"
     ]
    }
   ],
   "source": [
    "#solution to 3\n",
    "#Happy number is a number where the while loop runs till the sum of square of each digit becomes 1 or number 1 is encountered again.  \n",
    "def is_happy_number(num):\n",
    "    seen = set()  # Set to store visited numbers\n",
    "    while num != 1 and num not in seen:\n",
    "        seen.add(num)\n",
    "        num = sum(int(digit) ** 2 for digit in str(num))\n",
    "    return num == 1\n",
    "\n",
    "# Test the function\n",
    "num = int(input(\"Enter a number: \"))\n",
    "if is_happy_number(num):\n",
    "    print(num, \"is a happy number\")\n",
    "else:\n",
    "    print(num, \"is not a happy number\")"
   ]
  },
  {
   "cell_type": "code",
   "execution_count": 4,
   "metadata": {},
   "outputs": [
    {
     "name": "stdout",
     "output_type": "stream",
     "text": [
      "Happy numbers between 1 and 100:\n",
      "1\n",
      "7\n",
      "10\n",
      "13\n",
      "19\n",
      "23\n",
      "28\n",
      "31\n",
      "32\n",
      "44\n",
      "49\n",
      "68\n",
      "70\n",
      "79\n",
      "82\n",
      "86\n",
      "91\n",
      "94\n",
      "97\n",
      "100\n"
     ]
    }
   ],
   "source": [
    "# solution to 4 \n",
    "#we have defined happy number function in previous example\n",
    "print(\"Happy numbers between 1 and 100:\")\n",
    "for number in range(1, 101):\n",
    "    if is_happy_number(number):\n",
    "        print(number)"
   ]
  },
  {
   "cell_type": "code",
   "execution_count": 1,
   "metadata": {},
   "outputs": [
    {
     "name": "stdout",
     "output_type": "stream",
     "text": [
      "Disarium numbers between 1 and 100:\n",
      "1\n",
      "2\n",
      "3\n",
      "4\n",
      "5\n",
      "6\n",
      "7\n",
      "8\n",
      "9\n",
      "89\n"
     ]
    }
   ],
   "source": [
    "#solution to 2:\n",
    "def is_disarium(num):\n",
    "    digits = [int(x) for x in str(num)]\n",
    "    disarium_sum = sum(digit**(index+1) for index, digit in enumerate(digits))\n",
    "    return num == disarium_sum\n",
    "\n",
    "print(\"Disarium numbers between 1 and 100:\")\n",
    "for number in range(1, 101):\n",
    "    if is_disarium(number):\n",
    "        print(number)"
   ]
  },
  {
   "cell_type": "code",
   "execution_count": 1,
   "metadata": {},
   "outputs": [],
   "source": [
    "#Disarium number is a number where the sum of its digits raised to the power of their respective positions is equal to the number itself.\n",
    "#solution to 1\n",
    "def is_disarium(number):\n",
    "    # Converting the number to a string to access individual digits\n",
    "    number_str = str(number)\n",
    "    length = len(number_str)\n",
    "    sum_of_digits = 0\n",
    "\n",
    "    for i in range(length):\n",
    "        digit = int(number_str[i])\n",
    "        sum_of_digits += digit ** (i+1)\n",
    "\n",
    "    if sum_of_digits == number:\n",
    "        return True\n",
    "    else:\n",
    "        return False\n",
    "\n",
    "number = int(input(\"Enter a number: \"))\n",
    "\n",
    "if is_disarium(number):\n",
    "    print(number, \"is a Disarium number\")\n",
    "else:\n",
    "    print(number, \"is not a Disarium number\")\n"
   ]
  },
  {
   "cell_type": "code",
   "execution_count": null,
   "metadata": {},
   "outputs": [],
   "source": []
  }
 ],
 "metadata": {
  "kernelspec": {
   "display_name": "Python 3",
   "language": "python",
   "name": "python3"
  },
  "language_info": {
   "codemirror_mode": {
    "name": "ipython",
    "version": 3
   },
   "file_extension": ".py",
   "mimetype": "text/x-python",
   "name": "python",
   "nbconvert_exporter": "python",
   "pygments_lexer": "ipython3",
   "version": "3.10.4"
  },
  "orig_nbformat": 4
 },
 "nbformat": 4,
 "nbformat_minor": 2
}
