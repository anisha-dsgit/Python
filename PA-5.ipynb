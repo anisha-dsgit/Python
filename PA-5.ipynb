{
 "cells": [
  {
   "attachments": {},
   "cell_type": "markdown",
   "metadata": {},
   "source": [
    "1. Write a Python Program to Find LCM?\n",
    "2. Write a Python Program to Find HCF?\n",
    "3. Write a Python Program to Convert Decimal to Binary, Octal and Hexadecimal?\n",
    "4. Write a Python Program To Find ASCII value of a character?\n",
    "5. Write a Python Program to Make a Simple Calculator with 4 basic mathematical operations?\n"
   ]
  },
  {
   "cell_type": "code",
   "execution_count": 12,
   "metadata": {},
   "outputs": [
    {
     "data": {
      "text/plain": [
       "10"
      ]
     },
     "execution_count": 12,
     "metadata": {},
     "output_type": "execute_result"
    }
   ],
   "source": [
    "#solution to Q2 find hcf\n",
    "def find_hcf(a,b):\n",
    "    smaller_num= min(a,b)\n",
    "    hcf=1\n",
    "    for i in range(1, smaller_num+1):\n",
    "        if a%i==0 and b%i==0:\n",
    "            hcf=i\n",
    "    return hcf\n",
    "\n",
    "find_hcf(20,30)\n",
    "\n"
   ]
  },
  {
   "cell_type": "code",
   "execution_count": 10,
   "metadata": {},
   "outputs": [],
   "source": [
    "#solution to Q1\n",
    "a=input(\"any whole number \")\n",
    "b=input(\"any whole number \")\n",
    "def lcm_find(a,b):\n",
    "    max_num=max(a,b)\n",
    "    lcm=max_num\n",
    "    while True:\n",
    "        if lcm%a==0 and lcm%b==0:\n",
    "            lcm=lcm+max_num\n",
    "    \n",
    "    return lcm\n",
    "\n",
    "lcm_find(20,30)"
   ]
  },
  {
   "cell_type": "code",
   "execution_count": 2,
   "metadata": {},
   "outputs": [
    {
     "name": "stdout",
     "output_type": "stream",
     "text": [
      "Decimal num: 65\n",
      "Binary num: 1000001\n",
      "Octal num: 101\n",
      "Hexadecimal num: 41\n"
     ]
    }
   ],
   "source": [
    "#3. Write a Python Program to Convert Decimal to Binary, Octal and Hexadecimal?\n",
    "def decimal_to_base(number, base):\n",
    "    if base == 2:\n",
    "        return bin(number)[2:]\n",
    "    elif base == 8:\n",
    "        return oct(number)[2:]\n",
    "    elif base == 16:\n",
    "        return hex(number)[2:]\n",
    "    else:\n",
    "        return \"Invalid base\"\n",
    "\n",
    "\n",
    "# Example usage\n",
    "decimal_num = 65\n",
    "binary_num = decimal_to_base(decimal_num, 2)\n",
    "octal_num = decimal_to_base(decimal_num, 8)\n",
    "hexadecimal_num = decimal_to_base(decimal_num, 16)\n",
    "\n",
    "print(\"Decimal num:\", decimal_num)\n",
    "print(\"Binary num:\", binary_num)\n",
    "print(\"Octal num:\", octal_num)\n",
    "print(\"Hexadecimal num:\", hexadecimal_num)"
   ]
  },
  {
   "cell_type": "code",
   "execution_count": 7,
   "metadata": {},
   "outputs": [
    {
     "name": "stdout",
     "output_type": "stream",
     "text": [
      "Result: 7.0\n"
     ]
    }
   ],
   "source": [
    "#5. Write a Python Program to Make a Simple Calculator with 4 basic mathematical operations?\n",
    "#solution to Q5\n",
    "\n",
    "def calculate(a,b):\n",
    "    if operation == \"+\":\n",
    "        return a + b\n",
    "    elif operation == \"-\":\n",
    "        return a - b\n",
    "    elif operation == \"*\":\n",
    "        return a * b\n",
    "    elif operation == \"/\":\n",
    "        if b != 0:\n",
    "           return a / b\n",
    "        else:\n",
    "           return \"Error: Division by zero\"\n",
    "    else:\n",
    "        result = \"Invalid operation\"\n",
    "\n",
    "# Print the result\n",
    "a= float(input())\n",
    "b= float(input())\n",
    "operation =input(\"enter any operation: + or - or * or /\")\n",
    "print(\"Result:\", calculate(a,b))"
   ]
  },
  {
   "cell_type": "code",
   "execution_count": 3,
   "metadata": {},
   "outputs": [
    {
     "name": "stdout",
     "output_type": "stream",
     "text": [
      "ASCII value of A is 65\n"
     ]
    }
   ],
   "source": [
    "#4. Write a Python Program To Find ASCII value of a character?\n",
    "def ascii_value(char):\n",
    "    ascii_table = { 'A': 65, 'B': 66, 'C': 67 }\n",
    "    return ascii_table.get(char)\n",
    "\n",
    "char = 'A'\n",
    "ascii_value = ascii_value(char)\n",
    "\n",
    "if ascii_value is not None:\n",
    "    print(\"ASCII value of\", char, \"is\", ascii_value)\n",
    "else:\n",
    "    print(\"Invalid char\")"
   ]
  },
  {
   "cell_type": "code",
   "execution_count": null,
   "metadata": {},
   "outputs": [],
   "source": []
  }
 ],
 "metadata": {
  "kernelspec": {
   "display_name": "Python 3",
   "language": "python",
   "name": "python3"
  },
  "language_info": {
   "codemirror_mode": {
    "name": "ipython",
    "version": 3
   },
   "file_extension": ".py",
   "mimetype": "text/x-python",
   "name": "python",
   "nbconvert_exporter": "python",
   "pygments_lexer": "ipython3",
   "version": "3.10.4"
  },
  "orig_nbformat": 4
 },
 "nbformat": 4,
 "nbformat_minor": 2
}
