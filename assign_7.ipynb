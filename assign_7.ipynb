{
 "cells": [
  {
   "cell_type": "markdown",
   "id": "1e96f18a",
   "metadata": {},
   "source": [
    "1. What is the name of the feature responsible for generating Regex objects?\n",
    "\n",
    "re.compile() generates regex objects. "
   ]
  },
  {
   "cell_type": "code",
   "execution_count": 28,
   "id": "70ff5b8a",
   "metadata": {},
   "outputs": [],
   "source": [
    "pattern=re.compile(r\"^c.....e$\")"
   ]
  },
  {
   "cell_type": "markdown",
   "id": "74cbf73b",
   "metadata": {},
   "source": [
    "2. raw string doesn't treat \" \\ \" as an escape character and so is used in its literal manner. that is why it appears\n",
    "as a regular expression in regex objects."
   ]
  },
  {
   "cell_type": "markdown",
   "id": "44b527f2",
   "metadata": {},
   "source": [
    "3. What is the return value of the search() method?"
   ]
  },
  {
   "cell_type": "markdown",
   "id": "97aa60fe",
   "metadata": {},
   "source": [
    "3. re.search() returns the match of the string from the substring with its start position and the end position. \n",
    "\n",
    "    string ='jlapapapapa'\n",
    "    re.search(\"ap\",string)\n",
    "\n",
    "\n",
    "    Difference between re.match() and re.search()\n",
    "                re.search() and re.match() are two functions of module re and both return the first match of a substring found       in the string, \n",
    "   \n",
    "   re.match() searches only from the beginning of the string and return match object if found. \n",
    "   But if a match of substring is found somewhere in the middle of the string, it returns none.\n",
    "\n",
    "   re.search() searches for the whole string even if the string contains multi-lines and tries to find \n",
    "   a match of the substring in all the lines of string.\n",
    "  \n",
    "   return value of search method is an object. "
   ]
  },
  {
   "cell_type": "code",
   "execution_count": 29,
   "id": "f654c5d6",
   "metadata": {},
   "outputs": [],
   "source": [
    "4. From a Match item, how do you get the actual strings that match the pattern?"
   ]
  },
  {
   "cell_type": "code",
   "execution_count": 20,
   "id": "fc31fa3e",
   "metadata": {},
   "outputs": [
    {
     "name": "stdout",
     "output_type": "stream",
     "text": [
      "<re.Match object; span=(0, 7), match='cyclone'>\n"
     ]
    }
   ],
   "source": [
    "import re \n",
    "pattern=re.compile(\"^cyclone\")\n",
    "text =r\"cyclone dvjijvited djnjned dyclone skofoinfoined dyclone\"\n",
    "\n",
    "count_of_matches=re.match(pattern, text)\n",
    "print(count_of_matches)"
   ]
  },
  {
   "cell_type": "markdown",
   "id": "0dc82711",
   "metadata": {},
   "source": [
    "5. In the regex which created from the r\"(\\d\\d\\d)-(\\d\\d\\d-\\d\\d\\d\\d)\" ,\n",
    "    what does group zero cover? Group 2? Group 1?\n",
    "\n",
    "   group(0) says that the whole part of match_object is chosen.\n",
    "\n",
    "   group(1) means the first paranthesis pair locates matching expression 1, \n",
    "\n",
    "   group(2) says the second next paranthesis pair locates the match expression 2, and so on\n"
   ]
  },
  {
   "cell_type": "code",
   "execution_count": 22,
   "id": "ffb92f33",
   "metadata": {},
   "outputs": [
    {
     "name": "stdout",
     "output_type": "stream",
     "text": [
      "n.group(0):  654-789-5643\n",
      "n.group(1):  654\n",
      "n.group(2):  789-5643\n"
     ]
    }
   ],
   "source": [
    "pattern =re.compile(r\"(\\d\\d\\d)-(\\d\\d\\d-\\d\\d\\d\\d)\")\n",
    "n =pattern.search(\"my number is 654-789-5643\")\n",
    "\n",
    "print(\"n.group(0): \",  n.group(0))\n",
    "print(\"n.group(1): \",n.group(1))\n",
    "print(\"n.group(2): \",n.group(2))\n",
    "\n",
    "  "
   ]
  },
  {
   "cell_type": "markdown",
   "id": "515c34e4",
   "metadata": {},
   "source": [
    "Q6. In standard expression syntax, parentheses and intervals have distinct meanings. How can you tell\n",
    "a regex that you want it to fit real parentheses and periods?\n",
    "\n",
    "Solution: it can be fit by adding backslash before parantheses or periods to add them in regular expressions. "
   ]
  },
  {
   "cell_type": "markdown",
   "id": "daef522a",
   "metadata": {},
   "source": [
    "Q7.The findall() method returns a string list or a list of string tuples. What causes it to return one of\n",
    "the two options?\n",
    "\n",
    "Solution : it returns a string list."
   ]
  },
  {
   "cell_type": "code",
   "execution_count": 25,
   "id": "4508b0b3",
   "metadata": {},
   "outputs": [
    {
     "data": {
      "text/plain": [
       "['ed', 'ed', 'ed']"
      ]
     },
     "execution_count": 25,
     "metadata": {},
     "output_type": "execute_result"
    }
   ],
   "source": [
    "pattern=re.compile(r\"ed\\b\")\n",
    "text =r\"dvjijvited at bribcyclone djnjned at dyclone skofoinfoinedt dycloned at\"\n",
    "lis=re.findall(pattern, text)\n",
    "lis"
   ]
  },
  {
   "cell_type": "markdown",
   "id": "aa0c3406",
   "metadata": {},
   "source": [
    "8. In standard expressions, what does the | character mean?"
   ]
  },
  {
   "cell_type": "markdown",
   "id": "84a5df28",
   "metadata": {},
   "source": [
    "this is the OR operator used to specify or filter out values that they can be any of the following. "
   ]
  },
  {
   "cell_type": "markdown",
   "id": "082eafab",
   "metadata": {},
   "source": [
    "10. In regular expressions, what is the difference between the + and * characters?\n",
    "\n",
    "+ => Causes the resulting RE to match 1 or more repetitions of the preceding Regex. ab+ will match ‘a’ followed by any non-zero number of ‘b’s; it will not match just ‘a’.\n",
    "\n",
    "* => Causes the resulting RE to match 0 or more repetitions of the preceding RE, as many repetitions as are possible. ab* will match ‘a’, ‘ab’, or ‘a’ followed by any number of ‘b’s.\n"
   ]
  },
  {
   "cell_type": "markdown",
   "id": "0da5bb07",
   "metadata": {},
   "source": [
    "11. What is the difference between {4} and {4,5} in regular expression?\n",
    "\n",
    "{4} => Specifies that exactly m copies of the previous RE should be matched; fewer matches cause the entire RE not to match. For example, {} will match exactly four regex characters, but not five.\n",
    "\n",
    "{4,5} => Causes the resulting RE to match from m to n repetitions of the preceding RE, attempting to match as many repetitions as possible. For example, {4,5} will match from 4 to 5 characters of preceding regex.\n"
   ]
  },
  {
   "cell_type": "markdown",
   "id": "2e71d548",
   "metadata": {},
   "source": [
    "12. What do you mean by the \\d, \\w, and \\s shorthand character classes signify in regular\n",
    "    expressions?\n",
    "    \n",
    "    \\d => Matches any Unicode decimal digit (that is, any character in Unicode character category [Nd]). This includes [0-9]\n",
    "    \n",
    "    \\w => Matches Unicode word characters; this includes alphanumeric characters (as defined by str.isalnum()) as well as the             underscore (_). If the ASCII flag is used, only [a-zA-Z0-9_] is matched.\n",
    "    \n",
    "    \\s => Matches Unicode whitespace characters (which includes [ \\t\\n\\r\\f\\v], and also many other characters."
   ]
  },
  {
   "cell_type": "code",
   "execution_count": 36,
   "id": "f86cbbfd",
   "metadata": {},
   "outputs": [
    {
     "name": "stdout",
     "output_type": "stream",
     "text": [
      "display number 678.\n",
      "dsgit@ymail.com.\n",
      "[' ', '   ', ' ', '       ']\n"
     ]
    }
   ],
   "source": [
    "# Example:\n",
    "import re\n",
    "my_str = \"678.\"\n",
    "pattern = r\"\\d{3}\"\n",
    "match = re.search(pattern, my_str)\n",
    "print(f\"display number {match.group()}.\")\n",
    "\n",
    "my_str1 = \" mail address: dsgit@ymail.com\"\n",
    "pattern1 = r\"\\w+@\\w+.com\"\n",
    "match1 = re.search(pattern1, my_str1)\n",
    "print(f\"{match1.group()}.\")\n",
    "\n",
    "my_str2 = \"space space   space space       space\"\n",
    "pattern2 = r\"\\s+\"\n",
    "match2 = re.findall(pattern2, my_str2)\n",
    "print(match2)"
   ]
  },
  {
   "cell_type": "markdown",
   "id": "9b4a4572",
   "metadata": {},
   "source": [
    "13. What do means by \\D, \\W, and \\S shorthand character classes signify in regular expressions?\n",
    "\n",
    "\\D matches any character that is not a digit (0-9).\n",
    "\n",
    "\\W matches any character that is not a word character, which includes letters, digits, and underscores. This includes punctuation and special characters.\n",
    "\n",
    "\\S matches any character that is not a whitespace character, which includes spaces, tabs, and line breaks.\n",
    "\n"
   ]
  },
  {
   "cell_type": "code",
   "execution_count": 39,
   "id": "800eeb51",
   "metadata": {},
   "outputs": [
    {
     "name": "stdout",
     "output_type": "stream",
     "text": [
      "['gfibgib', 'kfnnfn', 'i']\n"
     ]
    }
   ],
   "source": [
    "pattern = r\"\\D+\"\n",
    "string = \"gfibgib2093494kfnnfn49i40\"\n",
    "matches = re.findall(pattern, string)\n",
    "print(matches)"
   ]
  },
  {
   "cell_type": "markdown",
   "id": "4141b2d1",
   "metadata": {},
   "source": [
    "14. What is the difference between .*? and .*?\n",
    "\n",
    ".* is a greedy quantifier that matches any character (except for line breaks) zero or more times. This means that it will match as many characters as possible, while still allowing the rest of the regular expression pattern to match. For example, the regular expression a.*b would match the string \"aabbccbbddeebbb\", returning \"aabccbbeeb\" as a match.\n",
    "\n",
    ".*? is a non-greedy quantifier that also matches any character zero or more times, but it matches as few characters as possible, while still allowing the rest of the regular expression pattern to match. For example, the regular expression a.*?b would match the same string \"aabbccbbddeebbb\", but it would return \"aab\" as a match.\n"
   ]
  },
  {
   "cell_type": "code",
   "execution_count": 41,
   "id": "59099f07",
   "metadata": {},
   "outputs": [
    {
     "name": "stdout",
     "output_type": "stream",
     "text": [
      "['aabbccbbddeebbb'], ['aab']\n"
     ]
    }
   ],
   "source": [
    "import re \n",
    "my_str = \"aabbccbbddeebbb\"\n",
    "pattern1 = r\"a.*b\"\n",
    "pattern2 = r\"a.*?b\"\n",
    "match1 = re.findall(pattern1, my_str)\n",
    "match2=re.findall(pattern2,my_str)\n",
    "print(f\"{match1}, {match2}\")"
   ]
  },
  {
   "cell_type": "markdown",
   "id": "a90e0745",
   "metadata": {},
   "source": [
    "15. What is the syntax for matching both numbers and lowercase letters with a character class?\n",
    "\n",
    "    r\"[0-9a-z]+\" => is the syntax for matching both strings and numbers."
   ]
  },
  {
   "cell_type": "code",
   "execution_count": 42,
   "id": "bfa2e04a",
   "metadata": {},
   "outputs": [
    {
     "name": "stdout",
     "output_type": "stream",
     "text": [
      "<re.Match object; span=(0, 11), match='dhbvhbn9000'>\n"
     ]
    }
   ],
   "source": [
    "pattern=r\"[0-9a-zz]+\"\n",
    "string=\"dhbvhbn9000 ireir9900\"\n",
    "match=re.match(pattern,string)\n",
    "print(match)"
   ]
  },
  {
   "cell_type": "markdown",
   "id": "c618eca7",
   "metadata": {},
   "source": [
    "16. What is the procedure for making a normal expression in regax case insensitive?\n",
    "\n",
    "    To make a regular expression case-insensitive in Python's re module, you can use the re.IGNORECASE flag. This flag tells the     re module to ignore the case of the text when matching the regular expression pattern.\n",
    "    \n",
    "    it is present in re.compile(pattern,string,re.IGNORECASE)"
   ]
  },
  {
   "cell_type": "code",
   "execution_count": 45,
   "id": "af6cf40a",
   "metadata": {},
   "outputs": [
    {
     "name": "stdout",
     "output_type": "stream",
     "text": [
      "<re.Match object; span=(0, 15), match='Hosanna HOSANNA'>\n",
      "<re.Match object; span=(0, 15), match='HOSANNA hosanna'>\n",
      "<re.Match object; span=(0, 15), match='hOsaNNa HoSannA'>\n"
     ]
    }
   ],
   "source": [
    "import re\n",
    "pattern = r\"hosanna hosanna\"\n",
    "regex = re.compile(pattern, re.IGNORECASE) # making the regular expression case-insensitive\n",
    "\n",
    "string1 = \"Hosanna HOSANNA\"\n",
    "string2 = \"HOSANNA hosanna\"\n",
    "string3 = \"hOsaNNa HoSannA\"\n",
    "\n",
    "match1 = regex.search(string1)\n",
    "match2 = regex.search(string2)\n",
    "match3 = regex.search(string3)\n",
    "\n",
    "print(match1)\n",
    "print(match2)\n",
    "print(match3)"
   ]
  },
  {
   "cell_type": "markdown",
   "id": "5ab1bfde",
   "metadata": {},
   "source": [
    "17. What does the . character normally match? What does it match if re.DOTALL is passed as 2nd\n",
    "argument in re.compile()?\n",
    "\n",
    "the . character in a regular expression pattern normally matches any character except for a newline character (\\n). So, for example, the pattern a.b would match a string that contains an \"a\" character, followed by any character (except \\n), followed by a \"b\" character.\n",
    "\n",
    "However, if you pass the re.DOTALL flag as the second argument to re.compile(), then the . character will match any character, including a newline character. This flag makes the regular expression pattern \"dot-all\", meaning that the . character will match any character in the input string."
   ]
  },
  {
   "cell_type": "code",
   "execution_count": 65,
   "id": "d1569cd2",
   "metadata": {},
   "outputs": [
    {
     "name": "stdout",
     "output_type": "stream",
     "text": [
      "<re.Match object; span=(0, 3), match='a@b'>\n",
      "a@b\n"
     ]
    }
   ],
   "source": [
    "import re\n",
    "pattern = r\"a.b\"\n",
    "string = \"a@bbbbb a\\nb a@baaaa\"\n",
    "\n",
    "# pattern without the DOTALL flag\n",
    "regex1 = re.compile(pattern)\n",
    "\n",
    "# pattern with the DOTALL flag\n",
    "regex2 = re.compile(pattern, re.DOTALL)\n",
    "\n",
    "# Test\n",
    "match1 = regex1.search(string)\n",
    "match2 = regex2.search(string)\n",
    "\n",
    "# Print the results \n",
    "print(match1)  # returns None, since the pattern doesn't match across the newline\n",
    "print(match2.group(0))"
   ]
  },
  {
   "cell_type": "markdown",
   "id": "a83baf1b",
   "metadata": {},
   "source": [
    "18. If numReg = re.compile(r&#39;\\d+&#39;), what will numRegex.sub(&#39;X&#39;, &#39;11 drummers, 10 pipers, five rings, 4\n",
    "hen&#39;) return?"
   ]
  },
  {
   "cell_type": "code",
   "execution_count": 68,
   "id": "2b102ba8",
   "metadata": {},
   "outputs": [
    {
     "data": {
      "text/plain": [
       "'X drummers, X pipers, five rings, X hen'"
      ]
     },
     "execution_count": 68,
     "metadata": {},
     "output_type": "execute_result"
    }
   ],
   "source": [
    "numreg=re.compile(r'\\d+')\n",
    "string ='11 drummers, 10 pipers, five rings, 4 hen'\n",
    "numreg.sub(repl='X',string=string)"
   ]
  },
  {
   "cell_type": "markdown",
   "id": "93ac3869",
   "metadata": {},
   "source": [
    "19. What does passing re.VERBOSE as the 2nd argument to re.compile() allow to do?\n",
    "\n",
    "Solution: Passing re.VERBOSE as the second argument to the re.compile() function in Python allows you to use verbose mode in the           regular expression pattern.\n",
    "\n",
    "Verbose mode is a feature of Python's re module that allows you to write regular expression patterns in a more readable and organized way, by ignoring whitespace and comments within the pattern. When verbose mode is enabled, you can add whitespace, comments, and line breaks to your regular expression pattern without affecting its behavior. It's similar to using # for comments for more readability."
   ]
  },
  {
   "cell_type": "code",
   "execution_count": 70,
   "id": "0c16a7d0",
   "metadata": {},
   "outputs": [
    {
     "name": "stdout",
     "output_type": "stream",
     "text": [
      "123) 456-7890\n"
     ]
    }
   ],
   "source": [
    "# pattern to match a U.S. phone number\n",
    "phone_pattern = re.compile(r'''\n",
    "               # Match the area code (optional)\n",
    "    (\\d{3})?     # Optional area code, enclosed in parentheses\n",
    "    \\D*          # Optional non-digit characters between area code and exchange for space\n",
    "    (\\d{3})      # Exchange (first three digits)\n",
    "    \\D*          # Optional non-digit characters between exchange and line number\n",
    "    (\\d{4})      # Line number (last four digits)\n",
    "''', re.VERBOSE)\n",
    "phone_number = \"(123) 456-7890\"\n",
    "match = phone_pattern.search(phone_number)\n",
    "print(match.group())"
   ]
  },
  {
   "cell_type": "markdown",
   "id": "51e33b3b",
   "metadata": {},
   "source": [
    "20. How would you write a regex that match a number with comma for every three digits? It must\n",
    "match the given following:\n",
    "&#39;42&#39;\n",
    "\n",
    "&#39;1,234&#39;\n",
    "\n",
    "&#39;6,368,745&#39;\n",
    "\n",
    "but not the following:\n",
    "\n",
    "&#39;12,34,567&#39; (which has only two digits between the commas)\n",
    "\n",
    "&#39;1234&#39; (which lacks commas)\n",
    "\n",
    "solution:\n",
    "\n",
    "we will use pattern = re.compile(r'^\\d{1,3}(,\\d{3})*$').\n",
    "\n",
    "^: Matches the start of the string.\n",
    "\n",
    "\\d{1,3}: Matches 1 to 3 digits\n",
    "\n",
    "(,\\d{3})*: Matches zero or more occurrences of a comma followed by exactly 3 digits\n",
    "\n",
    "$: Matches the end of the string"
   ]
  },
  {
   "cell_type": "code",
   "execution_count": 71,
   "id": "f595ec5b",
   "metadata": {},
   "outputs": [
    {
     "name": "stdout",
     "output_type": "stream",
     "text": [
      "42 matches\n",
      "1,234 matches\n",
      "6,368,745 matches\n",
      "12,34,567 does not match\n",
      "1234 does not match\n"
     ]
    }
   ],
   "source": [
    "pattern = re.compile(r'^\\d{1,3}(,\\d{3})*$')\n",
    " \n",
    "strings = ['42', '1,234', '6,368,745', '12,34,567', '1234']\n",
    "for s in strings:\n",
    "    if pattern.match(s):\n",
    "        print(s, 'matches')\n",
    "    else:\n",
    "        print(s, 'does not match')"
   ]
  },
  {
   "cell_type": "markdown",
   "id": "4a8649da",
   "metadata": {},
   "source": [
    "21. How would you write a regex that matches the full name of someone whose last name is\n",
    "Watanabe? You can assume that the first name that comes before it will always be one word that\n",
    "begins with a capital letter. The regex must match the following:\n",
    "\n",
    "&#39;Haruto Watanabe&#39;\n",
    "\n",
    "&#39;Alice Watanabe&#39;\n",
    "\n",
    "&#39;RoboCop Watanabe&#39;\n",
    "\n",
    "but not the following:\n",
    "\n",
    "&#39;haruto Watanabe&#39; (where the first name is not capitalized)\n",
    "\n",
    "&#39;Mr. Watanabe&#39; (where the preceding word has a nonletter character)\n",
    "\n",
    "&#39;Watanabe&#39; (which has no first name)\n",
    "\n",
    "&#39;Haruto watanabe&#39; (where Watanabe is not capitalized)"
   ]
  },
  {
   "cell_type": "code",
   "execution_count": 76,
   "id": "10aeb5f0",
   "metadata": {},
   "outputs": [
    {
     "name": "stdout",
     "output_type": "stream",
     "text": [
      "Haruto Watanabe \t matches\n",
      "Alice Watanabe \t matches\n",
      "RoboCop Watanabe \t matches\n",
      "haruto Watanabe \t does not match\n",
      "Mr. Watanabe \t does not match\n",
      "Watanabe \t does not match\n",
      "Haruto watanabe \t does not match\n"
     ]
    }
   ],
   "source": [
    "#^: Matches the start of the string\n",
    "#[A-Z][a-zA-Z]*: Matches a single uppercase letter followed by zero or more lowercase or uppercase letters for the first name\n",
    "#\\s: Matches a whitespace character (space, tab, or newline)\n",
    "#Watanabe: Matches the last name \"Watanabe\"\n",
    "#$: Matches the end of the string\n",
    "\n",
    "pattern = re.compile(r\"^[A-Z][a-zA-Z]*\\sWatanabe$\")\n",
    "lis = ['Haruto Watanabe', 'Alice Watanabe', 'RoboCop Watanabe', 'haruto Watanabe', 'Mr. Watanabe', 'Watanabe', 'Haruto watanabe']\n",
    "for word in lis:\n",
    "    if pattern.match(word):\n",
    "        print(word,\"\\t\",'matches')\n",
    "    else:\n",
    "        print(word,\"\\t\",'does not match')"
   ]
  },
  {
   "cell_type": "markdown",
   "id": "04199bbe",
   "metadata": {},
   "source": [
    "22. How would you write a regex that matches a sentence where the first word is either Alice, Bob,\n",
    "or Carol; the second word is either eats, pets, or throws; the third word is apples, cats, or baseballs;\n",
    "and the sentence ends with a period? This regex should be case-insensitive. It must match the\n",
    "following:\n",
    "\n",
    "&#39;Alice eats apples.&#39;\n",
    "\n",
    "&#39;Bob pets cats.&#39;\n",
    "\n",
    "&#39;Carol throws baseballs.&#39;\n",
    "\n",
    "&#39;Alice throws Apples.&#39;\n",
    "\n",
    "&#39;BOB EATS CATS.&#39;\n",
    "\n",
    "but not the following:\n",
    "\n",
    "&#39;RoboCop eats apples.&#39;\n",
    "\n",
    "&#39;ALICE THROWS FOOTBALLS.&#39;\n",
    "\n",
    "&#39;Carol eats 7 cats.&#39;"
   ]
  },
  {
   "cell_type": "code",
   "execution_count": 81,
   "id": "74d6a23e",
   "metadata": {},
   "outputs": [
    {
     "name": "stdout",
     "output_type": "stream",
     "text": [
      "Alice eats apples\n",
      "Bob pets cats\n",
      "Carol throws baseballs\n",
      "Alice throws Apples\n",
      "BOB EATS CATS\n",
      "no match\n",
      "no match\n",
      "no match\n"
     ]
    }
   ],
   "source": [
    "requirement=r'^(alice|bob|carol)\\s(eats|pets|throws)\\s(apples|cats|baseballs)$'\n",
    "pattern1=re.compile(requirement,re.IGNORECASE)\n",
    "\n",
    "lis1 = ['Alice eats apples', 'Bob pets cats', 'Carol throws baseballs', 'Alice throws Apples', 'BOB EATS CATS', 'RoboCop eats apples', 'ALICE THROWS FOOTBALLS', 'Carol eats 7 cats']\n",
    "for word in lis1:\n",
    "    if pattern1.match(word):\n",
    "        print(word)\n",
    "    else:\n",
    "        print(\"no match\")"
   ]
  },
  {
   "cell_type": "code",
   "execution_count": null,
   "id": "24cb2829",
   "metadata": {},
   "outputs": [],
   "source": []
  }
 ],
 "metadata": {
  "kernelspec": {
   "display_name": "Python 3 (ipykernel)",
   "language": "python",
   "name": "python3"
  },
  "language_info": {
   "codemirror_mode": {
    "name": "ipython",
    "version": 3
   },
   "file_extension": ".py",
   "mimetype": "text/x-python",
   "name": "python",
   "nbconvert_exporter": "python",
   "pygments_lexer": "ipython3",
   "version": "3.9.12"
  }
 },
 "nbformat": 4,
 "nbformat_minor": 5
}
