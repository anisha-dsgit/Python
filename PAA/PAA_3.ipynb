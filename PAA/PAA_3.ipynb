{
 "cells": [
  {
   "attachments": {},
   "cell_type": "markdown",
   "metadata": {},
   "source": [
    "1. What is the concept of an abstract superclass?\n",
    "\n",
    "2. What happens when a class statement&#39;s top level contains a basic assignment statement?\n",
    "\n",
    "3. Why does a class need to manually call a superclass&#39;s __init__ method?\n",
    "\n",
    "4. How can you augment, instead of completely replacing, an inherited method?\n",
    "\n",
    "5. How is the local scope of a class different from that of a function?"
   ]
  },
  {
   "cell_type": "code",
   "execution_count": 1,
   "metadata": {},
   "outputs": [
    {
     "name": "stdout",
     "output_type": "stream",
     "text": [
      "Area: 25\n",
      "Perimeter: 20\n"
     ]
    }
   ],
   "source": [
    "#1. \n",
    "# An abstract superclass, also known as an abstract base class (ABC).\n",
    "# It serves as a blueprint for subclasses, providing a common interface and defining common behavior.\n",
    "# does not initialize itself. \n",
    "#an abstract superclass defines abstract methods or attributes that must be implemented by its subclasses. \n",
    "#To define an abstract superclass, we make use of the abc module, which provides the ABC (Abstract Base Class) and abstractmethod decorators.\n",
    "\n",
    "from abc import ABC, abstractmethod\n",
    "\n",
    "class Shape(ABC):\n",
    "    @abstractmethod\n",
    "    def calculate_area(self):\n",
    "        pass\n",
    "\n",
    "    @abstractmethod\n",
    "    def calculate_perimeter(self):\n",
    "        pass\n",
    "\n",
    "class Square(Shape):\n",
    "    def __init__(self, length):\n",
    "        self.length = length\n",
    "        \n",
    "\n",
    "    def calculate_area(self):\n",
    "        return self.length * self.length\n",
    "\n",
    "    def calculate_perimeter(self):\n",
    "        return 4* (self.length)\n",
    "\n",
    "# Creating an instance of the Rectangle class\n",
    "square = Square(5)\n",
    "\n",
    "# Calling the methods inherited from the abstract superclass\n",
    "area = square.calculate_area()\n",
    "perimeter = square.calculate_perimeter()\n",
    "\n",
    "print(\"Area:\", area)\n",
    "print(\"Perimeter:\", perimeter)\n"
   ]
  },
  {
   "cell_type": "code",
   "execution_count": 2,
   "metadata": {},
   "outputs": [
    {
     "name": "stdout",
     "output_type": "stream",
     "text": [
      "35\n",
      "20\n",
      "20\n",
      "35\n",
      "35\n",
      "30\n"
     ]
    }
   ],
   "source": [
    "#solution to 2\n",
    "# Class contains top level assignment \n",
    "# meaning: this variable contains to the class and all the instance objects, attributes can access it \n",
    "# unlike the instance variable created through instance object\n",
    "# 1. class variable assignment can be accesed anywhere, modified also\n",
    "\n",
    "class MyClass:\n",
    "    class_variable = 35\n",
    "\n",
    "    def __init__(self):\n",
    "        self.instance_variable = 20\n",
    "\n",
    "# Accessing class-level variable\n",
    "print(MyClass.class_variable)  # Output: 35\n",
    "\n",
    "# Creating instances of MyClass\n",
    "obj1 = MyClass()\n",
    "obj2 = MyClass()\n",
    "\n",
    "# Accessing instance variables\n",
    "print(obj1.instance_variable)  # Output: 20\n",
    "print(obj2.instance_variable)  # Output: 20\n",
    "\n",
    "#accesing class level variable through instance object \n",
    "print(obj1.class_variable)\n",
    "print(obj2.class_variable)\n",
    "\n",
    "# Modifying class-level variable\n",
    "MyClass.class_variable = 30\n",
    "\n",
    "# Accessing class-level variable again\n",
    "print(MyClass.class_variable) #output: 30\n"
   ]
  },
  {
   "attachments": {},
   "cell_type": "markdown",
   "metadata": {},
   "source": [
    "# solution to 3 \n",
    "Sub class needs to call the __init__ method of superclass manually when it wants to \n",
    "- initialize its own variables in addition to the superclass variables \n",
    "- calling the superclass's __init__ method allows the subclass to reuse and build upon the superclass's initialization logic \n"
   ]
  },
  {
   "cell_type": "code",
   "execution_count": 3,
   "metadata": {},
   "outputs": [
    {
     "name": "stdout",
     "output_type": "stream",
     "text": [
      "Red\n",
      "Sedan\n"
     ]
    }
   ],
   "source": [
    "class Vehicle:\n",
    "    def __init__(self, color):\n",
    "        self.color = color\n",
    "\n",
    "class Car(Vehicle):\n",
    "    def __init__(self, color, model):\n",
    "        super().__init__(color)  # Call superclass's __init__ method\n",
    "        self.model = model\n",
    "\n",
    "car = Car(\"Red\", \"Sedan\")\n",
    "print(car.color)  # Output: Red\n",
    "print(car.model)  # Output: Sedan"
   ]
  },
  {
   "cell_type": "code",
   "execution_count": 4,
   "metadata": {},
   "outputs": [
    {
     "name": "stdout",
     "output_type": "stream",
     "text": [
      "Animal makes a sound.\n",
      "Cat meows.\n"
     ]
    }
   ],
   "source": [
    "#4.\n",
    "#The super() function allows you to access and call methods from the superclass. By calling super().method_name(), you can invoke the superclass's\n",
    "#implementation of the method and then perform any additional modifications or logic specific to the subclass.\n",
    "\n",
    "class Animal:\n",
    "    def make_sound(self):\n",
    "        print(\"Animal makes a sound.\")\n",
    "\n",
    "class Cat(Animal):\n",
    "    def make_sound(self):\n",
    "        super().make_sound()  # Call the superclass's make_sound method\n",
    "        print(\"Cat meows.\")\n",
    "\n",
    "cat = Cat()\n",
    "cat.make_sound() \n",
    "\n",
    "#above example: super.make_sound() calls the superclass and we can make necessary modifications here. to augment the changes instead of deleting them"
   ]
  },
  {
   "cell_type": "code",
   "execution_count": 5,
   "metadata": {},
   "outputs": [],
   "source": [
    "#5. local scope of a variable in class is limited to class but it can be accessed by any attributes or instance objects created from the class\n",
    "\n",
    "# local scope of variable in a function is defined for that particular function only and not accessible outside the function unless specific gloabl."
   ]
  }
 ],
 "metadata": {
  "kernelspec": {
   "display_name": "Python 3",
   "language": "python",
   "name": "python3"
  },
  "language_info": {
   "codemirror_mode": {
    "name": "ipython",
    "version": 3
   },
   "file_extension": ".py",
   "mimetype": "text/x-python",
   "name": "python",
   "nbconvert_exporter": "python",
   "pygments_lexer": "ipython3",
   "version": "3.10.4"
  },
  "orig_nbformat": 4
 },
 "nbformat": 4,
 "nbformat_minor": 2
}
