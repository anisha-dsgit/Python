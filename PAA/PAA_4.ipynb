{
 "cells": [
  {
   "attachments": {},
   "cell_type": "markdown",
   "metadata": {},
   "source": [
    "Q1. Which two operator overloading methods can you use in your classes to support iteration?\n",
    "\n",
    "Q2. In what contexts do the two operator overloading methods manage printing?\n",
    "\n",
    "Q3. In a class, how do you intercept slice operations?\n",
    "\n",
    "Q4. In a class, how do you capture in-place addition?\n",
    "\n",
    "Q5. When is it appropriate to use operator overloading?"
   ]
  },
  {
   "cell_type": "code",
   "execution_count": 5,
   "metadata": {},
   "outputs": [
    {
     "name": "stdout",
     "output_type": "stream",
     "text": [
      "23\n",
      "56\n",
      "78\n",
      "90\n",
      "7\n"
     ]
    }
   ],
   "source": [
    "#solution to 1. \n",
    "\n",
    "#two operator overlaoding methods used in class to support iteration are : __getitem__, __iter__ method. example below:\n",
    "\n",
    "class Getitem():\n",
    "    def __init__(self,data):\n",
    "        self.data=data\n",
    "\n",
    "    def __getitem__(self, index):\n",
    "       return self.data[index]\n",
    "    \n",
    "getitem_obj=Getitem([23,56,78,90,7])\n",
    "for item in getitem_obj:\n",
    "    print(item)\n",
    "\n"
   ]
  },
  {
   "cell_type": "code",
   "execution_count": 6,
   "metadata": {},
   "outputs": [
    {
     "name": "stdout",
     "output_type": "stream",
     "text": [
      "[3, 4, 5, 6, 7]\n"
     ]
    }
   ],
   "source": [
    "# solution to 3 \n",
    "class Sliceclass:\n",
    "    def __init__(self, data):\n",
    "        self.data = data\n",
    "\n",
    "    def __getitem__(self, index):\n",
    "        if isinstance(index, slice):\n",
    "            # Handles slice notation\n",
    "            start, stop, step = index.indices(len(self.data))\n",
    "            sliced_data = [self.data[i] for i in range(start, stop, step)]\n",
    "            return sliced_data\n",
    "        else:\n",
    "            # Handle single index\n",
    "            return self.data[index]\n",
    "\n",
    "# Usage:\n",
    "my_obj = Sliceclass([1, 2, 3, 4, 5, 6, 7, 8, 9, 10])\n",
    "print(my_obj[2:7])"
   ]
  },
  {
   "attachments": {},
   "cell_type": "markdown",
   "metadata": {},
   "source": [
    "## About In-place addition \n",
    "In-place addition in a class refers to the ability to modify an object's internal state directly by adding a value to it, using the in-place addition operator (+=). It allows the object to update its internal data without creating a new object or explicitly reassigning the modified value.\n",
    "This behavior is implemented using the __iadd__ method, which stands for \"in-place addition.\"\n",
    "By providing the __iadd__ method in a class, you enable instances of that class to support in-place addition and define how the object should handle the operation. The __iadd__ method takes two parameters: self (representing the instance on the left-hand side of the += operator) and other (representing the right-hand side operand).\n"
   ]
  },
  {
   "cell_type": "code",
   "execution_count": 7,
   "metadata": {},
   "outputs": [
    {
     "name": "stdout",
     "output_type": "stream",
     "text": [
      "5\n",
      "8\n",
      "18\n"
     ]
    }
   ],
   "source": [
    "#solution to 4\n",
    "\n",
    "class Number:\n",
    "    def __init__(self, value):\n",
    "        self.value = value\n",
    "\n",
    "    def __iadd__(self, other):\n",
    "        self.value += other\n",
    "        return self\n",
    "\n",
    "num = Number(5)\n",
    "print(num.value)  # Output: 5\n",
    "\n",
    "num += 3\n",
    "print(num.value)  # Output: 8\n",
    "\n",
    "num += 10\n",
    "print(num.value)  # Output: 18"
   ]
  },
  {
   "attachments": {},
   "cell_type": "markdown",
   "metadata": {},
   "source": [
    "#solution to 5 \n",
    "\n",
    "operator overloading is used when it enhances the readability, expressiveness, and naturalness of the code, rather than simply for the sake of convenience or novelty."
   ]
  },
  {
   "cell_type": "markdown",
   "metadata": {},
   "source": []
  }
 ],
 "metadata": {
  "kernelspec": {
   "display_name": "Python 3",
   "language": "python",
   "name": "python3"
  },
  "language_info": {
   "codemirror_mode": {
    "name": "ipython",
    "version": 3
   },
   "file_extension": ".py",
   "mimetype": "text/x-python",
   "name": "python",
   "nbconvert_exporter": "python",
   "pygments_lexer": "ipython3",
   "version": "3.10.4"
  },
  "orig_nbformat": 4
 },
 "nbformat": 4,
 "nbformat_minor": 2
}
