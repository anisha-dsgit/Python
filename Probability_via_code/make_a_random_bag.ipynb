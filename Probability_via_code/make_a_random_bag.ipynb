{
 "cells": [
  {
   "cell_type": "markdown",
   "metadata": {},
   "source": [
    "#### Calculate the probability of selecting 2 red beads and 3 blue beads out of a total of 5 beads"
   ]
  },
  {
   "cell_type": "code",
   "execution_count": 9,
   "metadata": {},
   "outputs": [
    {
     "name": "stdout",
     "output_type": "stream",
     "text": [
      "combination list [('red', 'blue', 'red', 'blue', 'red'), ('red', 'blue', 'red', 'blue', 'blue'), ('red', 'blue', 'red', 'blue', 'red'), ('red', 'blue', 'red', 'blue', 'blue'), ('red', 'blue', 'red', 'blue', 'red'), ('red', 'blue', 'red', 'blue', 'blue'), ('red', 'blue', 'red', 'red', 'blue'), ('red', 'blue', 'red', 'red', 'red'), ('red', 'blue', 'red', 'red', 'blue'), ('red', 'blue', 'red', 'red', 'red'), ('red', 'blue', 'red', 'red', 'blue'), ('red', 'blue', 'red', 'blue', 'red'), ('red', 'blue', 'red', 'blue', 'blue'), ('red', 'blue', 'red', 'blue', 'red'), ('red', 'blue', 'red', 'blue', 'blue'), ('red', 'blue', 'red', 'red', 'blue'), ('red', 'blue', 'red', 'red', 'red'), ('red', 'blue', 'red', 'red', 'blue'), ('red', 'blue', 'red', 'blue', 'red'), ('red', 'blue', 'red', 'blue', 'blue'), ('red', 'blue', 'red', 'red', 'blue'), ('red', 'blue', 'blue', 'red', 'blue'), ('red', 'blue', 'blue', 'red', 'red'), ('red', 'blue', 'blue', 'red', 'blue'), ('red', 'blue', 'blue', 'red', 'red'), ('red', 'blue', 'blue', 'red', 'blue'), ('red', 'blue', 'blue', 'blue', 'red'), ('red', 'blue', 'blue', 'blue', 'blue'), ('red', 'blue', 'blue', 'blue', 'red'), ('red', 'blue', 'blue', 'blue', 'blue'), ('red', 'blue', 'blue', 'red', 'blue'), ('red', 'blue', 'blue', 'red', 'red'), ('red', 'blue', 'blue', 'red', 'blue'), ('red', 'blue', 'blue', 'blue', 'red'), ('red', 'blue', 'blue', 'blue', 'blue'), ('red', 'blue', 'blue', 'red', 'blue'), ('red', 'blue', 'red', 'blue', 'red'), ('red', 'blue', 'red', 'blue', 'blue'), ('red', 'blue', 'red', 'blue', 'red'), ('red', 'blue', 'red', 'blue', 'blue'), ('red', 'blue', 'red', 'red', 'blue'), ('red', 'blue', 'red', 'red', 'red'), ('red', 'blue', 'red', 'red', 'blue'), ('red', 'blue', 'red', 'blue', 'red'), ('red', 'blue', 'red', 'blue', 'blue'), ('red', 'blue', 'red', 'red', 'blue'), ('red', 'blue', 'blue', 'red', 'blue'), ('red', 'blue', 'blue', 'red', 'red'), ('red', 'blue', 'blue', 'red', 'blue'), ('red', 'blue', 'blue', 'blue', 'red'), ('red', 'blue', 'blue', 'blue', 'blue'), ('red', 'blue', 'blue', 'red', 'blue'), ('red', 'blue', 'red', 'blue', 'red'), ('red', 'blue', 'red', 'blue', 'blue'), ('red', 'blue', 'red', 'red', 'blue'), ('red', 'blue', 'blue', 'red', 'blue'), ('red', 'red', 'blue', 'red', 'blue'), ('red', 'red', 'blue', 'red', 'red'), ('red', 'red', 'blue', 'red', 'blue'), ('red', 'red', 'blue', 'red', 'red'), ('red', 'red', 'blue', 'red', 'blue'), ('red', 'red', 'blue', 'blue', 'red'), ('red', 'red', 'blue', 'blue', 'blue'), ('red', 'red', 'blue', 'blue', 'red'), ('red', 'red', 'blue', 'blue', 'blue'), ('red', 'red', 'blue', 'red', 'blue'), ('red', 'red', 'blue', 'red', 'red'), ('red', 'red', 'blue', 'red', 'blue'), ('red', 'red', 'blue', 'blue', 'red'), ('red', 'red', 'blue', 'blue', 'blue'), ('red', 'red', 'blue', 'red', 'blue'), ('red', 'red', 'red', 'blue', 'red'), ('red', 'red', 'red', 'blue', 'blue'), ('red', 'red', 'red', 'blue', 'red'), ('red', 'red', 'red', 'blue', 'blue'), ('red', 'red', 'red', 'red', 'blue'), ('red', 'red', 'red', 'red', 'red'), ('red', 'red', 'red', 'red', 'blue'), ('red', 'red', 'red', 'blue', 'red'), ('red', 'red', 'red', 'blue', 'blue'), ('red', 'red', 'red', 'red', 'blue'), ('red', 'red', 'blue', 'red', 'blue'), ('red', 'red', 'blue', 'red', 'red'), ('red', 'red', 'blue', 'red', 'blue'), ('red', 'red', 'blue', 'blue', 'red'), ('red', 'red', 'blue', 'blue', 'blue'), ('red', 'red', 'blue', 'red', 'blue'), ('red', 'red', 'red', 'blue', 'red'), ('red', 'red', 'red', 'blue', 'blue'), ('red', 'red', 'red', 'red', 'blue'), ('red', 'red', 'blue', 'red', 'blue'), ('red', 'blue', 'red', 'blue', 'red'), ('red', 'blue', 'red', 'blue', 'blue'), ('red', 'blue', 'red', 'blue', 'red'), ('red', 'blue', 'red', 'blue', 'blue'), ('red', 'blue', 'red', 'red', 'blue'), ('red', 'blue', 'red', 'red', 'red'), ('red', 'blue', 'red', 'red', 'blue'), ('red', 'blue', 'red', 'blue', 'red'), ('red', 'blue', 'red', 'blue', 'blue'), ('red', 'blue', 'red', 'red', 'blue'), ('red', 'blue', 'blue', 'red', 'blue'), ('red', 'blue', 'blue', 'red', 'red'), ('red', 'blue', 'blue', 'red', 'blue'), ('red', 'blue', 'blue', 'blue', 'red'), ('red', 'blue', 'blue', 'blue', 'blue'), ('red', 'blue', 'blue', 'red', 'blue'), ('red', 'blue', 'red', 'blue', 'red'), ('red', 'blue', 'red', 'blue', 'blue'), ('red', 'blue', 'red', 'red', 'blue'), ('red', 'blue', 'blue', 'red', 'blue'), ('red', 'red', 'blue', 'red', 'blue'), ('red', 'red', 'blue', 'red', 'red'), ('red', 'red', 'blue', 'red', 'blue'), ('red', 'red', 'blue', 'blue', 'red'), ('red', 'red', 'blue', 'blue', 'blue'), ('red', 'red', 'blue', 'red', 'blue'), ('red', 'red', 'red', 'blue', 'red'), ('red', 'red', 'red', 'blue', 'blue'), ('red', 'red', 'red', 'red', 'blue'), ('red', 'red', 'blue', 'red', 'blue'), ('red', 'blue', 'red', 'blue', 'red'), ('red', 'blue', 'red', 'blue', 'blue'), ('red', 'blue', 'red', 'red', 'blue'), ('red', 'blue', 'blue', 'red', 'blue'), ('red', 'red', 'blue', 'red', 'blue'), ('blue', 'red', 'blue', 'red', 'blue'), ('blue', 'red', 'blue', 'red', 'red'), ('blue', 'red', 'blue', 'red', 'blue'), ('blue', 'red', 'blue', 'red', 'red'), ('blue', 'red', 'blue', 'red', 'blue'), ('blue', 'red', 'blue', 'blue', 'red'), ('blue', 'red', 'blue', 'blue', 'blue'), ('blue', 'red', 'blue', 'blue', 'red'), ('blue', 'red', 'blue', 'blue', 'blue'), ('blue', 'red', 'blue', 'red', 'blue'), ('blue', 'red', 'blue', 'red', 'red'), ('blue', 'red', 'blue', 'red', 'blue'), ('blue', 'red', 'blue', 'blue', 'red'), ('blue', 'red', 'blue', 'blue', 'blue'), ('blue', 'red', 'blue', 'red', 'blue'), ('blue', 'red', 'red', 'blue', 'red'), ('blue', 'red', 'red', 'blue', 'blue'), ('blue', 'red', 'red', 'blue', 'red'), ('blue', 'red', 'red', 'blue', 'blue'), ('blue', 'red', 'red', 'red', 'blue'), ('blue', 'red', 'red', 'red', 'red'), ('blue', 'red', 'red', 'red', 'blue'), ('blue', 'red', 'red', 'blue', 'red'), ('blue', 'red', 'red', 'blue', 'blue'), ('blue', 'red', 'red', 'red', 'blue'), ('blue', 'red', 'blue', 'red', 'blue'), ('blue', 'red', 'blue', 'red', 'red'), ('blue', 'red', 'blue', 'red', 'blue'), ('blue', 'red', 'blue', 'blue', 'red'), ('blue', 'red', 'blue', 'blue', 'blue'), ('blue', 'red', 'blue', 'red', 'blue'), ('blue', 'red', 'red', 'blue', 'red'), ('blue', 'red', 'red', 'blue', 'blue'), ('blue', 'red', 'red', 'red', 'blue'), ('blue', 'red', 'blue', 'red', 'blue'), ('blue', 'blue', 'red', 'blue', 'red'), ('blue', 'blue', 'red', 'blue', 'blue'), ('blue', 'blue', 'red', 'blue', 'red'), ('blue', 'blue', 'red', 'blue', 'blue'), ('blue', 'blue', 'red', 'red', 'blue'), ('blue', 'blue', 'red', 'red', 'red'), ('blue', 'blue', 'red', 'red', 'blue'), ('blue', 'blue', 'red', 'blue', 'red'), ('blue', 'blue', 'red', 'blue', 'blue'), ('blue', 'blue', 'red', 'red', 'blue'), ('blue', 'blue', 'blue', 'red', 'blue'), ('blue', 'blue', 'blue', 'red', 'red'), ('blue', 'blue', 'blue', 'red', 'blue'), ('blue', 'blue', 'blue', 'blue', 'red'), ('blue', 'blue', 'blue', 'blue', 'blue'), ('blue', 'blue', 'blue', 'red', 'blue'), ('blue', 'blue', 'red', 'blue', 'red'), ('blue', 'blue', 'red', 'blue', 'blue'), ('blue', 'blue', 'red', 'red', 'blue'), ('blue', 'blue', 'blue', 'red', 'blue'), ('blue', 'red', 'blue', 'red', 'blue'), ('blue', 'red', 'blue', 'red', 'red'), ('blue', 'red', 'blue', 'red', 'blue'), ('blue', 'red', 'blue', 'blue', 'red'), ('blue', 'red', 'blue', 'blue', 'blue'), ('blue', 'red', 'blue', 'red', 'blue'), ('blue', 'red', 'red', 'blue', 'red'), ('blue', 'red', 'red', 'blue', 'blue'), ('blue', 'red', 'red', 'red', 'blue'), ('blue', 'red', 'blue', 'red', 'blue'), ('blue', 'blue', 'red', 'blue', 'red'), ('blue', 'blue', 'red', 'blue', 'blue'), ('blue', 'blue', 'red', 'red', 'blue'), ('blue', 'blue', 'blue', 'red', 'blue'), ('blue', 'red', 'blue', 'red', 'blue'), ('red', 'blue', 'red', 'blue', 'red'), ('red', 'blue', 'red', 'blue', 'blue'), ('red', 'blue', 'red', 'blue', 'red'), ('red', 'blue', 'red', 'blue', 'blue'), ('red', 'blue', 'red', 'red', 'blue'), ('red', 'blue', 'red', 'red', 'red'), ('red', 'blue', 'red', 'red', 'blue'), ('red', 'blue', 'red', 'blue', 'red'), ('red', 'blue', 'red', 'blue', 'blue'), ('red', 'blue', 'red', 'red', 'blue'), ('red', 'blue', 'blue', 'red', 'blue'), ('red', 'blue', 'blue', 'red', 'red'), ('red', 'blue', 'blue', 'red', 'blue'), ('red', 'blue', 'blue', 'blue', 'red'), ('red', 'blue', 'blue', 'blue', 'blue'), ('red', 'blue', 'blue', 'red', 'blue'), ('red', 'blue', 'red', 'blue', 'red'), ('red', 'blue', 'red', 'blue', 'blue'), ('red', 'blue', 'red', 'red', 'blue'), ('red', 'blue', 'blue', 'red', 'blue'), ('red', 'red', 'blue', 'red', 'blue'), ('red', 'red', 'blue', 'red', 'red'), ('red', 'red', 'blue', 'red', 'blue'), ('red', 'red', 'blue', 'blue', 'red'), ('red', 'red', 'blue', 'blue', 'blue'), ('red', 'red', 'blue', 'red', 'blue'), ('red', 'red', 'red', 'blue', 'red'), ('red', 'red', 'red', 'blue', 'blue'), ('red', 'red', 'red', 'red', 'blue'), ('red', 'red', 'blue', 'red', 'blue'), ('red', 'blue', 'red', 'blue', 'red'), ('red', 'blue', 'red', 'blue', 'blue'), ('red', 'blue', 'red', 'red', 'blue'), ('red', 'blue', 'blue', 'red', 'blue'), ('red', 'red', 'blue', 'red', 'blue'), ('blue', 'red', 'blue', 'red', 'blue'), ('blue', 'red', 'blue', 'red', 'red'), ('blue', 'red', 'blue', 'red', 'blue'), ('blue', 'red', 'blue', 'blue', 'red'), ('blue', 'red', 'blue', 'blue', 'blue'), ('blue', 'red', 'blue', 'red', 'blue'), ('blue', 'red', 'red', 'blue', 'red'), ('blue', 'red', 'red', 'blue', 'blue'), ('blue', 'red', 'red', 'red', 'blue'), ('blue', 'red', 'blue', 'red', 'blue'), ('blue', 'blue', 'red', 'blue', 'red'), ('blue', 'blue', 'red', 'blue', 'blue'), ('blue', 'blue', 'red', 'red', 'blue'), ('blue', 'blue', 'blue', 'red', 'blue'), ('blue', 'red', 'blue', 'red', 'blue'), ('red', 'blue', 'red', 'blue', 'red'), ('red', 'blue', 'red', 'blue', 'blue'), ('red', 'blue', 'red', 'red', 'blue'), ('red', 'blue', 'blue', 'red', 'blue'), ('red', 'red', 'blue', 'red', 'blue'), ('blue', 'red', 'blue', 'red', 'blue')]\n",
      "Total combinations: 1\n",
      "252\n",
      "red combination: 10\n",
      "Favourable combinations: 10\n",
      "The probability of getting 2 red beads and 3 blue beads: 10.0000\n"
     ]
    }
   ],
   "source": [
    "# The comb function from the math module is used to calculate combinations (nCr).\n",
    "# The itertools.combinations generates all possible combinations of bead colors based on the bead counts.\n",
    "\n",
    "from math import comb\n",
    "from itertools import combinations\n",
    "\n",
    "# Total number of beads\n",
    "total_beads = 5  # 2 red beads + 3 blue beads\n",
    "\n",
    "# Number of red and blue beads\n",
    "bead_colors=['red','blue']\n",
    "bead_counts=[2,3]\n",
    "red_beads = 2\n",
    "blue_beads = 3\n",
    "\n",
    "# Total number of possible combinations\n",
    "total_combinations = comb(total_beads, red_beads + blue_beads)\n",
    "combination_list= list(combinations(bead_colors*bead_counts[0] + bead_colors*bead_counts[1], sum(bead_counts)))\n",
    "\n",
    "print(f\"combination list {combination_list}\")\n",
    "\n",
    "# Number of favorable combinations (2 red and 3 blue beads)\n",
    "favorable_combinations = comb(total_beads, red_beads) * comb(total_beads - red_beads, blue_beads)\n",
    "\n",
    "# Calculate the probability\n",
    "probability = favorable_combinations / total_combinations\n",
    "\n",
    "print(f\"Total combinations: {total_combinations}\")\n",
    "print(len(combination_list))\n",
    "\n",
    "print(f\"red combination: {comb(total_beads,red_beads)}\")\n",
    "\n",
    "print(f\"Favourable combinations: {favorable_combinations}\")\n",
    "\n",
    "print(f\"The probability of getting 2 red beads and 3 blue beads: {probability:.4f}\")"
   ]
  }
 ],
 "metadata": {
  "kernelspec": {
   "display_name": "Python 3",
   "language": "python",
   "name": "python3"
  },
  "language_info": {
   "codemirror_mode": {
    "name": "ipython",
    "version": 3
   },
   "file_extension": ".py",
   "mimetype": "text/x-python",
   "name": "python",
   "nbconvert_exporter": "python",
   "pygments_lexer": "ipython3",
   "version": "3.10.4"
  },
  "orig_nbformat": 4
 },
 "nbformat": 4,
 "nbformat_minor": 2
}
