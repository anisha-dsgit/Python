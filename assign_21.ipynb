{
 "cells": [
  {
   "cell_type": "markdown",
   "id": "8e50272e",
   "metadata": {},
   "source": [
    "1. Add the current date to the text file today.txt as a string.\n"
   ]
  },
  {
   "cell_type": "code",
   "execution_count": 6,
   "id": "22b8161b",
   "metadata": {},
   "outputs": [],
   "source": [
    "import datetime \n",
    "from datetime import time \n",
    "from datetime import date "
   ]
  },
  {
   "cell_type": "code",
   "execution_count": 26,
   "id": "8d3ed8ab",
   "metadata": {},
   "outputs": [],
   "source": [
    "with open(\"today.txt\",\"w\") as file:\n",
    "            content=file.write(str(date.today()))"
   ]
  },
  {
   "cell_type": "markdown",
   "id": "b7235240",
   "metadata": {},
   "source": [
    "2. Read the text file today.txt into the string today_string"
   ]
  },
  {
   "cell_type": "code",
   "execution_count": 46,
   "id": "55915dc0",
   "metadata": {},
   "outputs": [],
   "source": [
    "from datetime import datetime\n",
    "file1=r\"C:\\Users\\LENOVO\\today.txt\"\n",
    "with open(file1,\"r\") as file_obj:\n",
    "    today_string=file_obj.read()\n",
    "    #convert string date to datetime format "
   ]
  },
  {
   "cell_type": "markdown",
   "id": "dc158bd3",
   "metadata": {},
   "source": [
    "3. Parse the date from today_string."
   ]
  },
  {
   "cell_type": "code",
   "execution_count": 45,
   "id": "1045c9cc",
   "metadata": {},
   "outputs": [
    {
     "data": {
      "text/plain": [
       "datetime.datetime(2023, 3, 30, 0, 0)"
      ]
     },
     "execution_count": 45,
     "metadata": {},
     "output_type": "execute_result"
    }
   ],
   "source": [
    "date=datetime.strptime(today_string, \"%Y-%m-%d\")\n",
    "date"
   ]
  },
  {
   "cell_type": "markdown",
   "id": "be661455",
   "metadata": {},
   "source": [
    "4. List the files in your current directory"
   ]
  },
  {
   "cell_type": "code",
   "execution_count": 60,
   "id": "932c074c",
   "metadata": {},
   "outputs": [
    {
     "data": {
      "text/plain": [
       "['.anaconda',\n",
       " '.android',\n",
       " '.atom',\n",
       " '.bash_history',\n",
       " '.conda',\n",
       " '.condarc',\n",
       " '.continuum',\n",
       " '.cufflinks',\n",
       " '.gitconfig',\n",
       " '.ipynb_checkpoints',\n",
       " '.ipython',\n",
       " '.jupyter',\n",
       " '.matplotlib',\n",
       " '.ms-ad',\n",
       " '.vscode',\n",
       " '00-Capstone-Project.ipynb',\n",
       " '00-Intro-to-Simple-Linear-Regression.ipynb',\n",
       " '00-Matplotlib-Basics.ipynb',\n",
       " '00-Scatter-Plots.ipynb',\n",
       " '00-Series.ipynb',\n",
       " '01-Capstone-Project-Solutions .ipynb',\n",
       " '01-DataFrames.ipynb',\n",
       " '01-Dealing-with-Missing-Data.ipynb',\n",
       " '01-Distribution-Plots.ipynb',\n",
       " '01-KNN-Exercise .ipynb',\n",
       " '01-Linear-Regression-with-Scitkit-Learn.ipynb',\n",
       " '01-Matplotlib-Figures.ipynb',\n",
       " '02-Categorical-Plots-Stat-Estimation.ipynb',\n",
       " '02-Dealing-with-Categorical-Data.ipynb',\n",
       " '02-KNN-Exercise-Solutions.ipynb',\n",
       " '02-Linear-Regression-Project-Exercise.ipynb',\n",
       " '02-Logistic-Regression-Project-Exercise .ipynb',\n",
       " '02-Matplotlib-SubPlots.ipynb',\n",
       " '02-Polynomial-Regression.ipynb',\n",
       " '03-Categorical-Plots-Distributions.ipynb',\n",
       " '03-Linear-Regression-Project-Exercise-Solutions.ipynb',\n",
       " '03-Logistic-Regression-Project-Exercise-Solution.ipynb',\n",
       " '03-Matplotlib-Styling-Plots.ipynb',\n",
       " '03-NumPy-Exercises.ipynb',\n",
       " '03-Regularization-Ridge-Lasso-ElasticNet.ipynb',\n",
       " '04-Comparison-Plots.ipynb',\n",
       " '04-Linear-Regression-Project-DataSet .ipynb',\n",
       " '04-Matplotlib Exercises .ipynb',\n",
       " '05-Matplotlib Exercises - Solutions.ipynb',\n",
       " '05-Seaborn-Grids.ipynb',\n",
       " '06-Additional-Matplotlib-Commands-NO_VIDEO.ipynb',\n",
       " '06-Combining-DataFrames.ipynb',\n",
       " '06-Matrix-Plots.ipynb',\n",
       " '07-Seaborn-Exercise.ipynb',\n",
       " '07-Text-Methods.ipynb',\n",
       " '08-Seaborn-Exercise-Solutions.ipynb',\n",
       " '08-Time-Methods.ipynb',\n",
       " '09-Inputs-and-Outputs.ipynb',\n",
       " '10-Pivot-Tables.ipynb',\n",
       " '11-Pandas-Project-Exercise .ipynb',\n",
       " '12-Pandas-Project-Exercise-Solution.ipynb',\n",
       " '3.ipynb',\n",
       " '3D Objects',\n",
       " '5',\n",
       " 'advanced pandas practice .ipynb',\n",
       " 'Advertising.csv',\n",
       " 'algeria .ipynb',\n",
       " 'anscombes_quartet1.csv',\n",
       " 'anscombes_quartet2.csv',\n",
       " 'anscombes_quartet4.csv',\n",
       " 'AppData',\n",
       " 'Application Data',\n",
       " 'application_record.csv',\n",
       " 'ascombes_quartet2.csv',\n",
       " 'Assign_10.ipynb',\n",
       " 'Assign_11.ipynb',\n",
       " 'assign_12.ipynb',\n",
       " 'Assign_13.ipynb',\n",
       " 'Assign_14.ipynb',\n",
       " 'assign_15.ipynb',\n",
       " 'assign_16.ipynb',\n",
       " 'assign_17.ipynb',\n",
       " 'assign_21.ipynb',\n",
       " 'assign_6.ipynb',\n",
       " 'assign_7.ipynb',\n",
       " 'assign_8.ipynb',\n",
       " 'assign_9.ipynb',\n",
       " 'background.png',\n",
       " 'Basic stats.ipynb',\n",
       " 'catplot_solution.png',\n",
       " 'Contacts',\n",
       " 'Cookies',\n",
       " 'Country-Code.xlsx',\n",
       " 'country_table.csv',\n",
       " 'cropped_image.png',\n",
       " 'cropped_image1.png',\n",
       " 'Data exploration practise.ipynb',\n",
       " 'deliveries.csv',\n",
       " 'Diabetes prediction.ipynb',\n",
       " 'diamonds.csv',\n",
       " 'DistPlot_solution.png',\n",
       " 'dm_office_sales.csv',\n",
       " 'Documents',\n",
       " 'Downloads',\n",
       " 'drawing.png',\n",
       " 'DSwebscrapping .ipynb',\n",
       " 'EDA_1.ipynb',\n",
       " 'example_scatter.jpg',\n",
       " 'Favorites',\n",
       " 'file1.json',\n",
       " 'file2.json',\n",
       " 'file3.json',\n",
       " 'file4.json',\n",
       " 'file5.json',\n",
       " 'final_converter.joblib',\n",
       " 'final_poly_model.joblib',\n",
       " 'final_sales_model.joblib',\n",
       " 'first.txt',\n",
       " 'firstclass.ipynb',\n",
       " 'gender_submission.csv',\n",
       " 'google.txt',\n",
       " 'graph class.ipynb',\n",
       " 'grid_search_cross_validation.png',\n",
       " 'heatmap_solution.png',\n",
       " 'hello world.doc',\n",
       " 'HR.ipynb',\n",
       " 'Important differences in python.ipynb',\n",
       " 'IntelGraphicsProfiles',\n",
       " 'Linear Regression.ipynb',\n",
       " 'Links',\n",
       " 'list',\n",
       " 'Local Settings',\n",
       " 'matches.csv',\n",
       " 'Microsoft',\n",
       " 'mine.jpg',\n",
       " 'mongo',\n",
       " 'Music',\n",
       " 'My Documents',\n",
       " 'my_plot.jpg',\n",
       " 'NetHood',\n",
       " 'newphoto.png',\n",
       " 'NTUSER.DAT',\n",
       " 'ntuser.dat.LOG1',\n",
       " 'ntuser.dat.LOG2',\n",
       " 'NTUSER.DAT{53b39e88-18c4-11ea-a811-000d3aa4692b}.TM.blf',\n",
       " 'NTUSER.DAT{53b39e88-18c4-11ea-a811-000d3aa4692b}.TMContainer00000000000000000001.regtrans-ms',\n",
       " 'NTUSER.DAT{53b39e88-18c4-11ea-a811-000d3aa4692b}.TMContainer00000000000000000002.regtrans-ms',\n",
       " 'ntuser.ini',\n",
       " 'Numpy in details.ipynb',\n",
       " 'OneDrive',\n",
       " 'os module.ipynb',\n",
       " 'PA-1.ipynb',\n",
       " 'PA-2.ipynb',\n",
       " 'PA-3.ipynb',\n",
       " 'Pandas 2 data manipulation .ipynb',\n",
       " 'Pandas data manipulation .ipynb',\n",
       " 'pandas_practise.ipynb',\n",
       " 'Players.xlsx',\n",
       " 'playstore.ipynb',\n",
       " 'poly_converter.joblib',\n",
       " 'Postman',\n",
       " 'practise.ipynb',\n",
       " 'PrintHood',\n",
       " 'pycharm-community-2022.3.2.exe',\n",
       " 'PycharmProjects',\n",
       " 'pypractice0302.ipynb',\n",
       " 'python class 14th june  (1).ipynb',\n",
       " 'Python_5.ipynb',\n",
       " 'questions.ipynb',\n",
       " 'questions2.ipynb',\n",
       " 'Recent',\n",
       " 'resized.png',\n",
       " 'revision.ipynb',\n",
       " 'sales_model.joblib',\n",
       " 'sales_poly_model.joblib',\n",
       " 'Saved Games',\n",
       " 'scrapper prac.ipynb',\n",
       " 'seaborn-data',\n",
       " 'Searches',\n",
       " 'second.txt',\n",
       " 'SendTo',\n",
       " 'Session 1.1 - Python-Installation and Basics.ipynb',\n",
       " 'session2.2_Object Oriented Programming and File IO.ipynb',\n",
       " 'skill.json',\n",
       " 'sonar.jpg',\n",
       " 'sort the list .ipynb',\n",
       " 'sql.ipynb',\n",
       " 'Start Menu',\n",
       " 'StudentsPerformance.csv',\n",
       " 'task_one.jpg',\n",
       " 'Template.ipynb',\n",
       " 'Templates',\n",
       " 'test.csv',\n",
       " 'test1.py',\n",
       " 'test2.py',\n",
       " 'third.txt',\n",
       " 'titanic.ipynb',\n",
       " 'today.txt',\n",
       " 'train.csv',\n",
       " 'twitter data analysis .ipynb',\n",
       " 'Untitled Folder',\n",
       " 'Untitled.ipynb',\n",
       " 'untitled.txt',\n",
       " 'Untitled1.ipynb',\n",
       " 'untitled1.txt',\n",
       " 'Untitled10.ipynb',\n",
       " 'Untitled11.ipynb',\n",
       " 'Untitled12.ipynb',\n",
       " 'Untitled13.ipynb',\n",
       " 'Untitled14.ipynb',\n",
       " 'Untitled15.ipynb',\n",
       " 'Untitled16.ipynb',\n",
       " 'Untitled2.ipynb',\n",
       " 'untitled2.txt',\n",
       " 'Untitled3.ipynb',\n",
       " 'Untitled4.ipynb',\n",
       " 'Untitled5.ipynb',\n",
       " 'Untitled6.ipynb',\n",
       " 'Untitled7.ipynb',\n",
       " 'Untitled8.ipynb',\n",
       " 'Untitled9.ipynb',\n",
       " 'Videos',\n",
       " 'vyom.ipynb',\n",
       " 'webscrap- reviews.ipynb',\n",
       " 'writingrecordfile.csv',\n",
       " 'Zomato EDA.ipynb',\n",
       " 'zomato.csv']"
      ]
     },
     "execution_count": 60,
     "metadata": {},
     "output_type": "execute_result"
    }
   ],
   "source": [
    "import os\n",
    "path=os.getcwd()\n",
    "new_list=os.listdir(path)\n",
    "new_list"
   ]
  },
  {
   "cell_type": "markdown",
   "id": "6fc21606",
   "metadata": {},
   "source": [
    "5. Create a list of all of the files in your parent directory (minimum five files should be available)."
   ]
  },
  {
   "cell_type": "code",
   "execution_count": 62,
   "id": "9a8799e6",
   "metadata": {},
   "outputs": [
    {
     "data": {
      "text/plain": [
       "'C:\\\\Users\\\\LENOVO'"
      ]
     },
     "execution_count": 62,
     "metadata": {},
     "output_type": "execute_result"
    }
   ],
   "source": [
    "import os \n",
    "os.getcwd()\n"
   ]
  },
  {
   "cell_type": "code",
   "execution_count": 71,
   "id": "3c1cefd7",
   "metadata": {},
   "outputs": [
    {
     "name": "stdout",
     "output_type": "stream",
     "text": [
      "Current Directory:  C:\\Users\\LENOVO\n",
      "Parent Directory:  C:\\Users\n",
      "['desktop.ini']\n"
     ]
    }
   ],
   "source": [
    "cdir = os.getcwd() \n",
    "print(\"Current Directory: \", cdir) \n",
    "print(\"Parent Directory: \", os.path.dirname(cdir))\n",
    "dir_path = os.path.dirname(cdir)\n",
    "lis = []\n",
    "\n",
    "file_list=['file1','file2','file3']\n",
    "for i in range(3):\n",
    "    for j in file_list:\n",
    "        with open((j+\".txt\"),\"w\") as file:\n",
    "            content=file.write(\"demo file content\")\n",
    "\n",
    "for path in os.listdir(dir_path):\n",
    "    if os.path.isfile(os.path.join(dir_path, path)):\n",
    "        lis.append(path)\n",
    "print(lis)\n",
    "#I cannot put file in c directory which is the current working directory"
   ]
  },
  {
   "cell_type": "markdown",
   "id": "e20b21bb",
   "metadata": {},
   "source": [
    "6. Use multiprocessing to create three separate processes. Make each one wait a random number of\n",
    "   seconds between one and five, print the current time, and then exit."
   ]
  },
  {
   "cell_type": "code",
   "execution_count": 73,
   "id": "c9c1a889",
   "metadata": {},
   "outputs": [
    {
     "name": "stdout",
     "output_type": "stream",
     "text": [
      "Process MainProcess waited for 3 seconds and printed at 19:49:44\n"
     ]
    }
   ],
   "source": [
    "import multiprocessing\n",
    "import random\n",
    "import time\n",
    "from datetime import datetime\n",
    "\n",
    "def wait_and_print():\n",
    "    wait_time = random.randint(1, 5)\n",
    "    time.sleep(wait_time)\n",
    "    current_time = datetime.now().strftime(\"%H:%M:%S\")\n",
    "    print(f\"Process {multiprocessing.current_process().name} waited for {wait_time} seconds and printed at {current_time}\")\n",
    "\n",
    "wait_and_print()"
   ]
  },
  {
   "cell_type": "code",
   "execution_count": 77,
   "id": "2dad0bcb",
   "metadata": {},
   "outputs": [
    {
     "name": "stdout",
     "output_type": "stream",
     "text": [
      "Square: 4\n",
      "Cube: 125\n",
      "Done!\n"
     ]
    }
   ],
   "source": [
    "import multiprocessing\n",
    "  \n",
    "def print_cube(num):\n",
    "    \"\"\"\n",
    "    function to print cube of given num\n",
    "    \"\"\"\n",
    "    print(\"Cube: {}\".format(num * num * num))\n",
    "  \n",
    "def print_square(num):\n",
    "    \"\"\"\n",
    "    function to print square of given num\n",
    "    \"\"\"\n",
    "    print(\"Square: {}\".format(num * num))\n",
    "  \n",
    "if __name__ == \"__main__\":\n",
    "    # creating processes\n",
    "    p1 = multiprocessing.Process(target=print_square(2), args=(10, ))\n",
    "    p2 = multiprocessing.Process(target=print_cube(5), args=(10, ))\n",
    "  \n",
    "    # starting process 1\n",
    "    p1.start()\n",
    "    # starting process 2\n",
    "    p2.start()\n",
    "  \n",
    "    # wait until process 1 is finished\n",
    "    p1.join()\n",
    "    # wait until process 2 is finished\n",
    "    p2.join()\n",
    "  \n",
    "    # both processes finished\n",
    "    print(\"Done!\")"
   ]
  },
  {
   "cell_type": "markdown",
   "id": "06a8a2c3",
   "metadata": {},
   "source": [
    "7. Create a date object of your day of birth."
   ]
  },
  {
   "cell_type": "code",
   "execution_count": 9,
   "id": "7c132a97",
   "metadata": {},
   "outputs": [
    {
     "data": {
      "text/plain": [
       "datetime.date(1992, 7, 8)"
      ]
     },
     "execution_count": 9,
     "metadata": {},
     "output_type": "execute_result"
    }
   ],
   "source": [
    "import datetime\n",
    "dob=\"12-07-1967\"\n",
    "dt=datetime.date(1992,7,8)\n",
    "dt"
   ]
  },
  {
   "cell_type": "markdown",
   "id": "c67eef24",
   "metadata": {},
   "source": [
    "8. What day of the week was your day of birth?"
   ]
  },
  {
   "cell_type": "code",
   "execution_count": 10,
   "id": "fc67fc38",
   "metadata": {},
   "outputs": [
    {
     "data": {
      "text/plain": [
       "['MAXYEAR',\n",
       " 'MINYEAR',\n",
       " '__all__',\n",
       " '__builtins__',\n",
       " '__cached__',\n",
       " '__doc__',\n",
       " '__file__',\n",
       " '__loader__',\n",
       " '__name__',\n",
       " '__package__',\n",
       " '__spec__',\n",
       " 'date',\n",
       " 'datetime',\n",
       " 'datetime_CAPI',\n",
       " 'sys',\n",
       " 'time',\n",
       " 'timedelta',\n",
       " 'timezone',\n",
       " 'tzinfo']"
      ]
     },
     "execution_count": 10,
     "metadata": {},
     "output_type": "execute_result"
    }
   ],
   "source": [
    "import datetime \n",
    "\n",
    "dir(datetime)"
   ]
  },
  {
   "cell_type": "code",
   "execution_count": 16,
   "id": "add29961",
   "metadata": {},
   "outputs": [
    {
     "data": {
      "text/plain": [
       "'Wednesday'"
      ]
     },
     "execution_count": 16,
     "metadata": {},
     "output_type": "execute_result"
    }
   ],
   "source": [
    "import datetime \n",
    "dob=\"12-07-1967\"\n",
    "dt=datetime.datetime(1967,7,12)\n",
    "weekday=dt.strftime(\"%A\")\n",
    "weekday"
   ]
  },
  {
   "cell_type": "markdown",
   "id": "c03a74ed",
   "metadata": {},
   "source": [
    "9. When will you be (or when were you) 10,000 days old?"
   ]
  },
  {
   "cell_type": "code",
   "execution_count": 26,
   "id": "76770a66",
   "metadata": {},
   "outputs": [
    {
     "data": {
      "text/plain": [
       "datetime.date(2019, 5, 19)"
      ]
     },
     "execution_count": 26,
     "metadata": {},
     "output_type": "execute_result"
    }
   ],
   "source": [
    "dt=datetime.date(1992,1,1)\n",
    "new_date=dt + datetime.timedelta(days=10000)\n",
    "new_date"
   ]
  },
  {
   "cell_type": "code",
   "execution_count": null,
   "id": "48c821e6",
   "metadata": {},
   "outputs": [],
   "source": []
  }
 ],
 "metadata": {
  "kernelspec": {
   "display_name": "Python 3 (ipykernel)",
   "language": "python",
   "name": "python3"
  },
  "language_info": {
   "codemirror_mode": {
    "name": "ipython",
    "version": 3
   },
   "file_extension": ".py",
   "mimetype": "text/x-python",
   "name": "python",
   "nbconvert_exporter": "python",
   "pygments_lexer": "ipython3",
   "version": "3.9.12"
  }
 },
 "nbformat": 4,
 "nbformat_minor": 5
}
