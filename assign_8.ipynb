{
 "cells": [
  {
   "cell_type": "markdown",
   "id": "624fef3c",
   "metadata": {},
   "source": [
    "1. pyinputplus is not part of the standard python library. we have to install it seperately.\n"
   ]
  },
  {
   "cell_type": "markdown",
   "id": "52538a21",
   "metadata": {},
   "source": [
    "2. we can import pyinputplus in another name also. pypi is just commonly used term. "
   ]
  },
  {
   "cell_type": "markdown",
   "id": "9c39c552",
   "metadata": {},
   "source": [
    "3. InputInt() witll check for the integer value only and InputFloat() will check for the floating nukmber. \n"
   ]
  },
  {
   "cell_type": "markdown",
   "id": "63f976ea",
   "metadata": {},
   "source": [
    "4. inputInt(max=99) will ensure the number entered is less than 99. "
   ]
  },
  {
   "cell_type": "markdown",
   "id": "02153347",
   "metadata": {},
   "source": [
    "5. allowregex() allows use of regular expressions so that we don't have to use escape characters to make the string valid\n",
    "blockregex() - doens't allow usage of regular expressions."
   ]
  },
  {
   "cell_type": "markdown",
   "id": "8ecec741",
   "metadata": {},
   "source": [
    "6. pt.inputStr(limit=3) - On entering blank values upto the limit-> it comes out of the function giving an answer \n",
    "that blank values are not allowed. "
   ]
  },
  {
   "cell_type": "markdown",
   "id": "a38383f9",
   "metadata": {},
   "source": [
    "7. pt.inputStr(limit=3, default=\"hello\") - prints hello as the value after the limits have crossed. "
   ]
  },
  {
   "cell_type": "code",
   "execution_count": null,
   "id": "98230888",
   "metadata": {},
   "outputs": [],
   "source": []
  }
 ],
 "metadata": {
  "kernelspec": {
   "display_name": "Python 3 (ipykernel)",
   "language": "python",
   "name": "python3"
  },
  "language_info": {
   "codemirror_mode": {
    "name": "ipython",
    "version": 3
   },
   "file_extension": ".py",
   "mimetype": "text/x-python",
   "name": "python",
   "nbconvert_exporter": "python",
   "pygments_lexer": "ipython3",
   "version": "3.9.12"
  }
 },
 "nbformat": 4,
 "nbformat_minor": 5
}
