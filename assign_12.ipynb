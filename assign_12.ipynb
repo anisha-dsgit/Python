{
 "cells": [
  {
   "cell_type": "code",
   "execution_count": 1,
   "id": "fb156547",
   "metadata": {},
   "outputs": [
    {
     "name": "stdout",
     "output_type": "stream",
     "text": [
      "Requirement already satisfied: PyPDF2 in d:\\anaconda\\lib\\site-packages (3.0.1)\n",
      "Requirement already satisfied: typing_extensions>=3.10.0.0 in d:\\anaconda\\lib\\site-packages (from PyPDF2) (4.5.0)\n",
      "Note: you may need to restart the kernel to use updated packages.\n"
     ]
    }
   ],
   "source": [
    "pip install PyPDF2\n"
   ]
  },
  {
   "cell_type": "markdown",
   "id": "67e7be65",
   "metadata": {},
   "source": [
    "1. In what modes should the PdfFileReader() and PdfFileWriter() File objects will be opened?\n",
    "\n",
    "Solution: in 'rb' and 'wb' mode. \n",
    " rb = for reading  the pdf file\n",
    " wb = for writing in pdf file"
   ]
  },
  {
   "cell_type": "code",
   "execution_count": 5,
   "id": "7ea6a0c7",
   "metadata": {},
   "outputs": [
    {
     "name": "stdout",
     "output_type": "stream",
     "text": [
      "Learn Python The Hard Way, Release 2.0\n",
      "16 Exercise 1: A Good First Program\n"
     ]
    }
   ],
   "source": [
    "import PyPDF2\n",
    "with open(r\"D:\\books\\Zed A. Shaw - Learn Python The Hard Way (2011).pdf\",'rb') as file:\n",
    "                            file\n",
    "                            file2=PyPDF2.PdfReader(file)\n",
    "                            page_num=file2.pages[23]\n",
    "                            pagetext=page_num.extract_text()\n",
    "                            print(pagetext)\n",
    "                    \n"
   ]
  },
  {
   "cell_type": "markdown",
   "id": "7ffd64de",
   "metadata": {},
   "source": [
    "2. From a PdfFileReader object, how do you get a Page object for page 5?\n",
    "\n",
    "solution: page=file_obj.pages[5]"
   ]
  },
  {
   "cell_type": "code",
   "execution_count": null,
   "id": "cf3302e0",
   "metadata": {},
   "outputs": [],
   "source": [
    "new_file=open(r\"C:\\Users\\LENOVO\\OneDrive\\Desktop\\ml\\ISLR Sixth Printing updated.pdf\",\"rb\")\n",
    "file_obj=PyPDF2.PdfReader(new_file)\n",
    "len(file_obj.pages)\n",
    "page_num=file_obj.pages[5]\n",
    "page_text=page_num.extract_text()\n",
    "print(page_text)\n"
   ]
  },
  {
   "cell_type": "markdown",
   "id": "1b3f2c28",
   "metadata": {},
   "source": [
    "3. What PdfFileReader variable stores the number of pages in the PDF document?"
   ]
  },
  {
   "cell_type": "code",
   "execution_count": null,
   "id": "f6a5b804",
   "metadata": {},
   "outputs": [],
   "source": [
    "len(file_obj.pages[:])"
   ]
  },
  {
   "cell_type": "markdown",
   "id": "3584a3af",
   "metadata": {},
   "source": [
    "4.If a PdfFileReader object’s PDF is encrypted with the password swordfish, what must you do\n",
    "before you can obtain Page objects from it?\n",
    "\n",
    "solution: file_object.decrypt(password)"
   ]
  },
  {
   "cell_type": "code",
   "execution_count": null,
   "id": "dfbdbf1f",
   "metadata": {},
   "outputs": [],
   "source": [
    "file=r\"C:\\Users\\LENOVO\\OneDrive\\Desktop\\ml\\sample.pdf\"\n",
    "file_obj=PyPDF2.PdfReader(file)\n",
    "file_obj.is_encrypted\n",
    "file_obj.decrypt(\"swordfish\")\n"
   ]
  },
  {
   "cell_type": "markdown",
   "id": "66078ffd",
   "metadata": {},
   "source": [
    "5. What methods do you use to rotate a page?\n",
    "\n",
    "Solution: page_num.rotate(angle=90)\n"
   ]
  },
  {
   "cell_type": "code",
   "execution_count": null,
   "id": "92c0da31",
   "metadata": {},
   "outputs": [],
   "source": [
    "import PyPDF2\n",
    "import PdfWriter, PdfReader\n",
    "\n",
    "#open the file\n",
    "pdffile=open(r\"C:\\Users\\LENOVO\\OneDrive\\Desktop\\ml\\ISLR Sixth Printing updated.pdf\",\"rb\")\n",
    "file_obj=PdfReader(pdffile)\n",
    "page_num=file_obj.pages[9]\n",
    "\n",
    "#\n",
    "write_obj=PdfWriter()\n",
    "write_obj.addPage(page_num)\n",
    "write_obj.pages[9].rotate(90)\n"
   ]
  },
  {
   "cell_type": "code",
   "execution_count": null,
   "id": "7a3eadbb",
   "metadata": {},
   "outputs": [],
   "source": [
    "new_file=open(r\"C:\\Users\\LENOVO\\OneDrive\\Desktop\\ml\\ISLR Sixth Printing updated.pdf\",\"rb\")\n",
    "file_obj=PyPDF2.PdfReader(new_file)\n",
    "page_num=file_obj.pages[8]\n",
    "page_text=page_num.extract_text()\n",
    "print(page_text)\n",
    "new_file.close()"
   ]
  },
  {
   "attachments": {
    "image.png": {
     "image/png": "[encoded data removed]"
    }
   },
   "cell_type": "markdown",
   "id": "34b7a095",
   "metadata": {},
   "source": [
    "\n",
    "6. What is the difference between a Run object and a Paragraph object?\n",
    "\n",
    "Solution :\n",
    "    \n",
    "Paragraph objects tells about the number of paragraphs on a particular page. Each paragraph can have any number of run objects.\n",
    "\n",
    "Run object is a contiguous run of text in same style.  \n",
    "\n",
    "for example: \n",
    "![image.png](attachment:image.png)\n",
    "\n",
    "\n"
   ]
  },
  {
   "cell_type": "code",
   "execution_count": null,
   "id": "40c17505",
   "metadata": {},
   "outputs": [],
   "source": [
    "pip install Python-Docx"
   ]
  },
  {
   "cell_type": "markdown",
   "id": "0fafe59e",
   "metadata": {},
   "source": [
    "7. How do you obtain a list of Paragraph objects for a Document object that’s stored in a variable\n",
    "   named doc?\n",
    "\n",
    "   Solution: At the highest level, a Document object represents the entire document.\n",
    "\n",
    "   The Document object contains a list of Paragraph objects for the paragraphs in the document.\n"
   ]
  },
  {
   "cell_type": "code",
   "execution_count": null,
   "id": "620d8b90",
   "metadata": {},
   "outputs": [],
   "source": [
    "import docx\n",
    "\n",
    "doc_obj=docx.Document(r\"C:\\Users\\LENOVO\\OneDrive\\Desktop\\ml\\omdena\\problem_statement_soft_skills.docx\")\n",
    "doc_obj.paragraphs\n",
    "print(doc_obj.paragraphs)\n"
   ]
  },
  {
   "cell_type": "markdown",
   "id": "cddc97b3",
   "metadata": {},
   "source": [
    "8. What type of object has bold, underline, italic, strike, and outline variables?\n",
    "\n",
    "   Solution: Run object has bold, underline, italic, strike, and outline variables. \n",
    "\n",
    "    "
   ]
  },
  {
   "cell_type": "markdown",
   "id": "03995ffd",
   "metadata": {},
   "source": [
    "9. What is the difference between False, True, and None for the bold variable?\n",
    "\n",
    "    Runs can be further styled using text attributes. So for bold variable or any other run type, below options are available\n",
    "\n",
    "    Each attribute can be set to one of three values:\n",
    "    \n",
    "    True (the attribute is always enabled, no matter what other styles are applied to the run),\n",
    "    \n",
    "    False (the attribute is always disabled), \n",
    "    \n",
    "    or None (defaults to whatever the run’s style is set to).\n",
    "    \n",
    "    example: doc.paragraphs[5].runs[1].underline = True\n",
    "    "
   ]
  },
  {
   "cell_type": "markdown",
   "id": "2b09aaeb",
   "metadata": {},
   "source": [
    "10. How do you create a Document object for a new Word document?\n",
    "    \n",
    "import docx\n",
    "\n",
    "doc_obj=docx.Document(r\"C:\\Users\\LENOVO\\OneDrive\\Documents\\HBR entrepreneurship course.docx\")"
   ]
  },
  {
   "cell_type": "markdown",
   "id": "505f80ff",
   "metadata": {},
   "source": [
    "11. How do you add a paragraph with the text Hello, there! to a Document object stored in a\n",
    "    variable named doc?\n"
   ]
  },
  {
   "cell_type": "code",
   "execution_count": 3,
   "id": "80748f1d",
   "metadata": {},
   "outputs": [],
   "source": [
    "import docx\n",
    "doc = docx.Document()\n",
    "\n",
    "doc.add_paragraph('Hello there!')\n",
    "doc.save('hellothere.docx')"
   ]
  },
  {
   "cell_type": "markdown",
   "id": "930c7311",
   "metadata": {},
   "source": [
    "12. What integers represent the levels of headings available in Word documents?"
   ]
  },
  {
   "cell_type": "markdown",
   "id": "01777d4c",
   "metadata": {},
   "source": [
    " integer from 0 to 4.\n",
    "    \n",
    "The arguments to add_heading() are a string of the heading text and an integer from 0 to 4.\n",
    "\n",
    "The integer 0 makes the heading the Title style, which is used for the top of the document. \n",
    "\n",
    "Integers 1 to 4 are for various heading levels, with 1 being the main heading and 4 the lowest subheading"
   ]
  },
  {
   "cell_type": "code",
   "execution_count": null,
   "id": "3b9e2419",
   "metadata": {},
   "outputs": [],
   "source": [
    "import docx\n",
    "#add the paragraph and save the file\n",
    "doc_obj=docx.Document(r\"C:\\Users\\LENOVO\\OneDrive\\Documents\\HBR entrepreneurship course.docx\")\n",
    "doc_obj.add_paragraph(\"Hello World!\")\n",
    "doc_obj.save(\"hello world.doc\")\n",
    "\n",
    "#open the file in a new object and access the location\n",
    "doc_obj1=docx.Document(r\"C:\\Users\\LENOVO\\hello world.doc\")\n",
    "\n",
    "#first give a name to the style - give a font style called Title to the paragraph\n",
    "doc_obj1.add_paragraph(\"Hello World!\",'Title')\n",
    "#add_heading() adds a paragraph with one of the heading styles -> changes the font size of the heading \n",
    "doc_obj1.add_heading('Header 0',0)\n"
   ]
  },
  {
   "cell_type": "code",
   "execution_count": null,
   "id": "4dcd4783",
   "metadata": {},
   "outputs": [],
   "source": [
    "#print number of paragraphs in the word doc\n",
    "\n",
    "doc_obj=docx.Document(r\"C:\\Users\\LENOVO\\OneDrive\\Documents\\HBR entrepreneurship course.docx\")\n",
    "print(len(doc_obj.paragraphs))\n",
    "\n",
    "#access a particular paragraph \n",
    "print(doc_obj.paragraphs[2].text)\n",
    "\n",
    "#access the particular paragraph text \n"
   ]
  },
  {
   "cell_type": "code",
   "execution_count": null,
   "id": "0d8f81cc",
   "metadata": {},
   "outputs": [],
   "source": [
    "#To add a line break (rather than starting a whole new paragraph) -> add_break() method \n",
    "- on the Run object you want to have the break appear after.\n",
    "- If you want to add a page break instead, pass the value docx.enum.text.WD_BREAK.PAGE as a lone argument to add_break()\n"
   ]
  },
  {
   "cell_type": "markdown",
   "id": "f6d29f24",
   "metadata": {},
   "source": [
    "## Extra learnings"
   ]
  },
  {
   "cell_type": "markdown",
   "id": "f730c50f",
   "metadata": {},
   "source": [
    "\n",
    "## To read the page from the pdf\n",
    "for page_num in range(len(file_obj.pages)):\n",
    "    page=file_obj.pages[page_num] \"\\n\"\n",
    "    page.extract_text()\n",
    "    \n",
    "\n",
    "## return functions starting with P from module PyPDF2\n",
    "\n",
    "list_func=dir(PyPDF2)\n",
    "import re \"\\n\"\n",
    "obj=re.compile(\"^P\") \"\\n\"\n",
    "newlist=list(filter(obj.match,list_func)) \"\\n\"\n",
    "newlist\n"
   ]
  },
  {
   "cell_type": "markdown",
   "id": "f20dc835",
   "metadata": {},
   "source": [
    "## modes for opening a file \n",
    "'r'       open for reading (default)\n",
    "\n",
    "'w'       open for writing, truncating the file first\n",
    "\n",
    "'x'       create a new file and open it for writing\n",
    "\n",
    "'a'       open for writing, appending to the end of the file if it exists\n",
    "\n",
    "'b'       binary mode\n",
    "\n",
    "'t'       text mode (default)\n",
    "\n",
    "'+'       open a disk file for updating (reading and writing)\n",
    "\n",
    "'U'       universal newline mode (deprecated)"
   ]
  },
  {
   "cell_type": "code",
   "execution_count": null,
   "id": "2b50d002",
   "metadata": {},
   "outputs": [],
   "source": []
  }
 ],
 "metadata": {
  "kernelspec": {
   "display_name": "Python 3 (ipykernel)",
   "language": "python",
   "name": "python3"
  },
  "language_info": {
   "codemirror_mode": {
    "name": "ipython",
    "version": 3
   },
   "file_extension": ".py",
   "mimetype": "text/x-python",
   "name": "python",
   "nbconvert_exporter": "python",
   "pygments_lexer": "ipython3",
   "version": "3.9.12"
  }
 },
 "nbformat": 4,
 "nbformat_minor": 5
}
