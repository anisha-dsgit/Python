{
 "cells": [
  {
   "cell_type": "code",
   "execution_count": 21,
   "metadata": {},
   "outputs": [],
   "source": [
    "import mysql.connector\n",
    "#imported to create an sql connection with python"
   ]
  },
  {
   "cell_type": "code",
   "execution_count": 22,
   "metadata": {},
   "outputs": [],
   "source": [
    "#when the userid and password is correct for your Mysql access, it won't show any error \n",
    "database_connector=mysql.connector.connect(\n",
    "    host= \"localhost\",\n",
    "    user='root',\n",
    "    password= \"Datascience@22\"\n",
    "                                           )"
   ]
  },
  {
   "cell_type": "code",
   "execution_count": 23,
   "metadata": {},
   "outputs": [
    {
     "name": "stdout",
     "output_type": "stream",
     "text": [
      "<mysql.connector.connection_cext.CMySQLConnection object at 0x000001F2796C9270>\n"
     ]
    }
   ],
   "source": [
    "print(database_connector)"
   ]
  },
  {
   "cell_type": "code",
   "execution_count": 24,
   "metadata": {},
   "outputs": [
    {
     "data": {
      "text/plain": [
       "True"
      ]
     },
     "execution_count": 24,
     "metadata": {},
     "output_type": "execute_result"
    }
   ],
   "source": [
    "database_connector.is_connected()"
   ]
  },
  {
   "cell_type": "code",
   "execution_count": 25,
   "metadata": {},
   "outputs": [
    {
     "name": "stdout",
     "output_type": "stream",
     "text": [
      "CMySQLCursor: (Nothing executed yet)\n"
     ]
    }
   ],
   "source": [
    "#this acts as a pointer in sql database and performs the actions \n",
    "curser=database_connector.cursor()\n",
    "print(curser)"
   ]
  },
  {
   "cell_type": "code",
   "execution_count": 26,
   "metadata": {},
   "outputs": [
    {
     "name": "stdout",
     "output_type": "stream",
     "text": [
      "('customers',)\n",
      "('discord',)\n",
      "('employees',)\n",
      "('gdb023',)\n",
      "('gdb041',)\n",
      "('gdb056',)\n",
      "('ig_clone',)\n",
      "('information_schema',)\n",
      "('lazone',)\n",
      "('moviesdb',)\n",
      "('mysql',)\n",
      "('orders',)\n",
      "('performance_schema',)\n",
      "('sys',)\n"
     ]
    }
   ],
   "source": [
    "# write your sql query under curser.execute() statement\n",
    "curser.execute(\"show databases\")\n",
    "for i in curser:\n",
    "    print(i)"
   ]
  },
  {
   "cell_type": "code",
   "execution_count": 31,
   "metadata": {},
   "outputs": [
    {
     "data": {
      "text/plain": [
       "'orders'"
      ]
     },
     "execution_count": 31,
     "metadata": {},
     "output_type": "execute_result"
    }
   ],
   "source": [
    "#shows current database being used \n",
    "database_connector.database"
   ]
  },
  {
   "cell_type": "code",
   "execution_count": 32,
   "metadata": {},
   "outputs": [],
   "source": [
    "#here, we have brought our pointer to the location from where we want to fetch the data\n",
    "curser.execute(\"select * from orders.products \")"
   ]
  },
  {
   "cell_type": "code",
   "execution_count": 33,
   "metadata": {},
   "outputs": [
    {
     "name": "stdout",
     "output_type": "stream",
     "text": [
      "('ani', 9)\n",
      "('ani', 9)\n",
      "('mani', 100)\n"
     ]
    }
   ],
   "source": [
    "# Every record is stored as a tuple in database and that is why when we access it, it prints in tuple form \n",
    "#now, we are printing the data present in respective column\n",
    "for i in curser:\n",
    "    print(i)"
   ]
  },
  {
   "cell_type": "code",
   "execution_count": null,
   "metadata": {},
   "outputs": [
    {
     "data": {
      "text/plain": [
       "[]"
      ]
     },
     "execution_count": 7,
     "metadata": {},
     "output_type": "execute_result"
    }
   ],
   "source": [
    "#use a particular database \n",
    "curser.execute(\"use moviesdb\")\n",
    "curser.fetchall()"
   ]
  },
  {
   "cell_type": "code",
   "execution_count": 34,
   "metadata": {},
   "outputs": [],
   "source": [
    "#to see all tables in a particular database \n",
    "curser.execute(\"show tables\")"
   ]
  },
  {
   "cell_type": "code",
   "execution_count": 35,
   "metadata": {},
   "outputs": [
    {
     "name": "stdout",
     "output_type": "stream",
     "text": [
      "('products',)\n"
     ]
    }
   ],
   "source": [
    "for i in curser:\n",
    "    print(i)"
   ]
  },
  {
   "cell_type": "code",
   "execution_count": 36,
   "metadata": {},
   "outputs": [],
   "source": [
    "#to see changes made to the table from python\n",
    "database_connector.commit()"
   ]
  },
  {
   "cell_type": "code",
   "execution_count": 40,
   "metadata": {},
   "outputs": [],
   "source": [
    "curser.execute(\" insert into orders.products Values ('manimani' , 100), ('animani', 200)\")\n",
    "database_connector.commit()"
   ]
  },
  {
   "cell_type": "code",
   "execution_count": 41,
   "metadata": {},
   "outputs": [],
   "source": [
    "curser.execute(\" select * from orders.products\")"
   ]
  },
  {
   "cell_type": "code",
   "execution_count": 43,
   "metadata": {},
   "outputs": [
    {
     "name": "stdout",
     "output_type": "stream",
     "text": [
      "('ani', 9)\n",
      "('mani', 100)\n",
      "('manimani', 100)\n",
      "('animani', 200)\n",
      "('manimani', 100)\n",
      "('animani', 200)\n"
     ]
    }
   ],
   "source": [
    "for i in curser:\n",
    "    print(i)"
   ]
  },
  {
   "cell_type": "code",
   "execution_count": null,
   "metadata": {},
   "outputs": [],
   "source": []
  }
 ],
 "metadata": {
  "kernelspec": {
   "display_name": "Python 3",
   "language": "python",
   "name": "python3"
  },
  "language_info": {
   "codemirror_mode": {
    "name": "ipython",
    "version": 3
   },
   "file_extension": ".py",
   "mimetype": "text/x-python",
   "name": "python",
   "nbconvert_exporter": "python",
   "pygments_lexer": "ipython3",
   "version": "3.10.4"
  },
  "orig_nbformat": 4
 },
 "nbformat": 4,
 "nbformat_minor": 2
}
