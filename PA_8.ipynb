{
  "nbformat": 4,
  "nbformat_minor": 0,
  "metadata": {
    "colab": {
      "provenance": [],
      "authorship_tag": "ABX9TyPQ2QDTpX1KsESPu6vr8qNK",
      "include_colab_link": true
    },
    "kernelspec": {
      "name": "python3",
      "display_name": "Python 3"
    },
    "language_info": {
      "name": "python"
    }
  },
  "cells": [
    {
      "cell_type": "markdown",
      "metadata": {
        "id": "view-in-github",
        "colab_type": "text"
      },
      "source": [
        "<a href=\"https://colab.research.google.com/github/anisha-dsgit/Python/blob/main/PA_8.ipynb\" target=\"_parent\"><img src=\"https://colab.research.google.com/assets/colab-badge.svg\" alt=\"Open In Colab\"/></a>"
      ]
    },
    {
      "cell_type": "markdown",
      "source": [
        "1. Write a Python Program to Display Fibonacci Sequence Using Recursion?\n",
        "2. Write a Python Program to Find Factorial of Number Using Recursion?\n",
        "3. Write a Python Program to calculate your Body Mass Index?\n",
        "4. Write a Python Program to calculate the natural logarithm of any number?\n",
        "5. Write a Python Program for cube sum of first n natural numbers?"
      ],
      "metadata": {
        "id": "GOAKe8Eg7uXI"
      }
    },
    {
      "cell_type": "code",
      "execution_count": 2,
      "metadata": {
        "colab": {
          "base_uri": "https://localhost:8080/"
        },
        "id": "k9aOKSFZ6kW1",
        "outputId": "895846a7-3c4d-491e-de8e-209dd487ff18"
      },
      "outputs": [
        {
          "output_type": "stream",
          "name": "stdout",
          "text": [
            "enter total numbers you want 20\n",
            "0\n",
            "1\n",
            "1\n",
            "2\n",
            "3\n",
            "5\n",
            "8\n",
            "13\n",
            "21\n",
            "34\n",
            "55\n",
            "89\n",
            "144\n",
            "233\n",
            "377\n",
            "610\n",
            "987\n",
            "1597\n",
            "2584\n",
            "4181\n"
          ]
        }
      ],
      "source": [
        "#Solution to 1: \n",
        "#fibonacci sequence 1,2,3,5,8,13,21,34,...\n",
        "def fibonacci(n):\n",
        "    if n<=0:\n",
        "      return 0\n",
        "    elif n==1:\n",
        "      return 1\n",
        "    else:\n",
        "      return fibonacci(n-1)+fibonacci(n-2)\n",
        "  \n",
        "n=int(input(\"enter total numbers you want \"))\n",
        "for i in range(n):\n",
        "  print(fibonacci(i))\n",
        "     "
      ]
    },
    {
      "cell_type": "code",
      "source": [
        "#solution to 2: \n",
        "#factorial of n = n*n-1*n-2*n-3...n-(n-1)\n",
        "def factorial(n):\n",
        "    if n==1:\n",
        "        return n\n",
        "    else:\n",
        "        return n*factorial(n-1)\n",
        "\n",
        "factorial(10)"
      ],
      "metadata": {
        "colab": {
          "base_uri": "https://localhost:8080/"
        },
        "id": "DgnXk_L16rR5",
        "outputId": "887f7e7d-749c-435c-efb8-b29fc3217786"
      },
      "execution_count": 3,
      "outputs": [
        {
          "output_type": "execute_result",
          "data": {
            "text/plain": [
              "3628800"
            ]
          },
          "metadata": {},
          "execution_count": 3
        }
      ]
    },
    {
      "cell_type": "code",
      "source": [
        "#solution to 3:\n",
        "weight = float(input(\"enter your weight\"))\n",
        "height= float(input(\"enter your height in meters\"))\n",
        "bmi=(weight/(height**2))*100\n",
        "\n",
        "def bmi_calculator(bmi):\n",
        "    if bmi< 18.5:\n",
        "        return \"underweight\"\n",
        "    elif 18.5<bmi and bmi<24:\n",
        "        return \"normal\"\n",
        "    elif 25<bmi and bmi <29.9:\n",
        "        return \"overweight\"\n",
        "    else:\n",
        "        return \"obese\"\n",
        "    \n",
        "print(bmi, bmi_calculator(bmi))\n"
      ],
      "metadata": {
        "colab": {
          "base_uri": "https://localhost:8080/"
        },
        "id": "UYZdtzki67C4",
        "outputId": "cfe3e4cf-01bc-421f-ecf3-95451138cc7f"
      },
      "execution_count": 5,
      "outputs": [
        {
          "output_type": "stream",
          "name": "stdout",
          "text": [
            "enter your weight47\n",
            "enter your height in meters1.5\n",
            "2088.888888888889 obese\n"
          ]
        }
      ]
    },
    {
      "cell_type": "code",
      "source": [
        "# solution to 5 :\n",
        "n= int(input(\"enter the end of natural numbers \"))\n",
        "l_3=[i**3 for i in range(1,n+1)]\n",
        "print(l_3)\n",
        "sum_n=0\n",
        "for j in l_3:\n",
        "    sum_n=j+sum_n\n",
        "print(sum_n)\n"
      ],
      "metadata": {
        "colab": {
          "base_uri": "https://localhost:8080/"
        },
        "id": "1GN4N1TL6-Nx",
        "outputId": "db96931a-4971-4e4e-d664-0b77ef08969b"
      },
      "execution_count": 6,
      "outputs": [
        {
          "output_type": "stream",
          "name": "stdout",
          "text": [
            "enter the end of natural numbers 100\n",
            "[1, 8, 27, 64, 125, 216, 343, 512, 729, 1000, 1331, 1728, 2197, 2744, 3375, 4096, 4913, 5832, 6859, 8000, 9261, 10648, 12167, 13824, 15625, 17576, 19683, 21952, 24389, 27000, 29791, 32768, 35937, 39304, 42875, 46656, 50653, 54872, 59319, 64000, 68921, 74088, 79507, 85184, 91125, 97336, 103823, 110592, 117649, 125000, 132651, 140608, 148877, 157464, 166375, 175616, 185193, 195112, 205379, 216000, 226981, 238328, 250047, 262144, 274625, 287496, 300763, 314432, 328509, 343000, 357911, 373248, 389017, 405224, 421875, 438976, 456533, 474552, 493039, 512000, 531441, 551368, 571787, 592704, 614125, 636056, 658503, 681472, 704969, 729000, 753571, 778688, 804357, 830584, 857375, 884736, 912673, 941192, 970299, 1000000]\n",
            "25502500\n"
          ]
        }
      ]
    },
    {
      "cell_type": "code",
      "source": [
        "#solution to 4:\n",
        "import math \n",
        "n= int(input(\"enter the natural number \"))\n",
        "log_n= math.log(n)\n",
        "print(log_n)\n"
      ],
      "metadata": {
        "colab": {
          "base_uri": "https://localhost:8080/"
        },
        "id": "oF60_qGA7V6B",
        "outputId": "e1daa5d3-40db-4323-c77f-5f645d12d624"
      },
      "execution_count": 7,
      "outputs": [
        {
          "output_type": "stream",
          "name": "stdout",
          "text": [
            "enter the natural number 23\n",
            "3.1354942159291497\n"
          ]
        }
      ]
    },
    {
      "cell_type": "code",
      "source": [],
      "metadata": {
        "id": "l6eBz94M7dk9"
      },
      "execution_count": null,
      "outputs": []
    }
  ]
}