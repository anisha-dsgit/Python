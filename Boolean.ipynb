{
  "nbformat": 4,
  "nbformat_minor": 0,
  "metadata": {
    "colab": {
      "provenance": []
    },
    "kernelspec": {
      "name": "python3",
      "display_name": "Python 3"
    },
    "language_info": {
      "name": "python"
    }
  },
  "cells": [
    {
      "cell_type": "code",
      "execution_count": null,
      "metadata": {
        "id": "ZBaiwe1G2kiM"
      },
      "outputs": [],
      "source": []
    },
    {
      "cell_type": "markdown",
      "source": [
        "1. Boolean data types - True, False \n",
        "2. three different types of boolean operators are True, False, Not, and, or \n",
        "3. Boolean operators truth table: \n",
        "True + True = 2 \n",
        "True + False = 1 \n",
        "True + \n",
        "4. values of expressions\n",
        "(5 > 4) and (3 == 5) **False**\n",
        "not (5 > 4) **False**\n",
        "(5 > 4) or (3 == 5) **True**\n",
        "not ((5 > 4) or (3 == 5)) **False** \n",
        "(True and True) and (True == False) **False**\n",
        "(not False) or (not True) **True**\n",
        "5.the six comparison operators are >,<,==,!=,>=,<=\n",
        "6.tell the difference between the equal to and assignment operators?Describe a condition and when you would use one.\n",
        "**equal to operator - used as a comparison between two values or variables.**\n",
        "example:**if a==5: print(True)**\n",
        "**assignment operator - used to assign value to variable. example: a=10**\n",
        "\n",
        "condition:\n",
        "a=3\n",
        "if a==5:print(\"true\") \n",
        "else: print(\"false\") -----> answer : false \n",
        "7. identify 3 blocks of code :\n",
        "spam = 0\n",
        "if spam == 10:\n",
        "print(\"eggs\")\n",
        "if spam> 5:\n",
        "print(\"bacon\")\n",
        "else:\n",
        "print(\"ham\")\n",
        "print(\"spam\")\n",
        "print(\"spam\")\n",
        "\n",
        "##if spam> 5:\n",
        "##print(\"bacon\")\n",
        "##else:\n",
        "##print(\"ham\")\n",
        "##print(\"spam\")\n",
        "##print(\"spam\")\n",
        "\n",
        "8.print Hello if 1 is stored in spam, prints Howdy if 2 is stored in spam, and prints Greetings! if anything else is stored in spam.  \n",
        "##spam = 1\n",
        "if spam ==1:\n",
        "print(\"hello\")\n",
        "elseif spam==2:\n",
        "print(\"howdy\")\n",
        "else:\n",
        "print(\"Greetings!\")\n",
        "\n",
        "9. programme is stuck in an endless loop, what keys you’ll press. - \n",
        "**ctrl+c** \n",
        "10. difference between break and continue: \n",
        "break -> comes out of the loop immediately \n",
        "continue-> helps is used when we want to run other statements also in the loop. \n",
        "\n",
        "11. difference between range(10), range(0, 10), and range(0, 10, 1)\n",
        "**range(10) - runs upto 10 times starting at 0\n",
        "range(0,10)- here we are specifying the starting position, the loop will run upto 10 , 10 excluding \n",
        "range(0,10,1)- step size is 1, so every alternate number beginning from 0 is run in the for loop. \n",
        "\n",
        "12. prints the numbers 1 to 10 using a for loop. Then write an equivalent\n",
        "program that prints the numbers 1 to 10 using a while loop.\n",
        "\n",
        "for i in range(1,11):\n",
        "print (i)\n",
        "\n",
        "i=1\n",
        "while i< 11:\n",
        "    print(i)\n",
        "    i=i+1\n",
        "13. you had a function named bacon() inside a module named spam, how would you call it after importing spam?\n",
        "\n",
        "class Spam:\n",
        "    def bacon(a, **args):\n",
        "        print(\"this is function call\")\n",
        "\n",
        "S=Spam()\n",
        "S.bacon()\n",
        "\n",
        "\n"
      ],
      "metadata": {
        "id": "xQ6Pkru02qkk"
      }
    },
    {
      "cell_type": "markdown",
      "source": [],
      "metadata": {
        "id": "hveGpxaq3PGM"
      }
    }
  ]
}