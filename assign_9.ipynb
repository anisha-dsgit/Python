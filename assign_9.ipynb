{
 "cells": [
  {
   "cell_type": "markdown",
   "id": "58e68484",
   "metadata": {},
   "source": [
    "1. relative path is path of the file without the backslash. eg: google.txt "
   ]
  },
  {
   "cell_type": "markdown",
   "id": "64390e17",
   "metadata": {},
   "source": [
    "2. absolute path starts with backslash \\ . for example: \"C:\\OneDrive\\Desktop\\ineuron\\assignments\\3.ipynb\" "
   ]
  },
  {
   "cell_type": "markdown",
   "id": "860e853d",
   "metadata": {},
   "source": [
    "3. os.getcwd() -> returns the absolute path of current working directory. os.chdir() -> changes the location of current file. "
   ]
  },
  {
   "cell_type": "markdown",
   "id": "a88669f8",
   "metadata": {},
   "source": [
    "4. c:\\parent directory\\current directory\\folder , .folder is current directory, ..folder is parent directory. \n",
    "    generally these folders are hidden. "
   ]
  },
  {
   "cell_type": "markdown",
   "id": "b2d3a0c3",
   "metadata": {},
   "source": [
    "5.C:\\bacon\\eggs\\spam.txt, directory name= bacon, base name= eggs\n",
    "    "
   ]
  },
  {
   "cell_type": "markdown",
   "id": "f1b1204a",
   "metadata": {},
   "source": [
    "6. modes in open function , read,write, r+ , r+ means both read and write mode."
   ]
  },
  {
   "cell_type": "markdown",
   "id": "bb7370d5",
   "metadata": {},
   "source": [
    "7. if existing file is opened in write mode,curser is at the end of the file to continue further."
   ]
  },
  {
   "cell_type": "markdown",
   "id": "887b131b",
   "metadata": {},
   "source": [
    "8. read() vs readlines(), read() reads the page character by character , readlines() reads the page per line."
   ]
  },
  {
   "cell_type": "code",
   "execution_count": 12,
   "id": "998ba273",
   "metadata": {},
   "outputs": [
    {
     "data": {
      "text/plain": [
       "9.0"
      ]
     },
     "execution_count": 12,
     "metadata": {},
     "output_type": "execute_result"
    }
   ],
   "source": [
    "9. "
   ]
  },
  {
   "cell_type": "code",
   "execution_count": null,
   "id": "77def1fb",
   "metadata": {},
   "outputs": [],
   "source": []
  }
 ],
 "metadata": {
  "kernelspec": {
   "display_name": "Python 3 (ipykernel)",
   "language": "python",
   "name": "python3"
  },
  "language_info": {
   "codemirror_mode": {
    "name": "ipython",
    "version": 3
   },
   "file_extension": ".py",
   "mimetype": "text/x-python",
   "name": "python",
   "nbconvert_exporter": "python",
   "pygments_lexer": "ipython3",
   "version": "3.9.12"
  }
 },
 "nbformat": 4,
 "nbformat_minor": 5
}
