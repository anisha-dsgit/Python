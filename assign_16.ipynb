{
 "cells": [
  {
   "cell_type": "markdown",
   "id": "c0565a24",
   "metadata": {},
   "source": [
    "1. Create a list called years_list, starting with the year of your birth, and each year thereafter until\n",
    "the year of your fifth birthday. For example, if you were born in 1980. the list would be years_list =\n",
    "[1980, 1981, 1982, 1983, 1984, 1985]."
   ]
  },
  {
   "cell_type": "code",
   "execution_count": 1,
   "id": "2ea75d3c",
   "metadata": {},
   "outputs": [
    {
     "data": {
      "text/plain": [
       "[1992, 1993, 1994, 1995, 1996]"
      ]
     },
     "execution_count": 1,
     "metadata": {},
     "output_type": "execute_result"
    }
   ],
   "source": [
    "lis=[i for i in range(1992,1997)]\n",
    "lis"
   ]
  },
  {
   "cell_type": "markdown",
   "id": "fd1540e0",
   "metadata": {},
   "source": [
    "2. In which year in years_list was your third birthday? Remember, you were 0 years of age for your\n",
    "first year."
   ]
  },
  {
   "cell_type": "code",
   "execution_count": 3,
   "id": "4b379996",
   "metadata": {},
   "outputs": [
    {
     "data": {
      "text/plain": [
       "1994"
      ]
     },
     "execution_count": 3,
     "metadata": {},
     "output_type": "execute_result"
    }
   ],
   "source": [
    "lis[2]"
   ]
  },
  {
   "cell_type": "markdown",
   "id": "4265630c",
   "metadata": {},
   "source": [
    "3.In the years list, which year were you the oldest?"
   ]
  },
  {
   "cell_type": "code",
   "execution_count": 4,
   "id": "469eceb9",
   "metadata": {},
   "outputs": [
    {
     "data": {
      "text/plain": [
       "1996"
      ]
     },
     "execution_count": 4,
     "metadata": {},
     "output_type": "execute_result"
    }
   ],
   "source": [
    "lis[-1]"
   ]
  },
  {
   "cell_type": "markdown",
   "id": "5c7fb1d7",
   "metadata": {},
   "source": [
    "4. Make a list called things with these three strings as elements: &quot;mozzarella&quot;, &quot;cinderella&quot;,\n",
    "&quot;salmonella&quot;."
   ]
  },
  {
   "cell_type": "code",
   "execution_count": 6,
   "id": "d9ea6e3f",
   "metadata": {},
   "outputs": [
    {
     "data": {
      "text/plain": [
       "['mozzarella', 'cinderella', 'salmonella']"
      ]
     },
     "execution_count": 6,
     "metadata": {},
     "output_type": "execute_result"
    }
   ],
   "source": [
    "m=\"mozzarella\" \n",
    "b=\"cinderella\"\n",
    "c=\"salmonella\"\n",
    "lis=list((m,b,c))\n",
    "lis"
   ]
  },
  {
   "cell_type": "markdown",
   "id": "c8374ee3",
   "metadata": {},
   "source": [
    "5. Capitalize the element in things that refers to a person and then print the list. Did it change the\n",
    "element in the list?"
   ]
  },
  {
   "cell_type": "code",
   "execution_count": 13,
   "id": "04a9870d",
   "metadata": {},
   "outputs": [
    {
     "data": {
      "text/plain": [
       "'Cinderella'"
      ]
     },
     "execution_count": 13,
     "metadata": {},
     "output_type": "execute_result"
    }
   ],
   "source": [
    "# it changes the list only when we assign the capitalised value to the variable position and then print it. \n",
    "#if we don't assign to a new variable, it won't change the list \n",
    "lis[1]=lis[1].capitalize()\n",
    "lis[1]"
   ]
  },
  {
   "cell_type": "code",
   "execution_count": 14,
   "id": "5ea05785",
   "metadata": {},
   "outputs": [
    {
     "data": {
      "text/plain": [
       "['mozzarella', 'Cinderella', 'salmonella']"
      ]
     },
     "execution_count": 14,
     "metadata": {},
     "output_type": "execute_result"
    }
   ],
   "source": [
    "lis"
   ]
  },
  {
   "cell_type": "markdown",
   "id": "c29dd1a1",
   "metadata": {},
   "source": [
    "6. Make a surprise list with the elements &quot;Groucho,&quot; &quot;Chico,&quot; and &quot;Harpo.&quot;"
   ]
  },
  {
   "cell_type": "code",
   "execution_count": 16,
   "id": "279e9926",
   "metadata": {},
   "outputs": [
    {
     "data": {
      "text/plain": [
       "['Groucho', 'Chico', 'Harpo']"
      ]
     },
     "execution_count": 16,
     "metadata": {},
     "output_type": "execute_result"
    }
   ],
   "source": [
    "a=\"Groucho\" \n",
    "b=\"Chico\"\n",
    "c=\"Harpo\"\n",
    "surprise_list =[a,b,c]\n",
    "surprise_list"
   ]
  },
  {
   "cell_type": "markdown",
   "id": "f8d19023",
   "metadata": {},
   "source": [
    "7. Lowercase the last element of the surprise list, reverse it, and then capitalize it."
   ]
  },
  {
   "cell_type": "code",
   "execution_count": 22,
   "id": "fedb8adc",
   "metadata": {},
   "outputs": [
    {
     "data": {
      "text/plain": [
       "'Oprah'"
      ]
     },
     "execution_count": 22,
     "metadata": {},
     "output_type": "execute_result"
    }
   ],
   "source": [
    "surprise_list[-1][-1: :-1].capitalize()"
   ]
  },
  {
   "cell_type": "markdown",
   "id": "01a5aa08",
   "metadata": {},
   "source": [
    "8. Make an English-to-French dictionary called e2f and print it. Here are your starter words: dog is\n",
    "chien, cat is chat, and walrus is morse."
   ]
  },
  {
   "cell_type": "code",
   "execution_count": 12,
   "id": "e6effdfe",
   "metadata": {},
   "outputs": [
    {
     "data": {
      "text/plain": [
       "{'dog': 'chien', 'Cat': 'chat', 'walrus': 'morse'}"
      ]
     },
     "execution_count": 12,
     "metadata": {},
     "output_type": "execute_result"
    }
   ],
   "source": [
    "e2f={\"dog\":\"chien\", \"Cat\":\"chat\",\"walrus\":\"morse\"}\n",
    "e2f"
   ]
  },
  {
   "cell_type": "markdown",
   "id": "2e068c9c",
   "metadata": {},
   "source": [
    "9. Write the French word for walrus in your three-word dictionary e2f.\n"
   ]
  },
  {
   "cell_type": "code",
   "execution_count": 23,
   "id": "291a8f71",
   "metadata": {},
   "outputs": [
    {
     "data": {
      "text/plain": [
       "'morse'"
      ]
     },
     "execution_count": 23,
     "metadata": {},
     "output_type": "execute_result"
    }
   ],
   "source": [
    "e2f['walrus']"
   ]
  },
  {
   "cell_type": "markdown",
   "id": "58535e4a",
   "metadata": {},
   "source": [
    "10. Make a French-to-English dictionary called f2e from e2f. Use the items method."
   ]
  },
  {
   "cell_type": "code",
   "execution_count": 47,
   "id": "f46fbd4f",
   "metadata": {},
   "outputs": [
    {
     "name": "stdout",
     "output_type": "stream",
     "text": [
      "dict_items([('dog', 'chien'), ('Cat', 'chat'), ('walrus', 'morse')])\n"
     ]
    },
    {
     "data": {
      "text/plain": [
       "{'chien': 'dog', 'chat': 'Cat', 'morse': 'walrus'}"
      ]
     },
     "execution_count": 47,
     "metadata": {},
     "output_type": "execute_result"
    }
   ],
   "source": [
    "print(e2f.items())\n",
    "f2e={value:key for key,value in e2f.items()}\n",
    "f2e"
   ]
  },
  {
   "cell_type": "markdown",
   "id": "cb3bc428",
   "metadata": {},
   "source": [
    "11. Print the English version of the French word chien using f2e."
   ]
  },
  {
   "cell_type": "code",
   "execution_count": 48,
   "id": "29cd772f",
   "metadata": {},
   "outputs": [
    {
     "data": {
      "text/plain": [
       "'dog'"
      ]
     },
     "execution_count": 48,
     "metadata": {},
     "output_type": "execute_result"
    }
   ],
   "source": [
    "f2e['chien']"
   ]
  },
  {
   "cell_type": "markdown",
   "id": "9907c211",
   "metadata": {},
   "source": [
    "12. Make and print a set of English words from the keys in e2f."
   ]
  },
  {
   "cell_type": "code",
   "execution_count": 52,
   "id": "04b83a3a",
   "metadata": {},
   "outputs": [
    {
     "data": {
      "text/plain": [
       "{'Cat', 'dog', 'walrus'}"
      ]
     },
     "execution_count": 52,
     "metadata": {},
     "output_type": "execute_result"
    }
   ],
   "source": [
    "set(e2f.keys())"
   ]
  },
  {
   "cell_type": "markdown",
   "id": "dd0df4e6",
   "metadata": {},
   "source": [
    "13. Make a multilevel dictionary called life. Use these strings for the topmost keys: &#39;animals&#39;, &#39;plants&#39;,\n",
    "and &#39;other&#39;. Make the &#39;animals&#39; key refer to another dictionary with the keys &#39;cats&#39;, &#39;octopi&#39;, and\n",
    "&#39;emus&#39;. Make the &#39;cats&#39; key refer to a list of strings with the values &#39;Henri&#39;, &#39;Grumpy&#39;, and &#39;Lucy&#39;.\n",
    "Make all the other keys refer to empty dictionaries."
   ]
  },
  {
   "cell_type": "code",
   "execution_count": 54,
   "id": "9af5fb60",
   "metadata": {},
   "outputs": [
    {
     "data": {
      "text/plain": [
       "{'animals': {'cats': ['Henri', 'Grumpy', 'Lucy'], 'octopi': {}, 'emus': {}},\n",
       " 'plants': {},\n",
       " 'other': {}}"
      ]
     },
     "execution_count": 54,
     "metadata": {},
     "output_type": "execute_result"
    }
   ],
   "source": [
    "life={'animals':{'cats':['Henri','Grumpy','Lucy'] ,'octopi':{} ,'emus':{} } ,'plants':{}  ,'other':{}}\n",
    "life"
   ]
  },
  {
   "cell_type": "markdown",
   "id": "dc6ac1ca",
   "metadata": {},
   "source": [
    "14. Print the top-level keys of life."
   ]
  },
  {
   "cell_type": "code",
   "execution_count": 56,
   "id": "6de95770",
   "metadata": {},
   "outputs": [
    {
     "data": {
      "text/plain": [
       "['animals', 'plants', 'other']"
      ]
     },
     "execution_count": 56,
     "metadata": {},
     "output_type": "execute_result"
    }
   ],
   "source": [
    "list(life.keys())"
   ]
  },
  {
   "cell_type": "markdown",
   "id": "bb1b801a",
   "metadata": {},
   "source": [
    "15. Print the keys for life[&#39;animals&#39;]."
   ]
  },
  {
   "cell_type": "code",
   "execution_count": 57,
   "id": "0c2b4d10",
   "metadata": {},
   "outputs": [
    {
     "data": {
      "text/plain": [
       "['cats', 'octopi', 'emus']"
      ]
     },
     "execution_count": 57,
     "metadata": {},
     "output_type": "execute_result"
    }
   ],
   "source": [
    "list(life['animals'].keys())"
   ]
  },
  {
   "cell_type": "markdown",
   "id": "96f3785f",
   "metadata": {},
   "source": [
    "16. Print the values for life[&#39;animals&#39;][&#39;cats&#39;]"
   ]
  },
  {
   "cell_type": "code",
   "execution_count": 58,
   "id": "ee1f5570",
   "metadata": {},
   "outputs": [
    {
     "data": {
      "text/plain": [
       "['Henri', 'Grumpy', 'Lucy']"
      ]
     },
     "execution_count": 58,
     "metadata": {},
     "output_type": "execute_result"
    }
   ],
   "source": [
    "life['animals']['cats']"
   ]
  },
  {
   "cell_type": "code",
   "execution_count": null,
   "id": "f730efff",
   "metadata": {},
   "outputs": [],
   "source": []
  }
 ],
 "metadata": {
  "kernelspec": {
   "display_name": "Python 3 (ipykernel)",
   "language": "python",
   "name": "python3"
  },
  "language_info": {
   "codemirror_mode": {
    "name": "ipython",
    "version": 3
   },
   "file_extension": ".py",
   "mimetype": "text/x-python",
   "name": "python",
   "nbconvert_exporter": "python",
   "pygments_lexer": "ipython3",
   "version": "3.9.12"
  }
 },
 "nbformat": 4,
 "nbformat_minor": 5
}
