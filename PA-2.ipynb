{
 "cells": [
  {
   "cell_type": "markdown",
   "id": "dc5ae78f",
   "metadata": {},
   "source": [
    "1. Write a Python program to convert kilometers to miles?\n",
    "2. Write a Python program to convert Celsius to Fahrenheit?\n",
    "3. Write a Python program to display calendar?\n",
    "4. Write a Python program to solve quadratic equation?\n",
    "5. Write a Python program to swap two variables without temp variable?"
   ]
  },
  {
   "cell_type": "markdown",
   "id": "92d27d6a",
   "metadata": {},
   "source": [
    "1. Write a Python program to convert kilometers to miles?"
   ]
  },
  {
   "cell_type": "code",
   "execution_count": 2,
   "id": "2f7f23e1",
   "metadata": {},
   "outputs": [
    {
     "name": "stdout",
     "output_type": "stream",
     "text": [
      "enter distance in kilometers45\n",
      " in miles, distance is 27.9\n"
     ]
    }
   ],
   "source": [
    "km=int(input(\"enter distance in kilometers\"))\n",
    "print(f\" in miles, distance is {km*0.62}\")"
   ]
  },
  {
   "cell_type": "markdown",
   "id": "bf64c623",
   "metadata": {},
   "source": [
    "2. Write a Python program to convert Celsius to Fahrenheit?"
   ]
  },
  {
   "cell_type": "code",
   "execution_count": 6,
   "id": "720d2ac9",
   "metadata": {},
   "outputs": [
    {
     "name": "stdout",
     "output_type": "stream",
     "text": [
      "enter celsius in fahrenheit 23\n",
      " in fahrenheit, temperature is 73.4\n"
     ]
    }
   ],
   "source": [
    "celsius=int(input(\"enter celsius in fahrenheit \"))\n",
    "print(f\" in fahrenheit, temperature is {((celsius*9)/5)+32}\")"
   ]
  },
  {
   "cell_type": "markdown",
   "id": "5fd4734d",
   "metadata": {},
   "source": [
    "3. Write a Python program to display calendar?"
   ]
  },
  {
   "cell_type": "code",
   "execution_count": 10,
   "id": "310d3783",
   "metadata": {},
   "outputs": [
    {
     "name": "stdout",
     "output_type": "stream",
     "text": [
      "enter calendar year 2023\n",
      "enter month in number from 1 to 12 7\n",
      "     July 2023\n",
      "Mo Tu We Th Fr Sa Su\n",
      "                1  2\n",
      " 3  4  5  6  7  8  9\n",
      "10 11 12 13 14 15 16\n",
      "17 18 19 20 21 22 23\n",
      "24 25 26 27 28 29 30\n",
      "31\n",
      "\n"
     ]
    }
   ],
   "source": [
    "import calendar\n",
    "\n",
    "yy=int(input(\"enter calendar year \"))\n",
    "mm=int(input(\"enter month in number from 1 to 12 \"))\n",
    "\n",
    "print(calendar.month(yy,mm))"
   ]
  },
  {
   "cell_type": "markdown",
   "id": "127a12b0",
   "metadata": {},
   "source": [
    "Write a Python program to solve quadratic equation?"
   ]
  },
  {
   "cell_type": "markdown",
   "id": "94fe8add",
   "metadata": {},
   "source": [
    "Quadratic equation is given by ax^2+bx+c\n",
    "solutions to the equation is given by:\n",
    "(-b ± (b ** 2 - 4 * a * c) ** 0.5) / (2 * a)"
   ]
  },
  {
   "cell_type": "code",
   "execution_count": 5,
   "id": "4e4fe862",
   "metadata": {},
   "outputs": [
    {
     "name": "stdout",
     "output_type": "stream",
     "text": [
      "enter value of coeff of x^2 1\n",
      "enter value of coeff of x 12\n",
      "enter the constant value 12\n",
      "quadratic equation looks like 1*(x^2) +12*x +12=0\n",
      "The solution are (-10.898979485566356+0j) and (-1.1010205144336442+0j)\n"
     ]
    }
   ],
   "source": [
    "import cmath\n",
    "\n",
    "a=int(input(\"enter value of coeff of x^2 \"))\n",
    "b=int(input(\"enter value of coeff of x \"))\n",
    "c=int(input(\"enter the constant value \"))\n",
    "\n",
    "print(f\"quadratic equation looks like {a}*(x^2) +{b}*x +{c}=0\", end=\"\\n\")\n",
    "\n",
    "# calculate the discriminant\n",
    "d = (b**2) - (4*a*c)\n",
    "\n",
    "# find two solutions\n",
    "sol1 = (-b-cmath.sqrt(d))/(2*a)\n",
    "sol2 = (-b+cmath.sqrt(d))/(2*a)\n",
    "\n",
    "print('The solution are {0} and {1}'.format(sol1,sol2))"
   ]
  },
  {
   "cell_type": "markdown",
   "id": "eff3cfe2",
   "metadata": {},
   "source": [
    "Write a Python program to swap two variables without temp variable?"
   ]
  },
  {
   "cell_type": "code",
   "execution_count": 7,
   "id": "24c3ad66",
   "metadata": {},
   "outputs": [
    {
     "name": "stdout",
     "output_type": "stream",
     "text": [
      "a=apricot,b=ball\n"
     ]
    }
   ],
   "source": [
    "a='ball'\n",
    "b='apricot'\n",
    "a,b=b,a\n",
    "print(f\"a={a},b={b}\")"
   ]
  },
  {
   "cell_type": "code",
   "execution_count": null,
   "id": "98e3a4d8",
   "metadata": {},
   "outputs": [],
   "source": []
  }
 ],
 "metadata": {
  "kernelspec": {
   "display_name": "Python 3 (ipykernel)",
   "language": "python",
   "name": "python3"
  },
  "language_info": {
   "codemirror_mode": {
    "name": "ipython",
    "version": 3
   },
   "file_extension": ".py",
   "mimetype": "text/x-python",
   "name": "python",
   "nbconvert_exporter": "python",
   "pygments_lexer": "ipython3",
   "version": "3.9.12"
  }
 },
 "nbformat": 4,
 "nbformat_minor": 5
}
