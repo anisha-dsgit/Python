{
 "cells": [
  {
   "cell_type": "markdown",
   "metadata": {},
   "source": [
    "1) . What is the difference between enclosing a list comprehension in square brackets and\n",
    "parentheses?\n"
   ]
  },
  {
   "cell_type": "code",
   "execution_count": 5,
   "metadata": {},
   "outputs": [
    {
     "name": "stdout",
     "output_type": "stream",
     "text": [
      "[1, 4, 9, 16, 25]\n",
      "enclosing list comprehension within paranthesis now \n",
      "<generator object <genexpr> at 0x000001A21AEBBED0>\n"
     ]
    }
   ],
   "source": [
    "#Enclosing a list comprehension in square brackets [ ] creates a list, while enclosing it in parentheses ( ) creates a generator object.\n",
    "#working \n",
    "\n",
    "list1=[1,2,3,4,5]\n",
    "list1_squared=[x**2 for x in list1]\n",
    "print(list1_squared)\n",
    "\n",
    "list1_gen=(x**2 for x in list1)\n",
    "print(\"enclosing list comprehension within paranthesis now \")\n",
    "print(list1_gen)\n",
    "\n",
    "#generator objects are memory efficient \n",
    "\n"
   ]
  },
  {
   "attachments": {},
   "cell_type": "markdown",
   "metadata": {},
   "source": [
    "2) What is the relationship between generators and iterators?"
   ]
  },
  {
   "attachments": {},
   "cell_type": "markdown",
   "metadata": {},
   "source": [
    "Soln: the generator uses a generator function with the yield keyword to produce values. "
   ]
  },
  {
   "attachments": {},
   "cell_type": "markdown",
   "metadata": {},
   "source": [
    "3) What are the signs that a function is a generator function?"
   ]
  },
  {
   "cell_type": "code",
   "execution_count": 7,
   "metadata": {},
   "outputs": [
    {
     "name": "stdout",
     "output_type": "stream",
     "text": [
      "1\n",
      "2\n",
      "3\n",
      "5\n",
      "8\n"
     ]
    }
   ],
   "source": [
    "#presence of 'yield' and function starts with 'def' to recognise the function as generator function \n",
    "# yield suspends the function, stores the value and next time function is called, it starts from previous yielded value \n",
    "\n",
    "def fibonacci_generator():\n",
    "    a,b =1,1\n",
    "    while True:\n",
    "        a,b =b,a+b\n",
    "        yield a\n",
    "\n",
    "fibonacci_obj=fibonacci_generator()\n",
    "print(next(fibonacci_obj))\n",
    "print(next(fibonacci_obj))\n",
    "print(next(fibonacci_obj))\n",
    "print(next(fibonacci_obj))\n",
    "print(next(fibonacci_obj))\n"
   ]
  },
  {
   "attachments": {},
   "cell_type": "markdown",
   "metadata": {},
   "source": [
    "4) What is the purpose of a yield statement?"
   ]
  },
  {
   "cell_type": "code",
   "execution_count": 8,
   "metadata": {},
   "outputs": [
    {
     "name": "stdout",
     "output_type": "stream",
     "text": [
      "1\n",
      "2\n",
      "3\n",
      "5\n",
      "8\n"
     ]
    }
   ],
   "source": [
    "# yield suspends the function, stores the value and next time function is called, it starts from previous yielded value \n",
    "\n",
    "def fibonacci_generator():\n",
    "    a,b =1,1\n",
    "    while True:\n",
    "        a,b =b,a+b\n",
    "        yield a\n",
    "\n",
    "fibonacci_obj=fibonacci_generator()\n",
    "print(next(fibonacci_obj))\n",
    "print(next(fibonacci_obj))\n",
    "print(next(fibonacci_obj))\n",
    "print(next(fibonacci_obj))\n",
    "print(next(fibonacci_obj))\n"
   ]
  },
  {
   "attachments": {},
   "cell_type": "markdown",
   "metadata": {},
   "source": [
    "5) What is the relationship between map calls and list comprehensions? Make a comparison and\n",
    "contrast between the two."
   ]
  },
  {
   "attachments": {},
   "cell_type": "markdown",
   "metadata": {},
   "source": [
    "Soln: Map calls and list comprehensions are both used in Python to apply a transformation or operation to each element of an iterable but the functionality is different \n",
    "\n",
    "map(function, iterable)\n",
    "\n",
    "\n",
    "map(lambda x: x**2 for x in some_list , some_list) ----> returns an iterator and so it needs to be converted to list using list function \n",
    "\n",
    "\n",
    "list comprehesion = [x**2 for x in some_list ] -----> gives a list only directly "
   ]
  },
  {
   "cell_type": "code",
   "execution_count": 11,
   "metadata": {},
   "outputs": [
    {
     "name": "stdout",
     "output_type": "stream",
     "text": [
      "<map object at 0x000001A21C02ECB0>\n",
      "printing list obtained from map funcition \n",
      "[1, 4, 9, 16, 25]\n",
      "printing list comprehension\n",
      "[1, 4, 9, 16, 25]\n"
     ]
    }
   ],
   "source": [
    "some_list=[1,2,3,4,5]\n",
    "\n",
    "val =map((lambda x: x**2 ), some_list)\n",
    "\n",
    "list_comprehesion = [x**2 for x in some_list ]\n",
    "\n",
    "print(val)\n",
    "print( \"printing list obtained from map funcition \")\n",
    "print(list(val))\n",
    "print(\"printing list comprehension\")\n",
    "print(list_comprehesion)"
   ]
  },
  {
   "cell_type": "code",
   "execution_count": null,
   "metadata": {},
   "outputs": [],
   "source": []
  }
 ],
 "metadata": {
  "kernelspec": {
   "display_name": "Python 3",
   "language": "python",
   "name": "python3"
  },
  "language_info": {
   "codemirror_mode": {
    "name": "ipython",
    "version": 3
   },
   "file_extension": ".py",
   "mimetype": "text/x-python",
   "name": "python",
   "nbconvert_exporter": "python",
   "pygments_lexer": "ipython3",
   "version": "3.10.4"
  },
  "orig_nbformat": 4
 },
 "nbformat": 4,
 "nbformat_minor": 2
}
