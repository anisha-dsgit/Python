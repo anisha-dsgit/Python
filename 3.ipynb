{
 "cells": [
  {
   "cell_type": "markdown",
   "id": "68ce56a4",
   "metadata": {},
   "source": [
    "1. functions are easy to call and can be called multiple times.\n",
    "Multiple lines of code can be added to the function and so it helps avoid repetition of same codes. \n",
    "Many other functions can be called within one function with multiple arguments. \n"
   ]
  },
  {
   "cell_type": "markdown",
   "id": "507bf02e",
   "metadata": {},
   "source": [
    "2. function runs when it is called."
   ]
  },
  {
   "cell_type": "markdown",
   "id": "4543027d",
   "metadata": {},
   "source": [
    "3. def creates a function. "
   ]
  },
  {
   "cell_type": "markdown",
   "id": "e372a649",
   "metadata": {},
   "source": [
    "4. function: def function_name(): pass , function call: function_name(arguments)."
   ]
  },
  {
   "cell_type": "markdown",
   "id": "4af2cac9",
   "metadata": {},
   "source": [
    "5. global scope- can be any number, defined outside the function, its value doesn't change at any point of program execution.\n",
    "local scope - defined inside the function so its value changes if it is called with a new value."
   ]
  },
  {
   "cell_type": "markdown",
   "id": "3dd4e63a",
   "metadata": {},
   "source": [
    "6.local scope - defined inside the function so its value changes if it is called with a new value everytime the function executes."
   ]
  },
  {
   "cell_type": "markdown",
   "id": "ffa6692b",
   "metadata": {},
   "source": [
    "7. return value gives the result stored inside the function in its defined datatype. It doesn't return 'Nonetype'. return only outputs the value stored inside the function so it can't be used in an expression."
   ]
  },
  {
   "cell_type": "markdown",
   "id": "f223f6d7",
   "metadata": {},
   "source": [
    "8. def func_name():\n",
    "    pass  # is an empty function and doesn't return anything "
   ]
  },
  {
   "cell_type": "markdown",
   "id": "d7ea8b44",
   "metadata": {},
   "source": [
    "9. a=10   #global variable\n",
    "\n",
    "\n",
    "   def func_name(c):\n",
    "        return c*3\n",
    "  \n",
    "  func_name(a) # refers function variable to global variable as you call the global variable in the function."
   ]
  },
  {
   "cell_type": "markdown",
   "id": "548fe736",
   "metadata": {},
   "source": [
    "10. datatype None is 'Nonetype'.\n",
    "\n",
    "\n",
    "11. importing 'areallyourpetsnamederic' imports the module so named in python. (there is no module with such name)\n",
    "\n",
    "\n",
    "12. import spam module\n",
    "    bacon()\n",
    "    bacon() is a pre definedfunction present in module spam. \n"
   ]
  },
  {
   "cell_type": "markdown",
   "id": "34837fd6",
   "metadata": {},
   "source": [
    "13. use try and except clauses to save the program from crashing. \n",
    "\n",
    "\n",
    "14. try clause()- helps in checking the various possibilities and not return an error after executing the function\n",
    "and except clause()- helps in printing the alternate answer if everything in try clause() has been tried.  "
   ]
  },
  {
   "cell_type": "code",
   "execution_count": null,
   "id": "335e35c0",
   "metadata": {},
   "outputs": [],
   "source": []
  }
 ],
 "metadata": {
  "kernelspec": {
   "display_name": "Python 3 (ipykernel)",
   "language": "python",
   "name": "python3"
  },
  "language_info": {
   "codemirror_mode": {
    "name": "ipython",
    "version": 3
   },
   "file_extension": ".py",
   "mimetype": "text/x-python",
   "name": "python",
   "nbconvert_exporter": "python",
   "pygments_lexer": "ipython3",
   "version": "3.9.12"
  }
 },
 "nbformat": 4,
 "nbformat_minor": 5
}
