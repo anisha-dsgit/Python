{
 "cells": [
  {
   "cell_type": "raw",
   "id": "5d8b2884",
   "metadata": {},
   "source": [
    "1. functions are easy to call and can be called multiple times.\n",
    "Multiple lines of code can be added to the function and so it helps avoid repetition of same codes. \n",
    "Many other functions can be called within one function with multiple arguments. \n"
   ]
  },
  {
   "cell_type": "raw",
   "id": "be45d895",
   "metadata": {},
   "source": [
    "2. function runs when it is called."
   ]
  },
  {
   "cell_type": "raw",
   "id": "63a6304e",
   "metadata": {},
   "source": [
    "3. def creates a function. "
   ]
  },
  {
   "cell_type": "raw",
   "id": "a457832f",
   "metadata": {},
   "source": [
    "4. function: def function_name(): pass , function call: function_name(arguments)."
   ]
  },
  {
   "cell_type": "raw",
   "id": "f99c08f3",
   "metadata": {},
   "source": [
    "5. global scope- can be any number, defined outside the function, its value doesn't change at any point of program execution.\n",
    "local scope - defined inside the function so its value changes if it is called with a new value."
   ]
  },
  {
   "cell_type": "raw",
   "id": "98534df6",
   "metadata": {},
   "source": [
    "6.local scope - defined inside the function so its value changes if it is called with a new value everytime the function executes."
   ]
  },
  {
   "cell_type": "raw",
   "id": "65e9e665",
   "metadata": {},
   "source": [
    "7. return value gives the result stored inside the function in its defined datatype. It doesn't return 'Nonetype'. return only outputs the value stored inside the function so it can't be used in an expression."
   ]
  },
  {
   "cell_type": "raw",
   "id": "5a9d9ca9",
   "metadata": {},
   "source": [
    "8. def func_name():\n",
    "    pass  # is an empty function and doesn't return anything "
   ]
  },
  {
   "cell_type": "raw",
   "id": "0ae247a8",
   "metadata": {},
   "source": [
    "# refer function variable to global variable.\n",
    "9."
   ]
  },
  {
   "cell_type": "raw",
   "id": "74861042",
   "metadata": {},
   "source": [
    "10. datatype None is 'Nonetype'.\n",
    "11. importing 'areallyourpetsnamederic' imports the module so named in python. (there is no module with such name)\n",
    "12. import spam module\n",
    "    bacon()\n",
    "    bacon() is a pre definedfunction present in module spam. \n"
   ]
  },
  {
   "cell_type": "raw",
   "id": "dfbff28d",
   "metadata": {},
   "source": [
    "13. use try and except clauses to save the program from crashing. \n",
    "14. try clause()- helps in checking the various possibilities and not return an error after executing the function\n",
    "and except clause()- helps in printing the alternate answer if everything in try clause() has been tried.  "
   ]
  },
  {
   "cell_type": "code",
   "execution_count": 4,
   "id": "05f5d26a",
   "metadata": {},
   "outputs": [
    {
     "data": {
      "text/plain": [
       "'C:\\\\Users\\\\LENOVO'"
      ]
     },
     "execution_count": 4,
     "metadata": {},
     "output_type": "execute_result"
    }
   ],
   "source": [
    "pwd()"
   ]
  },
  {
   "cell_type": "code",
   "execution_count": null,
   "id": "e456d9b3",
   "metadata": {},
   "outputs": [],
   "source": []
  }
 ],
 "metadata": {
  "kernelspec": {
   "display_name": "Python 3 (ipykernel)",
   "language": "python",
   "name": "python3"
  },
  "language_info": {
   "codemirror_mode": {
    "name": "ipython",
    "version": 3
   },
   "file_extension": ".py",
   "mimetype": "text/x-python",
   "name": "python",
   "nbconvert_exporter": "python",
   "pygments_lexer": "ipython3",
   "version": "3.9.12"
  }
 },
 "nbformat": 4,
 "nbformat_minor": 5
}
