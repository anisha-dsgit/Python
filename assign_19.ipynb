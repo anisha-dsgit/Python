{
 "cells": [
  {
   "cell_type": "markdown",
   "id": "4151c121",
   "metadata": {},
   "source": [
    "1. Make a class called Thing with no contents and print it. Then, create an object called example from this class and also print it. Are the printed values the same or different?\n",
    "\n",
    "Soln: these objects are different. "
   ]
  },
  {
   "cell_type": "code",
   "execution_count": 4,
   "id": "d0ec581d",
   "metadata": {},
   "outputs": [
    {
     "name": "stdout",
     "output_type": "stream",
     "text": [
      "<__main__.Thing object at 0x000002354BDD4880>\n",
      "<__main__.Thing object at 0x000002354BDC6B20>\n"
     ]
    }
   ],
   "source": [
    "class Thing:\n",
    "    def __init__(self):\n",
    "        pass\n",
    "    \n",
    "\n",
    "p=Thing()\n",
    "example=Thing()\n",
    "print(p)\n",
    "print(example)"
   ]
  },
  {
   "cell_type": "raw",
   "id": "b2710ac0",
   "metadata": {},
   "source": [
    "2. Create a new class called Thing2 and add the value 'abc' to the letters class attribute. Letters should be printed."
   ]
  },
  {
   "cell_type": "code",
   "execution_count": 46,
   "id": "9599ce47",
   "metadata": {},
   "outputs": [
    {
     "name": "stdout",
     "output_type": "stream",
     "text": [
      "abc\n"
     ]
    }
   ],
   "source": [
    "class Thing2:\n",
    "    def __init__(self,letter):\n",
    "        self.letter=letter\n",
    "    def letters(self):\n",
    "        print(self.letter)\n",
    "        \n",
    "l=Thing2(\"abc\")\n",
    "l.letters()      "
   ]
  },
  {
   "cell_type": "markdown",
   "id": "f82f3bfb",
   "metadata": {},
   "source": [
    "3. Make yet another class called, of course, Thing3. This time, assign the value 'xyz' to an instance (object) attribute called\n",
    "   letters.Print letters. Do you need to make an object from the class to do this?\n",
    "   \n",
    "   Soln: to call any class, we need an object."
   ]
  },
  {
   "cell_type": "code",
   "execution_count": 19,
   "id": "bfb5b4a3",
   "metadata": {},
   "outputs": [
    {
     "name": "stdout",
     "output_type": "stream",
     "text": [
      "xyz\n"
     ]
    }
   ],
   "source": [
    "class Thing3:\n",
    "    def __init__(self):\n",
    "        self.letters='xyz' # creation of instance object : object inside the class\n",
    "        print(self.letters)\n",
    "        \n",
    "l=Thing3()   "
   ]
  },
  {
   "cell_type": "markdown",
   "id": "cd8073f7",
   "metadata": {},
   "source": [
    "4. Create an Element class with the instance attributes name, symbol, and number. Create a class\n",
    "object with the values &#39;Hydrogen,&#39; &#39;H,&#39; and 1.\n"
   ]
  },
  {
   "cell_type": "code",
   "execution_count": 22,
   "id": "5a53b776",
   "metadata": {},
   "outputs": [
    {
     "name": "stdout",
     "output_type": "stream",
     "text": [
      "<__main__.Element object at 0x000002354D0DD1C0>\n"
     ]
    }
   ],
   "source": [
    "class Element:\n",
    "    def __init__(self,name,symbol,number):\n",
    "        self.name=name\n",
    "        self.symbol=symbol\n",
    "        self.number=number\n",
    "\n",
    "\n",
    "E=Element(\"Hydrogen\",\"H\",1)        "
   ]
  },
  {
   "cell_type": "markdown",
   "id": "2f5beed3",
   "metadata": {},
   "source": [
    "5.  Make a dictionary with these keys and values: &#39;name&#39;: &#39;Hydrogen&#39;, &#39;symbol&#39;: &#39;H&#39;, &#39;number&#39;: 1. Then,\n",
    "create an object called hydrogen from class Element using this dictionary."
   ]
  },
  {
   "cell_type": "code",
   "execution_count": 32,
   "id": "1dcb6b66",
   "metadata": {},
   "outputs": [
    {
     "name": "stdout",
     "output_type": "stream",
     "text": [
      "Hydrogen ,from object e\n",
      "Hydrogen\n",
      "H\n",
      "1\n"
     ]
    }
   ],
   "source": [
    "dict_name={'name':'Hydrogen','symbol': 'H', 'number': 1}\n",
    "\n",
    "#way 1\n",
    "e=Element(dict_name['name'],dict_name['symbol'],dict_name['number'])\n",
    "print(e.name , \",from object e\")\n",
    "\n",
    "#way 2\n",
    "hydrogen=Element(**dict_name)\n",
    "print(hydrogen.name)\n",
    "print(hydrogen.symbol)\n",
    "print(hydrogen.number)"
   ]
  },
  {
   "cell_type": "markdown",
   "id": "74689202",
   "metadata": {},
   "source": [
    "6. For the Element class, define a method called dump() that prints the values of the object’s\n",
    "attributes (name, symbol, and number). Create the hydrogen object from this new definition and\n",
    "use dump() to print its attributes."
   ]
  },
  {
   "cell_type": "code",
   "execution_count": 38,
   "id": "85ba8eef",
   "metadata": {},
   "outputs": [
    {
     "name": "stdout",
     "output_type": "stream",
     "text": [
      "Hydrogen\n",
      "H\n",
      "1\n"
     ]
    }
   ],
   "source": [
    "class Element:\n",
    "    def __init__(self,name, symbol,number):\n",
    "        self.name=name\n",
    "        self.symbol=symbol\n",
    "        self.number=number\n",
    "    def dump(self):\n",
    "        print(self.name)\n",
    "        print(self.symbol)\n",
    "        print(self.number)\n",
    "        \n",
    "        \n",
    "hydrogen=Element(\"Hydrogen\",\"H\",1)\n",
    "hydrogen.dump()"
   ]
  },
  {
   "cell_type": "markdown",
   "id": "fbcc7248",
   "metadata": {},
   "source": [
    "7. Call print(hydrogen). In the definition of Element, change the name of method dump to __str__,\n",
    "create a new hydrogen object, and call print(hydrogen) again.\n"
   ]
  },
  {
   "cell_type": "code",
   "execution_count": 45,
   "id": "09f80940",
   "metadata": {},
   "outputs": [
    {
     "name": "stdout",
     "output_type": "stream",
     "text": [
      "<__main__.Element object at 0x000002354CF823D0>\n",
      "Hydrogen\n",
      "H\n",
      "1\n",
      "<__main__.Element object at 0x000002354CF5ED90>\n"
     ]
    }
   ],
   "source": [
    "print(hydrogen)\n",
    "\n",
    "setattr(hydrogen, \"str\", hydrogen.dump)\n",
    "hydrogen.str()\n",
    "\n",
    "hydrogen =Element(\"Hydrogen\",\"H\",1)\n",
    "print(hydrogen)\n"
   ]
  },
  {
   "cell_type": "markdown",
   "id": "e4d03789",
   "metadata": {},
   "source": [
    "8. Modify Element to make the attributes name, symbol, and number private. Define a getter\n",
    "   property for each to return its value.\n",
    "\n",
    "   Soln: getter properties are accessed as properties not methods, so no need for parantheses. "
   ]
  },
  {
   "cell_type": "code",
   "execution_count": 59,
   "id": "8c7eaa63",
   "metadata": {},
   "outputs": [
    {
     "name": "stdout",
     "output_type": "stream",
     "text": [
      "Hydrogen\n",
      "H\n",
      "1\n"
     ]
    }
   ],
   "source": [
    "class Element:\n",
    "    def __init__(self,name,symbol,number):\n",
    "        self.__name=name\n",
    "        self.__symbol=symbol\n",
    "        self.__number=number\n",
    "    \n",
    "    @property   \n",
    "    def value_name(self):\n",
    "        return self.__name\n",
    "    @property\n",
    "    def value_symbol(self):\n",
    "        return self.__symbol\n",
    "    @property\n",
    "    def value_number(self):\n",
    "        return self.__number\n",
    "    \n",
    "hydrogen=Element(\"Hydrogen\",\"H\",1)\n",
    "print(hydrogen.value_name)\n",
    "print(hydrogen.value_symbol)\n",
    "print(hydrogen.value_number)"
   ]
  },
  {
   "cell_type": "markdown",
   "id": "a4d73cc9",
   "metadata": {},
   "source": [
    "9. Define three classes: Bear, Rabbit, and Octothorpe. For each, define only one method: eats(). This\n",
    "should return &#39;berries&#39; (Bear), &#39;clover&#39; (Rabbit), or &#39;campers&#39; (Octothorpe). Create one object from\n",
    "each and print what it eats.\n"
   ]
  },
  {
   "cell_type": "code",
   "execution_count": 63,
   "id": "99eca55a",
   "metadata": {},
   "outputs": [
    {
     "name": "stdout",
     "output_type": "stream",
     "text": [
      "berries\n",
      "clover\n",
      "campers\n"
     ]
    }
   ],
   "source": [
    "#way 1 : initialising is required when we want to print a class with user defined variables\n",
    "class Bear:\n",
    "    def __init__(self):\n",
    "        self.x='berries'\n",
    "        \n",
    "    def eats(self):\n",
    "        return self.x\n",
    "\n",
    "class Rabbit:\n",
    "    def __init__(self):\n",
    "        self.x='clover'\n",
    "        \n",
    "    def eats(self):\n",
    "        return self.x\n",
    "    \n",
    "class Octothorpe:\n",
    "    def __init__(self):\n",
    "        self.x='campers'\n",
    "        \n",
    "    def eats(self):\n",
    "        return self.x\n",
    "        \n",
    "B=Bear()\n",
    "R=Rabbit()\n",
    "O=Octothorpe()\n",
    "\n",
    "print(B.eats())\n",
    "print(R.eats())\n",
    "print(O.eats())"
   ]
  },
  {
   "cell_type": "code",
   "execution_count": 65,
   "id": "4166e52c",
   "metadata": {},
   "outputs": [
    {
     "name": "stdout",
     "output_type": "stream",
     "text": [
      "Bear eats berries\n",
      "Rabbit eats clover\n",
      "Octothorpe eats campers\n"
     ]
    }
   ],
   "source": [
    "#way 2 : we are only printing values and initilisation not required\n",
    "class Bear:\n",
    "    def eats(self):\n",
    "        return 'berries'\n",
    "\n",
    "class Rabbit:\n",
    "    def eats(self):\n",
    "        return 'clover'\n",
    "\n",
    "class Octothorpe:\n",
    "    def eats(self):\n",
    "        return 'campers'\n",
    "\n",
    "bear = Bear()\n",
    "rabbit = Rabbit()\n",
    "octo = Octothorpe()\n",
    "\n",
    "print('Bear eats', bear.eats())\n",
    "print('Rabbit eats', rabbit.eats())\n",
    "print('Octothorpe eats', octo.eats())\n"
   ]
  },
  {
   "cell_type": "markdown",
   "id": "a435956e",
   "metadata": {},
   "source": [
    "10. Define these classes: Laser, Claw, and SmartPhone. Each has only one method: does(). This\n",
    "returns &#39;disintegrate&#39; (Laser), &#39;crush&#39; (Claw), or &#39;ring&#39; (SmartPhone). Then, define the class Robot that\n",
    "has one instance (object) of each of these. Define a does() method for the Robot that prints what its\n",
    "component objects do."
   ]
  },
  {
   "cell_type": "code",
   "execution_count": 73,
   "id": "aa10fef2",
   "metadata": {},
   "outputs": [
    {
     "name": "stdout",
     "output_type": "stream",
     "text": [
      "disintegrate\n",
      "crush\n",
      "ring\n"
     ]
    }
   ],
   "source": [
    "class Laser:\n",
    "    def does(self):\n",
    "        return \"disintegrate\"\n",
    "\n",
    "class Claw:\n",
    "    def does(self):\n",
    "        return \"crush\"\n",
    "    \n",
    "class Smartphone:\n",
    "    def does(self):\n",
    "        return \"ring\"\n",
    "    \n",
    "\n",
    "class Robot:\n",
    "    def __init__(self):\n",
    "        self.l=Laser()\n",
    "        self.c=Claw()\n",
    "        self.s=Smartphone()\n",
    "    \n",
    "    def does(self):\n",
    "        print(self.l.does())\n",
    "        print(self.c.does())\n",
    "        print(self.s.does())\n",
    "\n",
    "r=Robot()\n",
    "r.does()"
   ]
  },
  {
   "cell_type": "code",
   "execution_count": null,
   "id": "053db02b",
   "metadata": {},
   "outputs": [],
   "source": []
  }
 ],
 "metadata": {
  "kernelspec": {
   "display_name": "Python 3 (ipykernel)",
   "language": "python",
   "name": "python3"
  },
  "language_info": {
   "codemirror_mode": {
    "name": "ipython",
    "version": 3
   },
   "file_extension": ".py",
   "mimetype": "text/x-python",
   "name": "python",
   "nbconvert_exporter": "python",
   "pygments_lexer": "ipython3",
   "version": "3.9.12"
  }
 },
 "nbformat": 4,
 "nbformat_minor": 5
}
