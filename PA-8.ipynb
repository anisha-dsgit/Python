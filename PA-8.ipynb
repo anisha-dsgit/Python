{
 "cells": [
  {
   "attachments": {},
   "cell_type": "markdown",
   "metadata": {},
   "source": [
    "1. Write a Python Program to Add Two Matrices?\n",
    "2. Write a Python Program to Multiply Two Matrices?\n",
    "3. Write a Python Program to Transpose a Matrix?\n",
    "4. Write a Python Program to Sort Words in Alphabetic Order?\n",
    "5. Write a Python Program to Remove Punctuation From a String?\n"
   ]
  },
  {
   "cell_type": "code",
   "execution_count": 6,
   "metadata": {},
   "outputs": [
    {
     "name": "stdout",
     "output_type": "stream",
     "text": [
      "The quick  brown  fox  jumps  over lazy dogs \n"
     ]
    }
   ],
   "source": [
    "#solution to 5\n",
    "string=\"The quick' brown! fox, jumps; over lazy dogs!\"\n",
    "#make a list of all special characters , if any of the characters in string matches with one found in the list, replace it with blank. \n",
    "punctuation_list=[\"'\", \",\", \"!\", \";\"]\n",
    "for i in punctuation_list:\n",
    "    if i in string:\n",
    "        string= string.replace(i,\" \")\n",
    "print(string)\n",
    "    "
   ]
  },
  {
   "cell_type": "code",
   "execution_count": 26,
   "metadata": {},
   "outputs": [
    {
     "name": "stdout",
     "output_type": "stream",
     "text": [
      "['brown', 'dogs.', 'fox', 'jumps', 'lazy', 'over', 'quick', 'the']\n"
     ]
    }
   ],
   "source": [
    "#solution to 4\n",
    "string=\"The quick brown fox jumps over lazy dogs.\"\n",
    "string=string.lower()\n",
    "sorted_string=sorted(string.split())\n",
    "print(sorted_string)\n"
   ]
  },
  {
   "cell_type": "code",
   "execution_count": 8,
   "metadata": {},
   "outputs": [
    {
     "name": "stdout",
     "output_type": "stream",
     "text": [
      "[[1 2 3]\n",
      " [4 4 5]\n",
      " [6 7 8]]\n",
      "[[1 4 6]\n",
      " [2 4 7]\n",
      " [3 5 8]]\n"
     ]
    }
   ],
   "source": [
    "#solution to 3\n",
    "import numpy as np\n",
    "a=[[1,2,3],[4,4,5],[6,7,8]]\n",
    "mat1=np.mat(data=a)\n",
    "matt=np.transpose(mat1)\n",
    "print(mat1)\n",
    "print(matt)"
   ]
  },
  {
   "cell_type": "code",
   "execution_count": 5,
   "metadata": {},
   "outputs": [
    {
     "name": "stdout",
     "output_type": "stream",
     "text": [
      "[[1 2 3]\n",
      " [4 4 5]\n",
      " [6 7 8]]\n",
      "[[ 30 237  21]\n",
      " [ 58 402  42]\n",
      " [ 95 642  66]]\n"
     ]
    }
   ],
   "source": [
    "#solution to 2\n",
    "import numpy as np\n",
    "a=[[1,2,3],[4,4,5],[6,7,8]]\n",
    "mat1=np.mat(data=a)\n",
    "print(mat1)\n",
    "b=[[2,3,3],[5,0,0],[6,78,6]]\n",
    "mat2= np.mat(b)\n",
    "print(np.dot(mat1,mat2))\n"
   ]
  },
  {
   "cell_type": "code",
   "execution_count": 6,
   "metadata": {},
   "outputs": [
    {
     "name": "stdout",
     "output_type": "stream",
     "text": [
      "[[1 2 3]\n",
      " [4 4 5]\n",
      " [6 7 8]]\n",
      "[[ 3  5  6]\n",
      " [ 9  4  5]\n",
      " [12 85 14]]\n"
     ]
    }
   ],
   "source": [
    "#solution to 1\n",
    "import numpy as np\n",
    "a=[[1,2,3],[4,4,5],[6,7,8]]\n",
    "mat1=np.mat(data=a)\n",
    "print(mat1)\n",
    "b=[[2,3,3],[5,0,0],[6,78,6]]\n",
    "mat2= np.mat(b)\n",
    "print(mat1 +mat2)\n"
   ]
  },
  {
   "cell_type": "code",
   "execution_count": null,
   "metadata": {},
   "outputs": [],
   "source": []
  }
 ],
 "metadata": {
  "kernelspec": {
   "display_name": "Python 3",
   "language": "python",
   "name": "python3"
  },
  "language_info": {
   "codemirror_mode": {
    "name": "ipython",
    "version": 3
   },
   "file_extension": ".py",
   "mimetype": "text/x-python",
   "name": "python",
   "nbconvert_exporter": "python",
   "pygments_lexer": "ipython3",
   "version": "3.10.4"
  },
  "orig_nbformat": 4
 },
 "nbformat": 4,
 "nbformat_minor": 2
}
