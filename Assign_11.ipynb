{
 "cells": [
  {
   "cell_type": "markdown",
   "id": "b2a19364",
   "metadata": {},
   "source": [
    "Q1. Create an assert statement that throws an AssertionError if the variable spam is a negative\n",
    "integer."
   ]
  },
  {
   "cell_type": "code",
   "execution_count": 13,
   "id": "7250fa22",
   "metadata": {},
   "outputs": [
    {
     "name": "stdout",
     "output_type": "stream",
     "text": [
      "enter any value -9\n"
     ]
    },
    {
     "ename": "AssertionError",
     "evalue": "spam is negative",
     "output_type": "error",
     "traceback": [
      "\u001b[1;31m---------------------------------------------------------------------------\u001b[0m",
      "\u001b[1;31mAssertionError\u001b[0m                            Traceback (most recent call last)",
      "Input \u001b[1;32mIn [13]\u001b[0m, in \u001b[0;36m<cell line: 7>\u001b[1;34m()\u001b[0m\n\u001b[0;32m      3\u001b[0m     \u001b[38;5;28;01mreturn\u001b[39;00m \u001b[38;5;124m\"\u001b[39m\u001b[38;5;124mspam is positive\u001b[39m\u001b[38;5;124m\"\u001b[39m\n\u001b[0;32m      5\u001b[0m spam\u001b[38;5;241m=\u001b[39m\u001b[38;5;28mint\u001b[39m(\u001b[38;5;28minput\u001b[39m(\u001b[38;5;124m\"\u001b[39m\u001b[38;5;124menter any value \u001b[39m\u001b[38;5;124m\"\u001b[39m))\n\u001b[1;32m----> 7\u001b[0m \u001b[43mmarks\u001b[49m\u001b[43m(\u001b[49m\u001b[43mspam\u001b[49m\u001b[43m)\u001b[49m\n",
      "Input \u001b[1;32mIn [13]\u001b[0m, in \u001b[0;36mmarks\u001b[1;34m(spam)\u001b[0m\n\u001b[0;32m      1\u001b[0m \u001b[38;5;28;01mdef\u001b[39;00m \u001b[38;5;21mmarks\u001b[39m(spam):\n\u001b[1;32m----> 2\u001b[0m     \u001b[38;5;28;01massert\u001b[39;00m (spam \u001b[38;5;241m>\u001b[39m \u001b[38;5;241m0\u001b[39m) \u001b[38;5;129;01mor\u001b[39;00m (spam\u001b[38;5;241m==\u001b[39m\u001b[38;5;241m0\u001b[39m) , \u001b[38;5;124m\"\u001b[39m\u001b[38;5;124mspam is negative\u001b[39m\u001b[38;5;124m\"\u001b[39m\n\u001b[0;32m      3\u001b[0m     \u001b[38;5;28;01mreturn\u001b[39;00m \u001b[38;5;124m\"\u001b[39m\u001b[38;5;124mspam is positive\u001b[39m\u001b[38;5;124m\"\u001b[39m\n",
      "\u001b[1;31mAssertionError\u001b[0m: spam is negative"
     ]
    }
   ],
   "source": [
    "def marks(spam):\n",
    "    assert (spam > 0) or (spam==0) , \"spam is negative\"\n",
    "    return \"spam is positive\"\n",
    "\n",
    "spam=int(input(\"enter any value \"))\n",
    "\n",
    "marks(spam)"
   ]
  },
  {
   "cell_type": "markdown",
   "id": "b93f186c",
   "metadata": {},
   "source": [
    "2. Write an assert statement that triggers an AssertionError if the variables eggs and bacon contain\n",
    "strings that are the same as each other, even if their cases are different (that is, hello and hello are\n",
    "considered the same, and goodbye and GOODbye are also considered the same)."
   ]
  },
  {
   "cell_type": "code",
   "execution_count": 14,
   "id": "4f848ab7",
   "metadata": {},
   "outputs": [
    {
     "data": {
      "text/plain": [
       "'strings are same'"
      ]
     },
     "execution_count": 14,
     "metadata": {},
     "output_type": "execute_result"
    }
   ],
   "source": [
    "\n",
    "import re\n",
    "\n",
    "eggs = \"goodbye\"\n",
    "bacon= r\"GOODbye\"\n",
    "\n",
    "def string_check(eggs,bacon):\n",
    "        assert (re.search(bacon, eggs, re.IGNORECASE)), \"strings are not same\"\n",
    "        return \"strings are same\"\n",
    "\n",
    "string_check(eggs,bacon)\n"
   ]
  },
  {
   "cell_type": "markdown",
   "id": "e5289184",
   "metadata": {},
   "source": [
    "3. Create an assert statement that throws an AssertionError every time."
   ]
  },
  {
   "cell_type": "code",
   "execution_count": 15,
   "id": "cbb3a4ac",
   "metadata": {},
   "outputs": [
    {
     "ename": "AssertionError",
     "evalue": "error",
     "output_type": "error",
     "traceback": [
      "\u001b[1;31m---------------------------------------------------------------------------\u001b[0m",
      "\u001b[1;31mAssertionError\u001b[0m                            Traceback (most recent call last)",
      "Input \u001b[1;32mIn [15]\u001b[0m, in \u001b[0;36m<cell line: 4>\u001b[1;34m()\u001b[0m\n\u001b[0;32m      2\u001b[0m     \u001b[38;5;28;01massert\u001b[39;00m \u001b[38;5;28;01mFalse\u001b[39;00m, \u001b[38;5;124m\"\u001b[39m\u001b[38;5;124merror\u001b[39m\u001b[38;5;124m\"\u001b[39m\n\u001b[0;32m      3\u001b[0m     \u001b[38;5;28;01mreturn\u001b[39;00m \u001b[38;5;28;01mFalse\u001b[39;00m\n\u001b[1;32m----> 4\u001b[0m \u001b[43mstatement\u001b[49m\u001b[43m(\u001b[49m\u001b[43m)\u001b[49m\n",
      "Input \u001b[1;32mIn [15]\u001b[0m, in \u001b[0;36mstatement\u001b[1;34m()\u001b[0m\n\u001b[0;32m      1\u001b[0m \u001b[38;5;28;01mdef\u001b[39;00m \u001b[38;5;21mstatement\u001b[39m():\n\u001b[1;32m----> 2\u001b[0m     \u001b[38;5;28;01massert\u001b[39;00m \u001b[38;5;28;01mFalse\u001b[39;00m, \u001b[38;5;124m\"\u001b[39m\u001b[38;5;124merror\u001b[39m\u001b[38;5;124m\"\u001b[39m\n\u001b[0;32m      3\u001b[0m     \u001b[38;5;28;01mreturn\u001b[39;00m \u001b[38;5;28;01mFalse\u001b[39;00m\n",
      "\u001b[1;31mAssertionError\u001b[0m: error"
     ]
    }
   ],
   "source": [
    "\n",
    "def statement():\n",
    "    assert False, \"error\"\n",
    "    return False\n",
    "statement()\n",
    "    \n",
    "#since we are returning false , the function prints an assertion error everytime "
   ]
  },
  {
   "cell_type": "markdown",
   "id": "b1633ef8",
   "metadata": {},
   "source": [
    "\n",
    " 4. What are the two lines that must be present in your software in order to call logging.debug()?\n"
   ]
  },
  {
   "cell_type": "code",
   "execution_count": 31,
   "id": "7934204b",
   "metadata": {},
   "outputs": [],
   "source": [
    "import logging \n",
    "\n",
    "logging.basicConfig(level=logging.DEBUG )\n",
    "# without configuration of where to save files we can not store log messages\n",
    "\n",
    "logging.debug(\"this is a debug message\")\n",
    "#basicConfig is added with level and then debug is found. "
   ]
  },
  {
   "cell_type": "markdown",
   "id": "74ea5e8b",
   "metadata": {},
   "source": [
    "5. What are the two lines that your program must have in order to have logging.debug() send a\n",
    "logging message to a file named programLog.txt?"
   ]
  },
  {
   "cell_type": "code",
   "execution_count": 25,
   "id": "b660c0ab",
   "metadata": {},
   "outputs": [
    {
     "name": "stderr",
     "output_type": "stream",
     "text": [
      "WARNING:root:this is the error message passed to programLog.txt\n"
     ]
    }
   ],
   "source": [
    "import logging \n",
    "\n",
    "logging.basicConfig(filename=\"programLog.txt\",filemode='a',level=logging.DEBUG )\n",
    "#we need a place to store log messages so it is required and then the logging message to be sent to the respective file.\n",
    "logging.debug(\"this is a debug message\")"
   ]
  },
  {
   "cell_type": "markdown",
   "id": "30c16654",
   "metadata": {},
   "source": [
    "6. What are the five levels of logging?\n",
    "\n"
   ]
  },
  {
   "cell_type": "code",
   "execution_count": 27,
   "id": "aae4b3da",
   "metadata": {},
   "outputs": [
    {
     "name": "stderr",
     "output_type": "stream",
     "text": [
      "WARNING:root:this is warning message\n",
      "ERROR:root:this is error message\n",
      "CRITICAL:root:this is critical error message\n"
     ]
    },
    {
     "data": {
      "text/plain": [
       "'given are the 5 level of logging with their increasing severity but debug and info get logged after the warning is logged.'"
      ]
     },
     "execution_count": 27,
     "metadata": {},
     "output_type": "execute_result"
    }
   ],
   "source": [
    "import logging\n",
    "\n",
    "logging.debug(\"this is debug message\")\n",
    "logging.info(\"this is info message\")\n",
    "logging.warning(\"this is warning message\")\n",
    "logging.error(\"this is error message\")\n",
    "logging.critical(\"this is critical error message\")\n",
    "\n",
    "\"given are the 5 level of logging with their increasing severity but debug and info get logged after the warning is logged.\""
   ]
  },
  {
   "cell_type": "markdown",
   "id": "02a7bddd",
   "metadata": {},
   "source": [
    "\n",
    "7. What line of code would you add to your software to disable all logging messages?"
   ]
  },
  {
   "cell_type": "code",
   "execution_count": 32,
   "id": "2f394015",
   "metadata": {},
   "outputs": [],
   "source": [
    "import logging\n",
    "\n",
    "logging.disable(logging.CRITICAL)"
   ]
  },
  {
   "cell_type": "markdown",
   "id": "6391d327",
   "metadata": {},
   "source": [
    "8.Why is using logging messages better than using print() to display the same message?"
   ]
  },
  {
   "cell_type": "markdown",
   "id": "c0a619d7",
   "metadata": {},
   "source": [
    "1. Easy to see where and when (even what line no.) a logging call is being made from.\n",
    "2. You can log to files, sockets, pretty much anything, all at the same time.\n",
    "3. You can differentiate your logging based on severity.\n",
    "4. we can easily turn it on or off.\n",
    "5. we can get as much information as we want \n",
    "6. any time you're dealing with errors more complex that syntax errors, a logger will probably simplifies that for you."
   ]
  },
  {
   "cell_type": "markdown",
   "id": "22dcbf11",
   "metadata": {},
   "source": [
    "9. What are the differences between the Step Over, Step In, and Step Out buttons in the debugger?"
   ]
  },
  {
   "cell_type": "markdown",
   "id": "3bed3491",
   "metadata": {},
   "source": [
    "   Step Over: This button allows you to execute the current line of code and then move to the next line of code.If the current                line of code contains a function call, the function call is executed, but the debugger does not stop at the first                line of the called function. Instead, it continues to execute the remaining lines of code in the current function.\n",
    "\n",
    "   Step In: This button allows you to step into a function call and execute the first line of code in the called function. If                the called function has any additional function calls, the debugger stops at the first line of code in the called                function.\n",
    "\n",
    "   Step Out: This button allows you to step out of the current function and return to the calling function. If the current                    function has any remaining lines of code after the function call, the debugger executes those lines before                      returning to the calling function."
   ]
  },
  {
   "cell_type": "markdown",
   "id": "fbc6b7d1",
   "metadata": {},
   "source": [
    "10. After you click Continue, when will the debugger stop ?"
   ]
  },
  {
   "cell_type": "markdown",
   "id": "6e112590",
   "metadata": {},
   "source": [
    "   when you click the \"Continue\" button in a debugger, the debugger will continue executing your program without interruption      until it encounters a breakpoint, an unhandled exception, or a signal or system event that causes it to stop."
   ]
  },
  {
   "cell_type": "markdown",
   "id": "6369f850",
   "metadata": {},
   "source": [
    "11. What is the concept of a breakpoint?"
   ]
  },
  {
   "cell_type": "markdown",
   "id": "eb7bcdfe",
   "metadata": {},
   "source": [
    "A breakpoint is a tool in a debugger that allows you to pause the execution of your program at a specific point in your code. This helps you examine the program's state, check the values of variables, and step through your code line by line. By setting breakpoints in strategic locations, you can quickly identify and fix bugs in your code.\n",
    "\n",
    "To set a breakpoint\n",
    "\n",
    "right-click the line and select Set Breakpoint from the context menu"
   ]
  },
  {
   "cell_type": "raw",
   "id": "8fe7f249",
   "metadata": {},
   "source": []
  },
  {
   "cell_type": "markdown",
   "id": "7a04fe44",
   "metadata": {},
   "source": [
    "## Debugging \n",
    "used to remove errors from the program.\n",
    "\n",
    "There are various tools to debug the code \n",
    "1. raise exception - added within Try and except clause so that the program doesn't crash and displays the error as well. \n",
    "2. assert to add the assertion error as soon as the condition mentioned in it fails \n",
    "3. logging - to know what is happening in the program and in what order \n",
    "4. In IDLE software - we use step in, step through, breakpoint, continue\n"
   ]
  },
  {
   "cell_type": "markdown",
   "id": "de47ec6c",
   "metadata": {},
   "source": [
    "## Raise exceptions \n",
    "example:\n",
    "\n",
    "def func():\n",
    "    if len==1:\n",
    "      raise Exception(\"len must be greater than 1\")\n",
    "\n",
    "\n",
    "\n",
    "\n",
    "## assertions\n",
    "\n",
    "Assertions are boolean expressions that check if the conditions return true or not. \n",
    "If it is true, the program does nothing and moves to the next line, doesn't show the error.  \n",
    "if it's false, the program stops and throws an error.\n",
    "It is also a debugging tool as it halts the program as soon as an error occurs and displays it.\n",
    "\n",
    "example:\n",
    "\n",
    "def marks(spam):\n",
    "    assert (spam > 0) or (spam==0) , \"spam is negative\"\n",
    "    return \"spam is positive\"\n",
    "\n",
    "spam=int(input(\"enter any value \"))\n",
    "\n",
    "marks(spam)\n",
    "\n",
    "## logging \n",
    "\n",
    "\n",
    "By logging useful data from the right places, you can not only debug errors easily but also use the data to analyze the performance of the application to plan for scaling or look at usage patterns to plan for marketing.\n",
    "\n",
    "\n"
   ]
  },
  {
   "cell_type": "code",
   "execution_count": null,
   "id": "ada90c2c",
   "metadata": {},
   "outputs": [],
   "source": []
  }
 ],
 "metadata": {
  "kernelspec": {
   "display_name": "Python 3 (ipykernel)",
   "language": "python",
   "name": "python3"
  },
  "language_info": {
   "codemirror_mode": {
    "name": "ipython",
    "version": 3
   },
   "file_extension": ".py",
   "mimetype": "text/x-python",
   "name": "python",
   "nbconvert_exporter": "python",
   "pygments_lexer": "ipython3",
   "version": "3.9.12"
  }
 },
 "nbformat": 4,
 "nbformat_minor": 5
}
