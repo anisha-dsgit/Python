{
 "cells": [
  {
   "attachments": {},
   "cell_type": "markdown",
   "metadata": {},
   "source": [
    "1. Write a Python Program to Display Fibonacci Sequence Using Recursion?\n",
    "2. Write a Python Program to Find Factorial of Number Using Recursion?\n",
    "3. Write a Python Program to calculate your Body Mass Index?\n",
    "4. Write a Python Program to calculate the natural logarithm of any number?\n",
    "5. Write a Python Program for cube sum of first n natural numbers?"
   ]
  },
  {
   "cell_type": "code",
   "execution_count": 1,
   "metadata": {},
   "outputs": [],
   "source": [
    "#Solution to 1: \n",
    "#fibonacci sequence 1,2,3,5,8,13,21,34,...\n",
    "def fibonacci(n):\n",
    "    if n<=0:\n",
    "      return 0\n",
    "    elif n==1:\n",
    "      return 1\n",
    "    else:\n",
    "      return fibonacci(n-1)+fibonacci(n-2)\n",
    "  \n",
    "n=int(input(\"enter end of sequence\"))\n",
    "for i in range(n):\n",
    "  print(fibonacci(i))\n",
    "     "
   ]
  },
  {
   "cell_type": "code",
   "execution_count": null,
   "metadata": {},
   "outputs": [
    {
     "data": {
      "text/plain": [
       "120"
      ]
     },
     "execution_count": 1,
     "metadata": {},
     "output_type": "execute_result"
    }
   ],
   "source": [
    "#solution to 2: \n",
    "#factorial of n = n*n-1*n-2*n-3...n-(n-1)\n",
    "def factorial(n):\n",
    "    if n==1:\n",
    "        return n\n",
    "    else:\n",
    "        return n*factorial(n-1)\n",
    "\n",
    "factorial(5)"
   ]
  },
  {
   "cell_type": "code",
   "execution_count": null,
   "metadata": {},
   "outputs": [],
   "source": [
    "#solution to 3:\n",
    "weight = int(input(\"enter your weight\"))\n",
    "height= int(input(\"enter your height in meters\"))\n",
    "bmi=(weight/(height**2))*100\n",
    "\n",
    "def bmi_calculator(bmi):\n",
    "    if bmi< 18.5:\n",
    "        return \"underweight\"\n",
    "    elif 18.5<bmi and bmi<24:\n",
    "        return \"normal\"\n",
    "    elif 25<bmi and bmi <29.9:\n",
    "        return \"overweight\"\n",
    "    else:\n",
    "        return \"obese\"\n",
    "    \n",
    "print(bmi, bmi_calculator(bmi))\n"
   ]
  },
  {
   "cell_type": "code",
   "execution_count": null,
   "metadata": {},
   "outputs": [],
   "source": [
    "# solution to 5 :\n",
    "n= int(input(\"enter the end of natural numbers \"))\n",
    "l_3=[i**3 for i in range(1,n+1)]\n",
    "print(l_3)\n",
    "sum_n=0\n",
    "for j in l_3:\n",
    "    sum_n=j+sum_n\n",
    "print(sum_n)"
   ]
  },
  {
   "cell_type": "code",
   "execution_count": null,
   "metadata": {},
   "outputs": [],
   "source": [
    "#solution to 4:\n",
    "import math \n",
    "n= int(input(\"enter the natural number \"))\n",
    "log_n= math.log(n)\n",
    "print(log_n)\n"
   ]
  }
 ],
 "metadata": {
  "kernelspec": {
   "display_name": "Python 3",
   "language": "python",
   "name": "python3"
  },
  "language_info": {
   "codemirror_mode": {
    "name": "ipython",
    "version": 3
   },
   "file_extension": ".py",
   "mimetype": "text/x-python",
   "name": "python",
   "nbconvert_exporter": "python",
   "pygments_lexer": "ipython3",
   "version": "3.10.4"
  },
  "orig_nbformat": 4
 },
 "nbformat": 4,
 "nbformat_minor": 2
}
