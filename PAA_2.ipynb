{
  "nbformat": 4,
  "nbformat_minor": 0,
  "metadata": {
    "colab": {
      "provenance": [],
      "authorship_tag": "ABX9TyPkwVU24NzAjwVYIOH2BEzq",
      "include_colab_link": true
    },
    "kernelspec": {
      "name": "python3",
      "display_name": "Python 3"
    },
    "language_info": {
      "name": "python"
    }
  },
  "cells": [
    {
      "cell_type": "markdown",
      "metadata": {
        "id": "view-in-github",
        "colab_type": "text"
      },
      "source": [
        "<a href=\"https://colab.research.google.com/github/anisha-dsgit/Python/blob/main/PAA_2.ipynb\" target=\"_parent\"><img src=\"https://colab.research.google.com/assets/colab-badge.svg\" alt=\"Open In Colab\"/></a>"
      ]
    },
    {
      "cell_type": "markdown",
      "source": [
        "Q1. What is the relationship between classes and modules?\n",
        "\n",
        "Q2. How do you make instances and classes?\n",
        "\n",
        "Q3. Where and how should be class attributes created?\n",
        "\n",
        "Q4. Where and how are instance attributes created?\n",
        "\n",
        "Q5. What does the term &quot;self&quot; in a Python class mean?\n",
        "\n",
        "Q6. How does a Python class handle operator overloading?\n",
        "\n",
        "Q7. When do you consider allowing operator overloading of your classes?\n",
        "\n",
        "Q8. What is the most popular form of operator overloading?\n",
        "\n",
        "Q9. What are the two most important concepts to grasp in order to comprehend Python OOP code?"
      ],
      "metadata": {
        "id": "Qj3AkM42ZG0o"
      }
    },
    {
      "cell_type": "code",
      "source": [],
      "metadata": {
        "id": "QtRJQnqAkzPk"
      },
      "execution_count": null,
      "outputs": []
    },
    {
      "cell_type": "markdown",
      "source": [
        "# solution to 8\n",
        "Popular forms of operator overloading are:\n",
        "__add__ ,\n",
        "__sub__ , \n",
        "__len__ , \n",
        "eg: find the number of items in a shopping cart made by a certain customer \n",
        "\n"
      ],
      "metadata": {
        "id": "geyQIK5Zk0MZ"
      }
    },
    {
      "cell_type": "code",
      "source": [
        "class Cart():\n",
        "  def __init__(self,customer_name):\n",
        "    self.customer_name= customer_name \n",
        "\n",
        "  def __len__(self, args):\n",
        "    return len(self.args)\n",
        "  \n",
        "  def cart(self,*args):\n",
        "    if len(self.args)>1:\n",
        "      total_items_in_cart=len(args)\n",
        "      return total_items_in_cart\n",
        "    else:\n",
        "      return f\"the cart is empty\"\n",
        "\n",
        "\n",
        "cart1=Cart('Rahul')\n",
        "cart1.cart(['apple','banana','lemon'])\n",
        "\n"
      ],
      "metadata": {
        "id": "X7I6D-zXkm-O",
        "colab": {
          "base_uri": "https://localhost:8080/",
          "height": 36
        },
        "outputId": "22357938-abc3-4714-8ae5-0040292a44c7"
      },
      "execution_count": null,
      "outputs": [
        {
          "output_type": "execute_result",
          "data": {
            "text/plain": [
              "'the cart is empty'"
            ],
            "application/vnd.google.colaboratory.intrinsic+json": {
              "type": "string"
            }
          },
          "metadata": {},
          "execution_count": 2
        }
      ]
    },
    {
      "cell_type": "markdown",
      "source": [
        "#solution to 6 :\n",
        "Operator handling is done by using special functions called dunder methods or double underscore methods . Example: __init__  is used to initialise variables \n",
        "in classes. __add__ is used to apply addition operations to strings or vectors or anything in addition to its application in addition of integers or floats\n",
        "There are a lot of functions which make the work easy. \n",
        "\n",
        "example:\n",
        "use of init method:\n",
        "a=10\n",
        "print(a) -- > scope valid till its reassignment \n",
        "\n",
        "class Car():\n",
        "    def __init__(self, a):\n",
        "          self.a=a\n",
        "car1=Car(10)----> remains 10 throughout the scope of the class \n",
        "\n"
      ],
      "metadata": {
        "id": "8WH_CWa3Cwl2"
      }
    },
    {
      "cell_type": "markdown",
      "source": [
        "#solution  to 7:\n",
        "operator overloading is considered when we want to use conventional operations to unconventional varriables. example:\n",
        "'+' operator can be used to add two integers, \n",
        "'+' can be used to concatenate two string,\n",
        "'+' can be used to add two vectors \n"
      ],
      "metadata": {
        "id": "LFM4QugUofIi"
      }
    },
    {
      "cell_type": "markdown",
      "source": [
        "# soltuion to 9 \n",
        "twi most important concepts to comprehend python OOP codes are:\n",
        "1. abstraction : if the variables are private or public\n",
        "2. inheritance: if the objects have been inherited from another class or not. "
      ],
      "metadata": {
        "id": "bdd-2lAehjUt"
      }
    },
    {
      "cell_type": "markdown",
      "source": [
        "# soltuion to 5\n",
        "self is a word used in classes to access any attirbute or any functionality within the domain of the class"
      ],
      "metadata": {
        "id": "Jti-0p33hPMX"
      }
    },
    {
      "cell_type": "code",
      "source": [
        "# solution to 3:\n",
        "# to create class attritbutes\n",
        "\n",
        "class Car():\n",
        "  airbags=4\n",
        "\n",
        "#airbags =4 is defined for all the class attributes\n",
        "#accessing class attributes:\n",
        "\n",
        "car1=Car()\n",
        "print(car1.airbags)\n"
      ],
      "metadata": {
        "colab": {
          "base_uri": "https://localhost:8080/"
        },
        "id": "6NE-ou7QgkAV",
        "outputId": "0cf4e94f-33ab-4e27-bfc3-2f0a52bcd5a2"
      },
      "execution_count": null,
      "outputs": [
        {
          "output_type": "stream",
          "name": "stdout",
          "text": [
            "4\n"
          ]
        }
      ]
    },
    {
      "cell_type": "code",
      "source": [
        "#solution to 4:\n",
        "class Car():\n",
        "\n",
        "  def __init__(self, tyre, engine, windows):\n",
        "          self.tyre=tyre\n",
        "          self.engine=engine\n",
        "          self.windows=windows\n",
        "  def display(self):\n",
        "      return \"these are instance objects\"\n",
        "\n",
        "#accesing instance attirbutes \n",
        "car=Car(4,\"petrol\",2)\n",
        "print(car.tyre)\n",
        "print(car.engine)\n",
        "print(car.windows)\n",
        "print(car.display())\n"
      ],
      "metadata": {
        "colab": {
          "base_uri": "https://localhost:8080/"
        },
        "id": "jbVPgzNoeTtl",
        "outputId": "149fe580-edd9-4258-d6ef-2840945a7784"
      },
      "execution_count": null,
      "outputs": [
        {
          "output_type": "stream",
          "name": "stdout",
          "text": [
            "4\n",
            "petrol\n",
            "2\n",
            "these are instance objects\n"
          ]
        }
      ]
    },
    {
      "cell_type": "markdown",
      "source": [
        "# solution to 2:\n",
        "class School():  \n",
        "      pass --->creates class\n",
        "\n",
        "S=School()\n",
        "print(S) --> creates instance "
      ],
      "metadata": {
        "id": "MM9ScvAVbR8r"
      }
    },
    {
      "cell_type": "markdown",
      "source": [
        "# solution 1:\n",
        "classes are used to define objects having shared characteristics. It can be a set of attributes, functions and variables.These classes can be called multiple times.\n",
        "Modules are those classes which are imported and can be used in a variety of scripts.Example: math module contains a variety of functions and this module can be imported\n",
        " to make the code easy and perform operations faster without writing the module function code again.\n",
        " "
      ],
      "metadata": {
        "id": "mRbQrmbZa6Eq"
      }
    }
  ]
}